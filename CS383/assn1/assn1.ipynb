{
 "cells": [
  {
   "cell_type": "markdown",
   "metadata": {},
   "source": [
    "# Assignment 1"
   ]
  },
  {
   "cell_type": "markdown",
   "metadata": {},
   "source": [
    "## 1. Theory"
   ]
  },
  {
   "cell_type": "markdown",
   "metadata": {},
   "source": [
    "#### 1."
   ]
  },
  {
   "cell_type": "markdown",
   "metadata": {},
   "source": [
    "###### a)"
   ]
  },
  {
   "cell_type": "code",
   "execution_count": 5,
   "metadata": {},
   "outputs": [],
   "source": [
    "import numpy as np"
   ]
  },
  {
   "cell_type": "code",
   "execution_count": 15,
   "metadata": {},
   "outputs": [
    {
     "name": "stdout",
     "output_type": "stream",
     "text": [
      "[[ 1  1  1  1  1  1  1  1  1  1]\n",
      " [-2 -5 -3  0 -8 -2  1  5 -1  6]]\n",
      "[[ 1]\n",
      " [-4]\n",
      " [ 1]\n",
      " [ 3]\n",
      " [11]\n",
      " [ 5]\n",
      " [ 0]\n",
      " [-1]\n",
      " [ 3]\n",
      " [ 1]]\n"
     ]
    }
   ],
   "source": [
    "X = np.array([[-2], [-5], [-3], [0], [-8], [-2], [1], [5], [-1], [6]])\n",
    "X = np.c_[np.ones(len(X)),X].astype(int)\n",
    "X = np.array(X)\n",
    "Y = np.array([[1], [-4], [1], [3], [11], [5], [0], [-1], [3], [1]])\n",
    "print(X)\n",
    "print(Y)"
   ]
  },
  {
   "cell_type": "code",
   "execution_count": 19,
   "metadata": {},
   "outputs": [
    {
     "data": {
      "text/plain": [
       "array([[ 1.62523306],\n",
       "       [-0.41640771]])"
      ]
     },
     "execution_count": 19,
     "metadata": {},
     "output_type": "execute_result"
    }
   ],
   "source": [
    "np.linalg.inv(X.T @ X) @ X.T @ Y"
   ]
  },
  {
   "cell_type": "markdown",
   "metadata": {},
   "source": [
    "##### b)"
   ]
  },
  {
   "cell_type": "code",
   "execution_count": 20,
   "metadata": {},
   "outputs": [],
   "source": [
    "from sklearn.linear_model import LinearRegression"
   ]
  },
  {
   "cell_type": "code",
   "execution_count": 21,
   "metadata": {},
   "outputs": [
    {
     "name": "stdout",
     "output_type": "stream",
     "text": [
      "[[ 0.         -0.41640771]]\n",
      "[1.62523306]\n"
     ]
    }
   ],
   "source": [
    "reg = LinearRegression().fit(X, Y)\n",
    "print(reg.coef_)\n",
    "print(reg.intercept_)"
   ]
  },
  {
   "cell_type": "markdown",
   "metadata": {},
   "source": [
    "#### 2."
   ]
  },
  {
   "cell_type": "markdown",
   "metadata": {},
   "source": [
    "##### a)"
   ]
  },
  {
   "cell_type": "code",
   "execution_count": 22,
   "metadata": {},
   "outputs": [],
   "source": [
    "from sympy import symbols, diff"
   ]
  },
  {
   "cell_type": "code",
   "execution_count": 25,
   "metadata": {},
   "outputs": [
    {
     "data": {
      "text/latex": [
       "$\\displaystyle 2 x_{1} + 2 x_{2} - 4$"
      ],
      "text/plain": [
       "2*x1 + 2*x2 - 4"
      ]
     },
     "execution_count": 25,
     "metadata": {},
     "output_type": "execute_result"
    }
   ],
   "source": [
    "x1, x2 = symbols('x1 x2', real=True)\n",
    "f = (x1 + x2 -2)**2\n",
    "diff(f,x1)"
   ]
  },
  {
   "cell_type": "markdown",
   "metadata": {},
   "source": [
    "##### b)"
   ]
  },
  {
   "cell_type": "code",
   "execution_count": 2,
   "metadata": {},
   "outputs": [],
   "source": [
    "import matplotlib as plt"
   ]
  },
  {
   "cell_type": "code",
   "execution_count": 30,
   "metadata": {},
   "outputs": [
    {
     "data": {
      "image/png": "[encoded data removed]",
      "text/plain": [
       "<Figure size 432x288 with 1 Axes>"
      ]
     },
     "metadata": {
      "needs_background": "light"
     },
     "output_type": "display_data"
    },
    {
     "data": {
      "image/png": "[encoded data removed]",
      "text/plain": [
       "<Figure size 432x288 with 1 Axes>"
      ]
     },
     "metadata": {
      "needs_background": "light"
     },
     "output_type": "display_data"
    },
    {
     "data": {
      "image/png": "[encoded data removed]",
      "text/plain": [
       "<Figure size 432x288 with 1 Axes>"
      ]
     },
     "metadata": {
      "needs_background": "light"
     },
     "output_type": "display_data"
    }
   ],
   "source": [
    "def graph(formula):\n",
    "    x1 = np.array(range(0, 20))\n",
    "    J = eval(formula)\n",
    "    plt.plot(x1,J)\n",
    "    plt.ylim(0, 20)\n",
    "    plt.xlim(0,20)\n",
    "    plt.show()\n",
    "    \n",
    "# x2 = 0\n",
    "#J = (x1 - 2)**2\n",
    "graph('(x1 - 2)**2')\n",
    "\n",
    "# x2 = 1\n",
    "#J = (x1 - 1)**2\n",
    "graph('(x1 - 1)**2')\n",
    "\n",
    "# x2 = 2\n",
    "#J = (x1)**2\n",
    "graph('(x1)**2')"
   ]
  },
  {
   "cell_type": "markdown",
   "metadata": {},
   "source": [
    "##### c)"
   ]
  },
  {
   "cell_type": "code",
   "execution_count": null,
   "metadata": {},
   "outputs": [],
   "source": [
    "x1 + x2 - 2 = 0\n",
    "x1 + x2 = 2\n",
    "# This condition has to be true, so any value that satisfies\n",
    "# this condition would minimise J"
   ]
  },
  {
   "cell_type": "markdown",
   "metadata": {},
   "source": [
    "## 2. Closed Form Linear Regression"
   ]
  },
  {
   "cell_type": "code",
   "execution_count": 4,
   "metadata": {},
   "outputs": [],
   "source": [
    "from pandas import DataFrame, read_csv\n",
    "import matplotlib.pyplot as plt\n",
    "import pandas as pd\n",
    "import sklearn as sk\n",
    "from sklearn import linear_model\n",
    "from sklearn.preprocessing import scale\n",
    "import numpy as np\n",
    "import seaborn as sb"
   ]
  },
  {
   "cell_type": "code",
   "execution_count": 5,
   "metadata": {},
   "outputs": [],
   "source": [
    "#1\n",
    "df = pd.read_csv('x06Simple.csv')\n",
    "del df['Index']"
   ]
  },
  {
   "cell_type": "code",
   "execution_count": 6,
   "metadata": {},
   "outputs": [
    {
     "data": {
      "text/plain": [
       "<seaborn.axisgrid.PairGrid at 0x12363970>"
      ]
     },
     "execution_count": 6,
     "metadata": {},
     "output_type": "execute_result"
    },
    {
     "data": {
      "image/png": "[encoded data removed]",
      "text/plain": [
       "<Figure size 540x540 with 12 Axes>"
      ]
     },
     "metadata": {
      "needs_background": "light"
     },
     "output_type": "display_data"
    }
   ],
   "source": [
    "sb.pairplot(df)"
   ]
  },
  {
   "cell_type": "code",
   "execution_count": 7,
   "metadata": {},
   "outputs": [],
   "source": [
    "#2\n",
    "df = df.sample(frac=1)"
   ]
  },
  {
   "cell_type": "code",
   "execution_count": 8,
   "metadata": {},
   "outputs": [],
   "source": [
    "#3\n",
    "splt = np.random.rand(len(df)) < 0.67\n",
    "train_df = df[splt]\n",
    "test_df = df[~splt]"
   ]
  },
  {
   "cell_type": "code",
   "execution_count": 9,
   "metadata": {},
   "outputs": [
    {
     "name": "stdout",
     "output_type": "stream",
     "text": [
      "    Age  Temp of Water  Length of Fish\n",
      "7   111             25            4465\n",
      "22   14             29             590\n",
      "13   41             27            2110\n",
      "35   41             31            1915\n",
      "40  111             31            3040\n",
      "15   69             27            3255\n",
      "5    83             25            3535\n",
      "36   55             31            2140\n",
      "19  125             27            4535\n",
      "12   28             27            1215\n",
      "33   14             31             590\n",
      "24   41             29            2140\n",
      "42  139             31            3257\n",
      "16   83             27            4015\n",
      "39   97             31            3030\n",
      "10  153             25            4600\n",
      "2    41             25            2120\n",
      "14   55             27            2805\n",
      "29  111             29            4520\n",
      "31  139             29            4565\n",
      "25   55             29            2890\n",
      "41  125             31            3180\n",
      "17   97             27            4315\n",
      "32  153             29            4566\n",
      "26   69             29            3920\n",
      "34   28             31            1205\n",
      "8   125             25            4530\n",
      "4    69             25            3110\n",
      "28   97             29            4515\n",
      "6    97             25            3935\n",
      "0    14             25             620\n",
      "27   83             29            3920\n",
      "30  125             29            4525\n",
      "\n",
      "    Age  Temp of Water  Length of Fish\n",
      "37   69             31            2710\n",
      "43  153             31            3214\n",
      "1    28             25            1315\n",
      "20  139             27            4600\n",
      "38   83             31            3020\n",
      "3    55             25            2600\n",
      "18  111             27            4495\n",
      "9   139             25            4570\n",
      "21  153             27            4600\n",
      "23   28             29            1305\n",
      "11   14             27             625\n"
     ]
    }
   ],
   "source": [
    "print(train_df)\n",
    "print()\n",
    "print(test_df)"
   ]
  },
  {
   "cell_type": "code",
   "execution_count": 10,
   "metadata": {},
   "outputs": [
    {
     "data": {
      "image/png": "[encoded data removed]",
      "text/plain": [
       "<Figure size 432x288 with 1 Axes>"
      ]
     },
     "metadata": {},
     "output_type": "display_data"
    }
   ],
   "source": [
    "#4\n",
    "from sklearn import preprocessing\n",
    "std = preprocessing.scale(train_df)\n",
    "# print(train_df)\n",
    "# print(std)\n",
    "# train_df.plot('Age', 'Length of Fish', kind='scatter')\n",
    "# train_df.plot('Age', 'Temp of Water', kind='scatter')\n",
    "# train_df.plot('Temp of Water', 'Length of Fish', kind='scatter')\n",
    "\n",
    "\n",
    "plt.scatter(test_df['Age'], test_df['Length of Fish'], color='black')\n",
    "plt.title('Test Data')\n",
    "plt.xlabel('Age')\n",
    "plt.ylabel('Length of Fish')\n",
    "plt.xticks(())\n",
    "plt.yticks(())\n",
    "plt.show()"
   ]
  },
  {
   "cell_type": "code",
   "execution_count": 11,
   "metadata": {},
   "outputs": [
    {
     "data": {
      "text/plain": [
       "[<matplotlib.lines.Line2D at 0x137fec90>]"
      ]
     },
     "execution_count": 11,
     "metadata": {},
     "output_type": "execute_result"
    },
    {
     "data": {
      "image/png": "[encoded data removed]",
      "text/plain": [
       "<Figure size 432x288 with 1 Axes>"
      ]
     },
     "metadata": {
      "needs_background": "light"
     },
     "output_type": "display_data"
    }
   ],
   "source": [
    "\n",
    "regr = linear_model.LinearRegression(normalize=True)\n",
    "\n",
    "regr.fit(train_df[['Age', 'Length of Fish']], train_df['Length of Fish'])\n",
    "\n",
    "# regr.predict(test_df[['Age', 'Length of Fish']])\n",
    "# regr.score(train_df[['Age', 'Length of Fish']], train_df['Length of Fish'])\n",
    "plt.plot(test_df['Age'], regr.predict(test_df[['Age', 'Length of Fish']]), color='red', linewidth=3)\n",
    "\n",
    "# reg = LinearRegression().fit(df['Age'], df['Length of Fish'])"
   ]
  },
  {
   "cell_type": "code",
   "execution_count": 66,
   "metadata": {},
   "outputs": [
    {
     "name": "stdout",
     "output_type": "stream",
     "text": [
      "1.0\n"
     ]
    }
   ],
   "source": []
  }
 ],
 "metadata": {
  "kernelspec": {
   "display_name": "Python 3",
   "language": "python",
   "name": "python3"
  },
  "language_info": {
   "codemirror_mode": {
    "name": "ipython",
    "version": 3
   },
   "file_extension": ".py",
   "mimetype": "text/x-python",
   "name": "python",
   "nbconvert_exporter": "python",
   "pygments_lexer": "ipython3",
   "version": "3.7.7"
  }
 },
 "nbformat": 4,
 "nbformat_minor": 4
}
