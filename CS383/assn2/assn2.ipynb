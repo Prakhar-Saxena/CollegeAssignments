{
 "cells": [
  {
   "cell_type": "code",
   "execution_count": null,
   "metadata": {},
   "outputs": [],
   "source": []
  },
  {
   "cell_type": "markdown",
   "metadata": {},
   "source": [
    "# 1 Theory"
   ]
  },
  {
   "cell_type": "markdown",
   "metadata": {},
   "source": [
    "### 1"
   ]
  },
  {
   "cell_type": "code",
   "execution_count": 639,
   "metadata": {},
   "outputs": [],
   "source": [
    "import numpy as np\n",
    "from scipy.stats import entropy\n",
    "from math import log, e, pi\n",
    "from sklearn import tree"
   ]
  },
  {
   "cell_type": "code",
   "execution_count": 640,
   "metadata": {},
   "outputs": [],
   "source": [
    "Xy = np.array([[1,1,1,3],\n",
    "[1,1,0,4],\n",
    "[1,0,1,4],\n",
    "[1,0,0,1],\n",
    "[0,1,1,0],\n",
    "[0,1,0,1],\n",
    "[0,0,1,3],\n",
    "[0,0,0,5]])\n",
    "pXy = []\n",
    "for xy in Xy:\n",
    "    count = xy[3]\n",
    "    for i in range(count):\n",
    "        pXy.append(np.asarray(xy[:3]))\n",
    "pXy = np.array(pXy)\n",
    "y = pXy[:,0:1]\n",
    "X = pXy[:,1:3]"
   ]
  },
  {
   "cell_type": "markdown",
   "metadata": {},
   "source": [
    "##### a"
   ]
  },
  {
   "cell_type": "code",
   "execution_count": 641,
   "metadata": {},
   "outputs": [],
   "source": [
    "def entropy(labels, base=None): # https://gist.github.com/jaradc/eeddf20932c0347928d0da5a09298147\n",
    "  value, counts = np.unique(labels, return_counts=True)\n",
    "  norm_counts = counts / counts.sum()\n",
    "  base = e if base is None else base\n",
    "  return -(norm_counts * np.log(norm_counts)/np.log(base)).sum()"
   ]
  },
  {
   "cell_type": "code",
   "execution_count": 642,
   "metadata": {},
   "outputs": [
    {
     "data": {
      "text/plain": [
       "0.6829081047004717"
      ]
     },
     "execution_count": 642,
     "metadata": {},
     "output_type": "execute_result"
    }
   ],
   "source": [
    "entropy(y)"
   ]
  },
  {
   "cell_type": "markdown",
   "metadata": {},
   "source": [
    "##### b"
   ]
  },
  {
   "cell_type": "code",
   "execution_count": 644,
   "metadata": {},
   "outputs": [],
   "source": [
    "def P(x,X):\n",
    "    return X.count(x) / len(X)"
   ]
  },
  {
   "cell_type": "code",
   "execution_count": 646,
   "metadata": {
    "scrolled": true
   },
   "outputs": [
    {
     "name": "stdout",
     "output_type": "stream",
     "text": [
      "((array([1]), array([1])), (array([1]), array([1])), (array([1]), array([1])), (array([1]), array([1])), (array([1]), array([1])), (array([1]), array([1])), (array([1]), array([1])), (array([0]), array([1])), (array([0]), array([1])), (array([0]), array([1])), (array([0]), array([1])), (array([0]), array([1])), (array([1]), array([0])), (array([0]), array([0])), (array([0]), array([0])), (array([0]), array([0])), (array([0]), array([0])), (array([0]), array([0])), (array([0]), array([0])), (array([0]), array([0])), (array([0]), array([0])))\n",
      "1.0\n",
      "1.0\n"
     ]
    }
   ],
   "source": [
    "def gain(y,X):\n",
    "    return 1 - entropy(zip(X,y))\n",
    "    y_c\n",
    "#     for x1,y1 in zip(X,y): \n",
    "        \n",
    "    \n",
    "# def gain(d, a):\n",
    "#     total = 0\n",
    "#     for v in a:\n",
    "#         total += sum(v) / sum(d) * entropy(v)\n",
    "#     gain = entropy(d) - total\n",
    "#     return gain\n",
    "print(tuple(zip(X[:,:1],y)))\n",
    "print(gain(y, X[:,0:1]))\n",
    "print(gain(y, X[:,1:2]))"
   ]
  },
  {
   "cell_type": "markdown",
   "metadata": {},
   "source": [
    "#### c"
   ]
  },
  {
   "cell_type": "code",
   "execution_count": 647,
   "metadata": {},
   "outputs": [
    {
     "data": {
      "text/plain": [
       "DecisionTreeClassifier(ccp_alpha=0.0, class_weight=None, criterion='gini',\n",
       "                       max_depth=None, max_features=None, max_leaf_nodes=None,\n",
       "                       min_impurity_decrease=0.0, min_impurity_split=None,\n",
       "                       min_samples_leaf=1, min_samples_split=2,\n",
       "                       min_weight_fraction_leaf=0.0, presort='deprecated',\n",
       "                       random_state=None, splitter='best')"
      ]
     },
     "execution_count": 647,
     "metadata": {},
     "output_type": "execute_result"
    }
   ],
   "source": [
    "clf = tree.DecisionTreeClassifier()\n",
    "clf.fit(X,y)"
   ]
  },
  {
   "cell_type": "code",
   "execution_count": 648,
   "metadata": {},
   "outputs": [
    {
     "data": {
      "text/plain": [
       "[Text(167.4, 181.2, 'X[0] <= 0.5\\ngini = 0.49\\nsamples = 21\\nvalue = [9, 12]'),\n",
       " Text(83.7, 108.72, 'X[1] <= 0.5\\ngini = 0.473\\nsamples = 13\\nvalue = [8, 5]'),\n",
       " Text(41.85, 36.23999999999998, 'gini = 0.278\\nsamples = 6\\nvalue = [5, 1]'),\n",
       " Text(125.55000000000001, 36.23999999999998, 'gini = 0.49\\nsamples = 7\\nvalue = [3, 4]'),\n",
       " Text(251.10000000000002, 108.72, 'X[1] <= 0.5\\ngini = 0.219\\nsamples = 8\\nvalue = [1, 7]'),\n",
       " Text(209.25, 36.23999999999998, 'gini = 0.32\\nsamples = 5\\nvalue = [1, 4]'),\n",
       " Text(292.95, 36.23999999999998, 'gini = 0.0\\nsamples = 3\\nvalue = [0, 3]')]"
      ]
     },
     "execution_count": 648,
     "metadata": {},
     "output_type": "execute_result"
    },
    {
     "data": {
      "image/png": "[encoded data removed]",
      "text/plain": [
       "<Figure size 432x288 with 1 Axes>"
      ]
     },
     "metadata": {
      "needs_background": "light"
     },
     "output_type": "display_data"
    }
   ],
   "source": [
    "tree.plot_tree(clf) "
   ]
  },
  {
   "cell_type": "markdown",
   "metadata": {},
   "source": [
    "### 2"
   ]
  },
  {
   "cell_type": "code",
   "execution_count": 650,
   "metadata": {},
   "outputs": [],
   "source": [
    "import numpy as np\n",
    "from scipy.stats import entropy\n",
    "from math import log, e, pi\n",
    "import pandas as pd"
   ]
  },
  {
   "cell_type": "code",
   "execution_count": 651,
   "metadata": {},
   "outputs": [
    {
     "data": {
      "text/html": [
       "<div>\n",
       "<style scoped>\n",
       "    .dataframe tbody tr th:only-of-type {\n",
       "        vertical-align: middle;\n",
       "    }\n",
       "\n",
       "    .dataframe tbody tr th {\n",
       "        vertical-align: top;\n",
       "    }\n",
       "\n",
       "    .dataframe thead th {\n",
       "        text-align: right;\n",
       "    }\n",
       "</style>\n",
       "<table border=\"1\" class=\"dataframe\">\n",
       "  <thead>\n",
       "    <tr style=\"text-align: right;\">\n",
       "      <th></th>\n",
       "      <th>0</th>\n",
       "      <th>1</th>\n",
       "      <th>2</th>\n",
       "    </tr>\n",
       "  </thead>\n",
       "  <tbody>\n",
       "    <tr>\n",
       "      <th>0</th>\n",
       "      <td>216.0</td>\n",
       "      <td>5.68</td>\n",
       "      <td>1.0</td>\n",
       "    </tr>\n",
       "    <tr>\n",
       "      <th>1</th>\n",
       "      <td>69.0</td>\n",
       "      <td>4.78</td>\n",
       "      <td>1.0</td>\n",
       "    </tr>\n",
       "    <tr>\n",
       "      <th>2</th>\n",
       "      <td>302.0</td>\n",
       "      <td>2.31</td>\n",
       "      <td>0.0</td>\n",
       "    </tr>\n",
       "    <tr>\n",
       "      <th>3</th>\n",
       "      <td>60.0</td>\n",
       "      <td>3.16</td>\n",
       "      <td>1.0</td>\n",
       "    </tr>\n",
       "    <tr>\n",
       "      <th>4</th>\n",
       "      <td>393.0</td>\n",
       "      <td>4.20</td>\n",
       "      <td>0.0</td>\n",
       "    </tr>\n",
       "  </tbody>\n",
       "</table>\n",
       "</div>"
      ],
      "text/plain": [
       "       0     1    2\n",
       "0  216.0  5.68  1.0\n",
       "1   69.0  4.78  1.0\n",
       "2  302.0  2.31  0.0\n",
       "3   60.0  3.16  1.0\n",
       "4  393.0  4.20  0.0"
      ]
     },
     "execution_count": 651,
     "metadata": {},
     "output_type": "execute_result"
    }
   ],
   "source": [
    "g = np.array([\n",
    "    [216,5.68,1],\n",
    "    [69,4.78,1],\n",
    "    [302,2.31,0],\n",
    "    [60,3.16,1],\n",
    "    [393,4.2,0]\n",
    "])\n",
    "g_df = pd.DataFrame(g)\n",
    "g_df"
   ]
  },
  {
   "cell_type": "markdown",
   "metadata": {},
   "source": [
    "#### a"
   ]
  },
  {
   "cell_type": "code",
   "execution_count": 652,
   "metadata": {},
   "outputs": [
    {
     "name": "stdout",
     "output_type": "stream",
     "text": [
      "P(A = Yes) = 0.6\n",
      "P(A = No) = 0.4\n"
     ]
    }
   ],
   "source": [
    "print('P(A = Yes) =', 3/5)\n",
    "print('P(A = No) =', 2/5)"
   ]
  },
  {
   "cell_type": "markdown",
   "metadata": {},
   "source": [
    "#### b"
   ]
  },
  {
   "cell_type": "code",
   "execution_count": 653,
   "metadata": {},
   "outputs": [
    {
     "data": {
      "text/html": [
       "<div>\n",
       "<style scoped>\n",
       "    .dataframe tbody tr th:only-of-type {\n",
       "        vertical-align: middle;\n",
       "    }\n",
       "\n",
       "    .dataframe tbody tr th {\n",
       "        vertical-align: top;\n",
       "    }\n",
       "\n",
       "    .dataframe thead th {\n",
       "        text-align: right;\n",
       "    }\n",
       "</style>\n",
       "<table border=\"1\" class=\"dataframe\">\n",
       "  <thead>\n",
       "    <tr style=\"text-align: right;\">\n",
       "      <th></th>\n",
       "      <th>0</th>\n",
       "      <th>1</th>\n",
       "      <th>2</th>\n",
       "    </tr>\n",
       "  </thead>\n",
       "  <tbody>\n",
       "    <tr>\n",
       "      <th>0</th>\n",
       "      <td>216.0</td>\n",
       "      <td>5.68</td>\n",
       "      <td>1.0</td>\n",
       "    </tr>\n",
       "    <tr>\n",
       "      <th>1</th>\n",
       "      <td>69.0</td>\n",
       "      <td>4.78</td>\n",
       "      <td>1.0</td>\n",
       "    </tr>\n",
       "    <tr>\n",
       "      <th>2</th>\n",
       "      <td>302.0</td>\n",
       "      <td>2.31</td>\n",
       "      <td>0.0</td>\n",
       "    </tr>\n",
       "    <tr>\n",
       "      <th>3</th>\n",
       "      <td>60.0</td>\n",
       "      <td>3.16</td>\n",
       "      <td>1.0</td>\n",
       "    </tr>\n",
       "    <tr>\n",
       "      <th>4</th>\n",
       "      <td>393.0</td>\n",
       "      <td>4.20</td>\n",
       "      <td>0.0</td>\n",
       "    </tr>\n",
       "  </tbody>\n",
       "</table>\n",
       "</div>"
      ],
      "text/plain": [
       "       0     1    2\n",
       "0  216.0  5.68  1.0\n",
       "1   69.0  4.78  1.0\n",
       "2  302.0  2.31  0.0\n",
       "3   60.0  3.16  1.0\n",
       "4  393.0  4.20  0.0"
      ]
     },
     "execution_count": 653,
     "metadata": {},
     "output_type": "execute_result"
    }
   ],
   "source": [
    "g_df"
   ]
  },
  {
   "cell_type": "code",
   "execution_count": 654,
   "metadata": {},
   "outputs": [
    {
     "data": {
      "text/html": [
       "<div>\n",
       "<style scoped>\n",
       "    .dataframe tbody tr th:only-of-type {\n",
       "        vertical-align: middle;\n",
       "    }\n",
       "\n",
       "    .dataframe tbody tr th {\n",
       "        vertical-align: top;\n",
       "    }\n",
       "\n",
       "    .dataframe thead th {\n",
       "        text-align: right;\n",
       "    }\n",
       "</style>\n",
       "<table border=\"1\" class=\"dataframe\">\n",
       "  <thead>\n",
       "    <tr style=\"text-align: right;\">\n",
       "      <th></th>\n",
       "      <th>0</th>\n",
       "      <th>1</th>\n",
       "      <th>2</th>\n",
       "    </tr>\n",
       "  </thead>\n",
       "  <tbody>\n",
       "    <tr>\n",
       "      <th>0</th>\n",
       "      <td>0.061593</td>\n",
       "      <td>1.394987</td>\n",
       "      <td>1.0</td>\n",
       "    </tr>\n",
       "    <tr>\n",
       "      <th>1</th>\n",
       "      <td>-1.070181</td>\n",
       "      <td>0.635925</td>\n",
       "      <td>1.0</td>\n",
       "    </tr>\n",
       "    <tr>\n",
       "      <th>3</th>\n",
       "      <td>-1.139473</td>\n",
       "      <td>-0.730386</td>\n",
       "      <td>1.0</td>\n",
       "    </tr>\n",
       "  </tbody>\n",
       "</table>\n",
       "</div>"
      ],
      "text/plain": [
       "          0         1    2\n",
       "0  0.061593  1.394987  1.0\n",
       "1 -1.070181  0.635925  1.0\n",
       "3 -1.139473 -0.730386  1.0"
      ]
     },
     "execution_count": 654,
     "metadata": {},
     "output_type": "execute_result"
    }
   ],
   "source": [
    "# g_std = preprocessing.scale(g[:,0:2])\n",
    "# g_std\n",
    "n_chars_mean = np.mean(np.array(g_df[0]))\n",
    "n_chars_stddev = np.std(np.array(g_df[0]))\n",
    "awl_mean = np.mean(np.array(g_df[1]))\n",
    "awl_stddev = np.std(np.array(g_df[1]))\n",
    "g_df[0] = preprocessing.scale(g_df[0])\n",
    "g_df[1] = preprocessing.scale(g_df[1])\n",
    "g_df.loc[g_df[2] == 1]"
   ]
  },
  {
   "cell_type": "code",
   "execution_count": 655,
   "metadata": {},
   "outputs": [],
   "source": [
    "n_chars_mean0 = np.mean(np.array(g_df.loc[g_df[2] == 0][0]))\n",
    "n_chars_stddev0 = np.std(np.array(g_df.loc[g_df[2] == 0][0]))\n",
    "awl_mean0 = np.mean(np.array(g_df.loc[g_df[2] == 0][1]))\n",
    "awl_stddev0 = np.std(np.array(g_df.loc[g_df[2] == 0][1]))\n",
    "\n",
    "n_chars_mean1 = np.mean(np.array(g_df.loc[g_df[2] == 1][0]))\n",
    "n_chars_stddev1 = np.std(np.array(g_df.loc[g_df[2] == 1][0]))\n",
    "awl_mean1 = np.mean(np.array(g_df.loc[g_df[2] == 1][1]))\n",
    "awl_stddev1 = np.std(np.array(g_df.loc[g_df[2] == 1][1]))"
   ]
  },
  {
   "cell_type": "code",
   "execution_count": 656,
   "metadata": {},
   "outputs": [
    {
     "name": "stdout",
     "output_type": "stream",
     "text": [
      "208.0\n",
      "129.88456413292536\n",
      "4.026000000000001\n",
      "1.1856744915869617\n",
      "1.0740306281294063\n",
      "0.3503110650888028\n",
      "-0.650262787527847\n",
      "0.7970147006664268\n",
      "1.0740306281294063\n",
      "0.3503110650888028\n",
      "-0.650262787527847\n",
      "0.7970147006664268\n"
     ]
    }
   ],
   "source": [
    "print(n_chars_mean)\n",
    "print(n_chars_stddev)\n",
    "print(awl_mean)\n",
    "print(awl_stddev)\n",
    "print(n_chars_mean0)\n",
    "print(n_chars_stddev0)\n",
    "print(awl_mean0)\n",
    "print(awl_stddev0)\n",
    "print(n_chars_mean0)\n",
    "print(n_chars_stddev0)\n",
    "print(awl_mean0)\n",
    "print(awl_stddev0)"
   ]
  },
  {
   "cell_type": "code",
   "execution_count": null,
   "metadata": {},
   "outputs": [],
   "source": []
  },
  {
   "cell_type": "markdown",
   "metadata": {},
   "source": [
    "#### c"
   ]
  },
  {
   "cell_type": "code",
   "execution_count": 657,
   "metadata": {},
   "outputs": [
    {
     "name": "stdout",
     "output_type": "stream",
     "text": [
      "0.2617709057806439\n",
      "0.45037656101150375\n"
     ]
    }
   ],
   "source": [
    "std_242 = (242 - n_chars_mean )/ n_chars_stddev\n",
    "std_456 = (4.56 - awl_mean) / awl_stddev\n",
    "print(std_242)\n",
    "print(std_456)"
   ]
  },
  {
   "cell_type": "code",
   "execution_count": 661,
   "metadata": {},
   "outputs": [
    {
     "data": {
      "text/plain": [
       "array([0.14970229, 0.0768322 ])"
      ]
     },
     "execution_count": 661,
     "metadata": {},
     "output_type": "execute_result"
    }
   ],
   "source": [
    "sigma1 = np.array([n_chars_stddev1, n_chars_stddev1])\n",
    "mu1 = np.array([n_chars_mean1, n_chars_mean1])\n",
    "xk = np.array([std_242, std_456])\n",
    "n = e**(-1 * (xk - mu1)**2 / (2 * (sigma1**2)))\n",
    "d = sigma1 * ((2 * pi)**0.5)\n",
    "(n/d) * (3/5)"
   ]
  },
  {
   "cell_type": "code",
   "execution_count": null,
   "metadata": {},
   "outputs": [],
   "source": [
    "# seems unlikely."
   ]
  },
  {
   "cell_type": "markdown",
   "metadata": {},
   "source": [
    "# 2 Logistic Regression"
   ]
  },
  {
   "cell_type": "code",
   "execution_count": 557,
   "metadata": {},
   "outputs": [],
   "source": [
    "from sklearn import datasets\n",
    "from sklearn import preprocessing\n",
    "from sklearn.model_selection import train_test_split\n",
    "from sklearn.linear_model import LogisticRegression\n",
    "import random\n",
    "import numpy as np\n",
    "import matplotlib.pyplot as plt\n",
    "from mpl_toolkits.mplot3d import Axes3D\n",
    "import seaborn as sb # I'm not using this for the assignment, this is just to get a feel for the data\n",
    "import pandas as pd\n",
    "import math\n",
    "from math import exp"
   ]
  },
  {
   "cell_type": "code",
   "execution_count": 558,
   "metadata": {
    "scrolled": true
   },
   "outputs": [],
   "source": [
    "#1\n",
    "iris = datasets.load_iris()\n",
    "X = iris.data[:, :2]\n",
    "y = (iris.target != 0) * 1\n",
    "iris_df = pd.DataFrame(data= np.c_[iris['data'], iris['target']],\n",
    "                     columns= iris['feature_names'] + ['target'])\n",
    "iris_df = iris_df[['sepal length (cm)', 'sepal width (cm)', 'target']]"
   ]
  },
  {
   "cell_type": "code",
   "execution_count": 559,
   "metadata": {
    "scrolled": false
   },
   "outputs": [
    {
     "data": {
      "text/plain": [
       "<seaborn.axisgrid.PairGrid at 0x17c4d7f0>"
      ]
     },
     "execution_count": 559,
     "metadata": {},
     "output_type": "execute_result"
    },
    {
     "data": {
      "image/png": "[encoded data removed]",
      "text/plain": [
       "<Figure size 540x540 with 12 Axes>"
      ]
     },
     "metadata": {
      "needs_background": "light"
     },
     "output_type": "display_data"
    }
   ],
   "source": [
    "sb.pairplot(iris_df)"
   ]
  },
  {
   "cell_type": "code",
   "execution_count": 560,
   "metadata": {},
   "outputs": [
    {
     "data": {
      "text/plain": [
       "array([[0],\n",
       "       [0],\n",
       "       [0],\n",
       "       [0],\n",
       "       [0],\n",
       "       [0],\n",
       "       [0],\n",
       "       [0],\n",
       "       [0],\n",
       "       [0],\n",
       "       [0],\n",
       "       [0],\n",
       "       [0],\n",
       "       [0],\n",
       "       [0],\n",
       "       [0],\n",
       "       [0],\n",
       "       [0],\n",
       "       [0],\n",
       "       [0],\n",
       "       [0],\n",
       "       [0],\n",
       "       [0],\n",
       "       [0],\n",
       "       [0],\n",
       "       [0],\n",
       "       [0],\n",
       "       [0],\n",
       "       [0],\n",
       "       [0],\n",
       "       [0],\n",
       "       [0],\n",
       "       [0],\n",
       "       [0],\n",
       "       [0],\n",
       "       [0],\n",
       "       [0],\n",
       "       [0],\n",
       "       [0],\n",
       "       [0],\n",
       "       [0],\n",
       "       [0],\n",
       "       [0],\n",
       "       [0],\n",
       "       [0],\n",
       "       [0],\n",
       "       [0],\n",
       "       [0],\n",
       "       [0],\n",
       "       [0],\n",
       "       [1],\n",
       "       [1],\n",
       "       [1],\n",
       "       [1],\n",
       "       [1],\n",
       "       [1],\n",
       "       [1],\n",
       "       [1],\n",
       "       [1],\n",
       "       [1],\n",
       "       [1],\n",
       "       [1],\n",
       "       [1],\n",
       "       [1],\n",
       "       [1],\n",
       "       [1],\n",
       "       [1],\n",
       "       [1],\n",
       "       [1],\n",
       "       [1],\n",
       "       [1],\n",
       "       [1],\n",
       "       [1],\n",
       "       [1],\n",
       "       [1],\n",
       "       [1],\n",
       "       [1],\n",
       "       [1],\n",
       "       [1],\n",
       "       [1],\n",
       "       [1],\n",
       "       [1],\n",
       "       [1],\n",
       "       [1],\n",
       "       [1],\n",
       "       [1],\n",
       "       [1],\n",
       "       [1],\n",
       "       [1],\n",
       "       [1],\n",
       "       [1],\n",
       "       [1],\n",
       "       [1],\n",
       "       [1],\n",
       "       [1],\n",
       "       [1],\n",
       "       [1],\n",
       "       [1],\n",
       "       [1],\n",
       "       [1],\n",
       "       [1],\n",
       "       [1],\n",
       "       [1],\n",
       "       [1],\n",
       "       [1],\n",
       "       [1],\n",
       "       [1],\n",
       "       [1],\n",
       "       [1],\n",
       "       [1],\n",
       "       [1],\n",
       "       [1],\n",
       "       [1],\n",
       "       [1],\n",
       "       [1],\n",
       "       [1],\n",
       "       [1],\n",
       "       [1],\n",
       "       [1],\n",
       "       [1],\n",
       "       [1],\n",
       "       [1],\n",
       "       [1],\n",
       "       [1],\n",
       "       [1],\n",
       "       [1],\n",
       "       [1],\n",
       "       [1],\n",
       "       [1],\n",
       "       [1],\n",
       "       [1],\n",
       "       [1],\n",
       "       [1],\n",
       "       [1],\n",
       "       [1],\n",
       "       [1],\n",
       "       [1],\n",
       "       [1],\n",
       "       [1],\n",
       "       [1],\n",
       "       [1],\n",
       "       [1],\n",
       "       [1],\n",
       "       [1],\n",
       "       [1],\n",
       "       [1],\n",
       "       [1],\n",
       "       [1],\n",
       "       [1],\n",
       "       [1]])"
      ]
     },
     "execution_count": 560,
     "metadata": {},
     "output_type": "execute_result"
    }
   ],
   "source": [
    "X = np.array(X)\n",
    "y_o = np.array(y)\n",
    "y = np.array(y)\n",
    "y = y.reshape((X.shape[0], 1))\n",
    "y"
   ]
  },
  {
   "cell_type": "code",
   "execution_count": 561,
   "metadata": {
    "scrolled": true
   },
   "outputs": [],
   "source": [
    "#2\n",
    "X_std = preprocessing.scale(X)"
   ]
  },
  {
   "cell_type": "code",
   "execution_count": 562,
   "metadata": {},
   "outputs": [
    {
     "data": {
      "text/plain": [
       "array([[-0.97778127],\n",
       "       [ 0.9954449 ],\n",
       "       [-0.85205156]])"
      ]
     },
     "execution_count": 562,
     "metadata": {},
     "output_type": "execute_result"
    }
   ],
   "source": [
    "fixed_theta = []\n",
    "for i in range(3):\n",
    "    fixed_theta.append(random.uniform(-1,1))\n",
    "fixed_theta = np.array(fixed_theta).reshape(3,1)\n",
    "fixed_theta"
   ]
  },
  {
   "cell_type": "code",
   "execution_count": 563,
   "metadata": {
    "scrolled": true
   },
   "outputs": [
    {
     "name": "stdout",
     "output_type": "stream",
     "text": [
      "[[ 1.         -0.90068117  1.01900435]\n",
      " [ 1.         -1.14301691 -0.13197948]\n",
      " [ 1.         -1.38535265  0.32841405]\n",
      " [ 1.         -1.50652052  0.09821729]\n",
      " [ 1.         -1.02184904  1.24920112]\n",
      " [ 1.         -0.53717756  1.93979142]\n",
      " [ 1.         -1.50652052  0.78880759]\n",
      " [ 1.         -1.02184904  0.78880759]\n",
      " [ 1.         -1.74885626 -0.36217625]\n",
      " [ 1.         -1.14301691  0.09821729]\n",
      " [ 1.         -0.53717756  1.47939788]\n",
      " [ 1.         -1.26418478  0.78880759]\n",
      " [ 1.         -1.26418478 -0.13197948]\n",
      " [ 1.         -1.87002413 -0.13197948]\n",
      " [ 1.         -0.05250608  2.16998818]\n",
      " [ 1.         -0.17367395  3.09077525]\n",
      " [ 1.         -0.53717756  1.93979142]\n",
      " [ 1.         -0.90068117  1.01900435]\n",
      " [ 1.         -0.17367395  1.70959465]\n",
      " [ 1.         -0.90068117  1.70959465]\n",
      " [ 1.         -0.53717756  0.78880759]\n",
      " [ 1.         -0.90068117  1.47939788]\n",
      " [ 1.         -1.50652052  1.24920112]\n",
      " [ 1.         -0.90068117  0.55861082]\n",
      " [ 1.         -1.26418478  0.78880759]\n",
      " [ 1.         -1.02184904 -0.13197948]\n",
      " [ 1.         -1.02184904  0.78880759]\n",
      " [ 1.         -0.7795133   1.01900435]\n",
      " [ 1.         -0.7795133   0.78880759]\n",
      " [ 1.         -1.38535265  0.32841405]\n",
      " [ 1.         -1.26418478  0.09821729]\n",
      " [ 1.         -0.53717756  0.78880759]\n",
      " [ 1.         -0.7795133   2.40018495]\n",
      " [ 1.         -0.41600969  2.63038172]\n",
      " [ 1.         -1.14301691  0.09821729]\n",
      " [ 1.         -1.02184904  0.32841405]\n",
      " [ 1.         -0.41600969  1.01900435]\n",
      " [ 1.         -1.14301691  1.24920112]\n",
      " [ 1.         -1.74885626 -0.13197948]\n",
      " [ 1.         -0.90068117  0.78880759]\n",
      " [ 1.         -1.02184904  1.01900435]\n",
      " [ 1.         -1.62768839 -1.74335684]\n",
      " [ 1.         -1.74885626  0.32841405]\n",
      " [ 1.         -1.02184904  1.01900435]\n",
      " [ 1.         -0.90068117  1.70959465]\n",
      " [ 1.         -1.26418478 -0.13197948]\n",
      " [ 1.         -0.90068117  1.70959465]\n",
      " [ 1.         -1.50652052  0.32841405]\n",
      " [ 1.         -0.65834543  1.47939788]\n",
      " [ 1.         -1.02184904  0.55861082]\n",
      " [ 1.          1.40150837  0.32841405]\n",
      " [ 1.          0.67450115  0.32841405]\n",
      " [ 1.          1.2803405   0.09821729]\n",
      " [ 1.         -0.41600969 -1.74335684]\n",
      " [ 1.          0.79566902 -0.59237301]\n",
      " [ 1.         -0.17367395 -0.59237301]\n",
      " [ 1.          0.55333328  0.55861082]\n",
      " [ 1.         -1.14301691 -1.51316008]\n",
      " [ 1.          0.91683689 -0.36217625]\n",
      " [ 1.         -0.7795133  -0.82256978]\n",
      " [ 1.         -1.02184904 -2.43394714]\n",
      " [ 1.          0.06866179 -0.13197948]\n",
      " [ 1.          0.18982966 -1.97355361]\n",
      " [ 1.          0.31099753 -0.36217625]\n",
      " [ 1.         -0.29484182 -0.36217625]\n",
      " [ 1.          1.03800476  0.09821729]\n",
      " [ 1.         -0.29484182 -0.13197948]\n",
      " [ 1.         -0.05250608 -0.82256978]\n",
      " [ 1.          0.4321654  -1.97355361]\n",
      " [ 1.         -0.29484182 -1.28296331]\n",
      " [ 1.          0.06866179  0.32841405]\n",
      " [ 1.          0.31099753 -0.59237301]\n",
      " [ 1.          0.55333328 -1.28296331]\n",
      " [ 1.          0.31099753 -0.59237301]\n",
      " [ 1.          0.67450115 -0.36217625]\n",
      " [ 1.          0.91683689 -0.13197948]\n",
      " [ 1.          1.15917263 -0.59237301]\n",
      " [ 1.          1.03800476 -0.13197948]\n",
      " [ 1.          0.18982966 -0.36217625]\n",
      " [ 1.         -0.17367395 -1.05276654]\n",
      " [ 1.         -0.41600969 -1.51316008]\n",
      " [ 1.         -0.41600969 -1.51316008]\n",
      " [ 1.         -0.05250608 -0.82256978]\n",
      " [ 1.          0.18982966 -0.82256978]\n",
      " [ 1.         -0.53717756 -0.13197948]\n",
      " [ 1.          0.18982966  0.78880759]\n",
      " [ 1.          1.03800476  0.09821729]\n",
      " [ 1.          0.55333328 -1.74335684]\n",
      " [ 1.         -0.29484182 -0.13197948]\n",
      " [ 1.         -0.41600969 -1.28296331]\n",
      " [ 1.         -0.41600969 -1.05276654]\n",
      " [ 1.          0.31099753 -0.13197948]\n",
      " [ 1.         -0.05250608 -1.05276654]\n",
      " [ 1.         -1.02184904 -1.74335684]\n",
      " [ 1.         -0.29484182 -0.82256978]\n",
      " [ 1.         -0.17367395 -0.13197948]\n",
      " [ 1.         -0.17367395 -0.36217625]\n",
      " [ 1.          0.4321654  -0.36217625]\n",
      " [ 1.         -0.90068117 -1.28296331]\n",
      " [ 1.         -0.17367395 -0.59237301]\n",
      " [ 1.          0.55333328  0.55861082]\n",
      " [ 1.         -0.05250608 -0.82256978]\n",
      " [ 1.          1.52267624 -0.13197948]\n",
      " [ 1.          0.55333328 -0.36217625]\n",
      " [ 1.          0.79566902 -0.13197948]\n",
      " [ 1.          2.12851559 -0.13197948]\n",
      " [ 1.         -1.14301691 -1.28296331]\n",
      " [ 1.          1.76501198 -0.36217625]\n",
      " [ 1.          1.03800476 -1.28296331]\n",
      " [ 1.          1.64384411  1.24920112]\n",
      " [ 1.          0.79566902  0.32841405]\n",
      " [ 1.          0.67450115 -0.82256978]\n",
      " [ 1.          1.15917263 -0.13197948]\n",
      " [ 1.         -0.17367395 -1.28296331]\n",
      " [ 1.         -0.05250608 -0.59237301]\n",
      " [ 1.          0.67450115  0.32841405]\n",
      " [ 1.          0.79566902 -0.13197948]\n",
      " [ 1.          2.24968346  1.70959465]\n",
      " [ 1.          2.24968346 -1.05276654]\n",
      " [ 1.          0.18982966 -1.97355361]\n",
      " [ 1.          1.2803405   0.32841405]\n",
      " [ 1.         -0.29484182 -0.59237301]\n",
      " [ 1.          2.24968346 -0.59237301]\n",
      " [ 1.          0.55333328 -0.82256978]\n",
      " [ 1.          1.03800476  0.55861082]\n",
      " [ 1.          1.64384411  0.32841405]\n",
      " [ 1.          0.4321654  -0.59237301]\n",
      " [ 1.          0.31099753 -0.13197948]\n",
      " [ 1.          0.67450115 -0.59237301]\n",
      " [ 1.          1.64384411 -0.13197948]\n",
      " [ 1.          1.88617985 -0.59237301]\n",
      " [ 1.          2.4920192   1.70959465]\n",
      " [ 1.          0.67450115 -0.59237301]\n",
      " [ 1.          0.55333328 -0.59237301]\n",
      " [ 1.          0.31099753 -1.05276654]\n",
      " [ 1.          2.24968346 -0.13197948]\n",
      " [ 1.          0.55333328  0.78880759]\n",
      " [ 1.          0.67450115  0.09821729]\n",
      " [ 1.          0.18982966 -0.13197948]\n",
      " [ 1.          1.2803405   0.09821729]\n",
      " [ 1.          1.03800476  0.09821729]\n",
      " [ 1.          1.2803405   0.09821729]\n",
      " [ 1.         -0.05250608 -0.82256978]\n",
      " [ 1.          1.15917263  0.32841405]\n",
      " [ 1.          1.03800476  0.55861082]\n",
      " [ 1.          1.03800476 -0.13197948]\n",
      " [ 1.          0.55333328 -1.28296331]\n",
      " [ 1.          0.79566902 -0.13197948]\n",
      " [ 1.          0.4321654   0.78880759]\n",
      " [ 1.          0.06866179 -0.13197948]]\n",
      "[[0]\n",
      " [0]\n",
      " [0]\n",
      " [0]\n",
      " [0]\n",
      " [0]\n",
      " [0]\n",
      " [0]\n",
      " [0]\n",
      " [0]\n",
      " [0]\n",
      " [0]\n",
      " [0]\n",
      " [0]\n",
      " [0]\n",
      " [0]\n",
      " [0]\n",
      " [0]\n",
      " [0]\n",
      " [0]\n",
      " [0]\n",
      " [0]\n",
      " [0]\n",
      " [0]\n",
      " [0]\n",
      " [0]\n",
      " [0]\n",
      " [0]\n",
      " [0]\n",
      " [0]\n",
      " [0]\n",
      " [0]\n",
      " [0]\n",
      " [0]\n",
      " [0]\n",
      " [0]\n",
      " [0]\n",
      " [0]\n",
      " [0]\n",
      " [0]\n",
      " [0]\n",
      " [0]\n",
      " [0]\n",
      " [0]\n",
      " [0]\n",
      " [0]\n",
      " [0]\n",
      " [0]\n",
      " [0]\n",
      " [0]\n",
      " [1]\n",
      " [1]\n",
      " [1]\n",
      " [1]\n",
      " [1]\n",
      " [1]\n",
      " [1]\n",
      " [1]\n",
      " [1]\n",
      " [1]\n",
      " [1]\n",
      " [1]\n",
      " [1]\n",
      " [1]\n",
      " [1]\n",
      " [1]\n",
      " [1]\n",
      " [1]\n",
      " [1]\n",
      " [1]\n",
      " [1]\n",
      " [1]\n",
      " [1]\n",
      " [1]\n",
      " [1]\n",
      " [1]\n",
      " [1]\n",
      " [1]\n",
      " [1]\n",
      " [1]\n",
      " [1]\n",
      " [1]\n",
      " [1]\n",
      " [1]\n",
      " [1]\n",
      " [1]\n",
      " [1]\n",
      " [1]\n",
      " [1]\n",
      " [1]\n",
      " [1]\n",
      " [1]\n",
      " [1]\n",
      " [1]\n",
      " [1]\n",
      " [1]\n",
      " [1]\n",
      " [1]\n",
      " [1]\n",
      " [1]\n",
      " [1]\n",
      " [1]\n",
      " [1]\n",
      " [1]\n",
      " [1]\n",
      " [1]\n",
      " [1]\n",
      " [1]\n",
      " [1]\n",
      " [1]\n",
      " [1]\n",
      " [1]\n",
      " [1]\n",
      " [1]\n",
      " [1]\n",
      " [1]\n",
      " [1]\n",
      " [1]\n",
      " [1]\n",
      " [1]\n",
      " [1]\n",
      " [1]\n",
      " [1]\n",
      " [1]\n",
      " [1]\n",
      " [1]\n",
      " [1]\n",
      " [1]\n",
      " [1]\n",
      " [1]\n",
      " [1]\n",
      " [1]\n",
      " [1]\n",
      " [1]\n",
      " [1]\n",
      " [1]\n",
      " [1]\n",
      " [1]\n",
      " [1]\n",
      " [1]\n",
      " [1]\n",
      " [1]\n",
      " [1]\n",
      " [1]\n",
      " [1]\n",
      " [1]\n",
      " [1]\n",
      " [1]\n",
      " [1]\n",
      " [1]]\n"
     ]
    }
   ],
   "source": [
    "# X_train, X_test, y_train, y_test = train_test_split(X_std, y, test_size=0.33, random_state=42)\n",
    "\n",
    "# X_tr = np.c_[np.ones(len(X_train)),X_train]\n",
    "# X_tr = np.array(X_tr)\n",
    "# X_ts = np.c_[np.ones(len(X_test)),X_test]\n",
    "# X_ts = np.array(X_ts)\n",
    "# y_tr = np.array(y_train)\n",
    "# y_ts = np.array(y_test)\n",
    "\n",
    "X = np.c_[np.ones(len(X)),X_std]\n",
    "X = np.array(X)\n",
    "y = np.array(y)\n",
    "print(X)\n",
    "print(y)"
   ]
  },
  {
   "cell_type": "code",
   "execution_count": 564,
   "metadata": {
    "scrolled": false
   },
   "outputs": [
    {
     "data": {
      "text/plain": [
       "array([[-0.97778127],\n",
       "       [ 0.9954449 ],\n",
       "       [-0.85205156]])"
      ]
     },
     "execution_count": 564,
     "metadata": {},
     "output_type": "execute_result"
    }
   ],
   "source": [
    "fixed_theta"
   ]
  },
  {
   "cell_type": "code",
   "execution_count": 565,
   "metadata": {
    "scrolled": true
   },
   "outputs": [
    {
     "name": "stdout",
     "output_type": "stream",
     "text": [
      "(150, 1)\n"
     ]
    },
    {
     "data": {
      "text/plain": [
       "array([[0.06050571],\n",
       "       [0.11887381],\n",
       "       [0.06681666],\n",
       "       [0.0716826 ],\n",
       "       [0.04481511],\n",
       "       [0.04049208],\n",
       "       [0.04110924],\n",
       "       [0.06494404],\n",
       "       [0.08240738],\n",
       "       [0.09981536],\n",
       "       [0.05879881],\n",
       "       [0.05174418],\n",
       "       [0.10680938],\n",
       "       [0.06140839],\n",
       "       [0.05320199],\n",
       "       [0.02222278],\n",
       "       [0.04049208],\n",
       "       [0.06050571],\n",
       "       [0.06866836],\n",
       "       [0.03452213],\n",
       "       [0.10114045],\n",
       "       [0.04169108],\n",
       "       [0.02814537],\n",
       "       [0.08703995],\n",
       "       [0.05174418],\n",
       "       [0.13209942],\n",
       "       [0.06494404],\n",
       "       [0.06773664],\n",
       "       [0.08122273],\n",
       "       [0.06681666],\n",
       "       [0.08948872],\n",
       "       [0.10114045],\n",
       "       [0.02190643],\n",
       "       [0.02575292],\n",
       "       [0.09981536],\n",
       "       [0.09323151],\n",
       "       [0.09447837],\n",
       "       [0.03992628],\n",
       "       [0.06873931],\n",
       "       [0.07266436],\n",
       "       [0.05400197],\n",
       "       [0.24738174],\n",
       "       [0.04749382],\n",
       "       [0.05400197],\n",
       "       [0.03452213],\n",
       "       [0.10680938],\n",
       "       [0.03452213],\n",
       "       [0.05967765],\n",
       "       [0.0524683 ],\n",
       "       [0.0779206 ],\n",
       "       [0.53432527],\n",
       "       [0.35751222],\n",
       "       [0.55305971],\n",
       "       [0.52336645],\n",
       "       [0.57907949],\n",
       "       [0.34390689],\n",
       "       [0.28844799],\n",
       "       [0.30442772],\n",
       "       [0.56056913],\n",
       "       [0.25867399],\n",
       "       [0.51970798],\n",
       "       [0.31067213],\n",
       "       [0.709458  ],\n",
       "       [0.41105458],\n",
       "       [0.27634049],\n",
       "       [0.49295274],\n",
       "       [0.23888054],\n",
       "       [0.41844105],\n",
       "       [0.75657357],\n",
       "       [0.45558509],\n",
       "       [0.23339168],\n",
       "       [0.45922376],\n",
       "       [0.66064781],\n",
       "       [0.45922376],\n",
       "       [0.50056007],\n",
       "       [0.51183095],\n",
       "       [0.66392695],\n",
       "       [0.54188873],\n",
       "       [0.38219936],\n",
       "       [0.43692464],\n",
       "       [0.47437108],\n",
       "       [0.47437108],\n",
       "       [0.41844105],\n",
       "       [0.47802805],\n",
       "       [0.19780681],\n",
       "       [0.18832649],\n",
       "       [0.49295274],\n",
       "       [0.74239641],\n",
       "       [0.23888054],\n",
       "       [0.42586428],\n",
       "       [0.37874355],\n",
       "       [0.36453208],\n",
       "       [0.46678977],\n",
       "       [0.37530001],\n",
       "       [0.36114264],\n",
       "       [0.26149537],\n",
       "       [0.30109873],\n",
       "       [0.44053487],\n",
       "       [0.31405941],\n",
       "       [0.34390689],\n",
       "       [0.28844799],\n",
       "       [0.41844105],\n",
       "       [0.65710338],\n",
       "       [0.4704406 ],\n",
       "       [0.48168737],\n",
       "       [0.77790377],\n",
       "       [0.26455225],\n",
       "       [0.74796416],\n",
       "       [0.75926355],\n",
       "       [0.39991752],\n",
       "       [0.38566712],\n",
       "       [0.59737016],\n",
       "       [0.57164467],\n",
       "       [0.48562566],\n",
       "       [0.37161006],\n",
       "       [0.35751222],\n",
       "       [0.48168737],\n",
       "       [0.45140188],\n",
       "       [0.89647581],\n",
       "       [0.709458  ],\n",
       "       [0.50422526],\n",
       "       [0.31722638],\n",
       "       [0.85400778],\n",
       "       [0.56805093],\n",
       "       [0.3964043 ],\n",
       "       [0.5935714 ],\n",
       "       [0.48928862],\n",
       "       [0.36453208],\n",
       "       [0.54943294],\n",
       "       [0.68374329],\n",
       "       [0.8029032 ],\n",
       "       [0.51155388],\n",
       "       [0.54943294],\n",
       "       [0.51943117],\n",
       "       [0.55695449],\n",
       "       [0.79804305],\n",
       "       [0.24991358],\n",
       "       [0.40370797],\n",
       "       [0.33707353],\n",
       "       [0.55305971],\n",
       "       [0.49295274],\n",
       "       [0.55305971],\n",
       "       [0.41844105],\n",
       "       [0.47409459],\n",
       "       [0.3964043 ],\n",
       "       [0.54188873],\n",
       "       [0.66064781],\n",
       "       [0.48168737],\n",
       "       [0.22799116],\n",
       "       [0.31067213]])"
      ]
     },
     "execution_count": 565,
     "metadata": {},
     "output_type": "execute_result"
    }
   ],
   "source": [
    "m = -1 * (X @ fixed_theta)\n",
    "print(m.shape)\n",
    "zeroes = np.zeros(len(m))\n",
    "e = zeroes + exp(1)\n",
    "e = e.reshape((len(e),1))\n",
    "# print(e)/\n",
    "# print(e**np.ones(len(m)))\n",
    "1/(1 + e**m)"
   ]
  },
  {
   "cell_type": "code",
   "execution_count": 566,
   "metadata": {
    "scrolled": true
   },
   "outputs": [
    {
     "name": "stdout",
     "output_type": "stream",
     "text": [
      "(150, 3)\n",
      "fixed theta [[-0.97778127]\n",
      " [ 0.9954449 ]\n",
      " [-0.85205156]]\n",
      "(3, 1)\n",
      "[[7.52187673e+00]\n",
      " [4.01256309e+00]\n",
      " [6.95191910e+00]\n",
      " [6.55936456e+00]\n",
      " [9.35968030e+00]\n",
      " [1.00192143e+01]\n",
      " [9.91962858e+00]\n",
      " [7.11331802e+00]\n",
      " [5.80847834e+00]\n",
      " [4.83682296e+00]\n",
      " [7.68972432e+00]\n",
      " [8.45828048e+00]\n",
      " [4.51033212e+00]\n",
      " [7.43562337e+00]\n",
      " [8.28858345e+00]\n",
      " [1.43198972e+01]\n",
      " [1.00192143e+01]\n",
      " [7.52187673e+00]\n",
      " [6.79815364e+00]\n",
      " [1.10957112e+01]\n",
      " [4.77255001e+00]\n",
      " [9.82749164e+00]\n",
      " [1.25445117e+01]\n",
      " [5.52402750e+00]\n",
      " [8.45828048e+00]\n",
      " [3.54389048e+00]\n",
      " [7.11331802e+00]\n",
      " [6.87482142e+00]\n",
      " [5.88474120e+00]\n",
      " [6.95191910e+00]\n",
      " [5.38190708e+00]\n",
      " [4.77255001e+00]\n",
      " [1.44310726e+01]\n",
      " [1.31995381e+01]\n",
      " [4.83682296e+00]\n",
      " [5.17472142e+00]\n",
      " [5.10823395e+00]\n",
      " [1.01122435e+01]\n",
      " [6.79237230e+00]\n",
      " [6.48448141e+00]\n",
      " [8.19802845e+00]\n",
      " [1.23793543e+00]\n",
      " [8.99098447e+00]\n",
      " [8.19802845e+00]\n",
      " [1.10957112e+01]\n",
      " [4.51033212e+00]\n",
      " [1.10957112e+01]\n",
      " [7.60251115e+00]\n",
      " [8.37321702e+00]\n",
      " [6.10554901e+00]\n",
      " [1.89110296e-02]\n",
      " [3.43604947e-01]\n",
      " [4.53864484e-02]\n",
      " [8.74859505e-03]\n",
      " [1.01758284e-01]\n",
      " [4.17227852e-01]\n",
      " [8.15289282e-01]\n",
      " [6.82773713e-01]\n",
      " [5.92786960e-02]\n",
      " [1.10853934e+00]\n",
      " [6.22091433e-03]\n",
      " [6.35175401e-01]\n",
      " [7.97008159e-01]\n",
      " [1.29317575e-01]\n",
      " [9.26766691e-01]\n",
      " [7.94728158e-04]\n",
      " [1.34287941e+00]\n",
      " [1.08357047e-01]\n",
      " [1.28592201e+00]\n",
      " [3.17299996e-02]\n",
      " [1.41433447e+00]\n",
      " [2.67217916e-02]\n",
      " [4.43799000e-01]\n",
      " [2.67217916e-02]\n",
      " [5.01889324e-06]\n",
      " [2.24037996e-03]\n",
      " [4.63547952e-01]\n",
      " [2.82067293e-02]\n",
      " [2.30614579e-01]\n",
      " [6.43397130e-02]\n",
      " [1.05279071e-02]\n",
      " [1.05279071e-02]\n",
      " [1.08357047e-01]\n",
      " [7.73422425e-03]\n",
      " [1.96016413e+00]\n",
      " [2.13429029e+00]\n",
      " [7.94728158e-04]\n",
      " [1.12034061e+00]\n",
      " [1.34287941e+00]\n",
      " [8.92486375e-02]\n",
      " [2.44910786e-01]\n",
      " [3.08854776e-01]\n",
      " [1.76987907e-02]\n",
      " [2.59636892e-01]\n",
      " [3.25365508e-01]\n",
      " [1.07788166e+00]\n",
      " [7.09084048e-01]\n",
      " [5.71169798e-02]\n",
      " [6.10287284e-01]\n",
      " [4.17227852e-01]\n",
      " [8.15289282e-01]\n",
      " [1.08357047e-01]\n",
      " [4.23036222e-01]\n",
      " [1.40127946e-02]\n",
      " [5.37044013e-03]\n",
      " [1.57124230e+00]\n",
      " [1.04538506e+00]\n",
      " [1.18327346e+00]\n",
      " [1.31938801e+00]\n",
      " [1.64680783e-01]\n",
      " [2.16748270e-01]\n",
      " [1.55645492e-01]\n",
      " [8.32694881e-02]\n",
      " [3.30777121e-03]\n",
      " [2.75956722e-01]\n",
      " [3.43604947e-01]\n",
      " [5.37044013e-03]\n",
      " [3.80281726e-02]\n",
      " [4.65983907e+00]\n",
      " [7.97008159e-01]\n",
      " [2.85658681e-04]\n",
      " [5.87595390e-01]\n",
      " [3.12012307e+00]\n",
      " [7.50230609e-02]\n",
      " [1.76794981e-01]\n",
      " [1.43451000e-01]\n",
      " [1.83630032e-03]\n",
      " [3.08854776e-01]\n",
      " [3.93545463e-02]\n",
      " [5.94484618e-01]\n",
      " [1.97273035e+00]\n",
      " [2.13663444e-03]\n",
      " [3.93545463e-02]\n",
      " [6.04721857e-03]\n",
      " [5.23544807e-02]\n",
      " [1.88817275e+00]\n",
      " [1.20796195e+00]\n",
      " [1.52130219e-01]\n",
      " [4.57466883e-01]\n",
      " [4.53864484e-02]\n",
      " [7.94728158e-04]\n",
      " [4.53864484e-02]\n",
      " [1.08357047e-01]\n",
      " [1.07566973e-02]\n",
      " [1.76794981e-01]\n",
      " [2.82067293e-02]\n",
      " [4.43799000e-01]\n",
      " [5.37044013e-03]\n",
      " [1.48764165e+00]\n",
      " [6.35175401e-01]]\n"
     ]
    },
    {
     "ename": "ValueError",
     "evalue": "matmul: Input operand 1 has a mismatch in its core dimension 0, with gufunc signature (n?,k),(k,m?)->(n?,m?) (size 150 is different from 1)",
     "output_type": "error",
     "traceback": [
      "\u001b[1;31m---------------------------------------------------------------------------\u001b[0m",
      "\u001b[1;31mValueError\u001b[0m                                Traceback (most recent call last)",
      "\u001b[1;32m<ipython-input-566-13b25d489c1b>\u001b[0m in \u001b[0;36m<module>\u001b[1;34m\u001b[0m\n\u001b[0;32m      5\u001b[0m \u001b[0ma\u001b[0m \u001b[1;33m=\u001b[0m \u001b[1;33m(\u001b[0m\u001b[0mX\u001b[0m \u001b[1;33m@\u001b[0m \u001b[0mfixed_theta\u001b[0m\u001b[1;33m)\u001b[0m   \u001b[1;31m# (150,)\u001b[0m\u001b[1;33m\u001b[0m\u001b[1;33m\u001b[0m\u001b[0m\n\u001b[0;32m      6\u001b[0m \u001b[0mprint\u001b[0m\u001b[1;33m(\u001b[0m\u001b[0ma\u001b[0m \u001b[1;33m*\u001b[0m \u001b[0ma\u001b[0m\u001b[1;33m)\u001b[0m\u001b[1;33m\u001b[0m\u001b[1;33m\u001b[0m\u001b[0m\n\u001b[1;32m----> 7\u001b[1;33m \u001b[0mprint\u001b[0m\u001b[1;33m(\u001b[0m\u001b[0ma\u001b[0m \u001b[1;33m@\u001b[0m \u001b[0ma\u001b[0m\u001b[1;33m)\u001b[0m\u001b[1;33m\u001b[0m\u001b[1;33m\u001b[0m\u001b[0m\n\u001b[0m",
      "\u001b[1;31mValueError\u001b[0m: matmul: Input operand 1 has a mismatch in its core dimension 0, with gufunc signature (n?,k),(k,m?)->(n?,m?) (size 150 is different from 1)"
     ]
    }
   ],
   "source": [
    "# print(X[:,[1]])\n",
    "print(X.shape)\n",
    "print('fixed theta', fixed_theta)\n",
    "print(fixed_theta.shape)\n",
    "a = (X @ fixed_theta)   # (150,)\n",
    "print(a * a)\n",
    "print(a @ a)"
   ]
  },
  {
   "cell_type": "code",
   "execution_count": 567,
   "metadata": {},
   "outputs": [],
   "source": [
    "def g(X,theta): # returns (n,1)  # assuming X(n,3) and theta(3,1)\n",
    "    m = -1 * (X @ theta)  # (150,1)\n",
    "    e = np.zeros(len(m)) + exp(1)\n",
    "    e = e.reshape(m.shape)\n",
    "    em = e ** m\n",
    "    ones1 = np.ones(len(m)).reshape(m.shape)\n",
    "    ones2 = np.ones(len(m)).reshape(m.shape)\n",
    "    return ones1/(ones2 + e**m)"
   ]
  },
  {
   "cell_type": "code",
   "execution_count": 568,
   "metadata": {},
   "outputs": [],
   "source": [
    "def likelihood(y,X,theta):\n",
    "    gXt = g(X,theta)  # (n,1)\n",
    "    o_gXt = (np.ones(len(gXt)).reshape(gXt.shape) - gXt)  # (n,1)\n",
    "    o_y = (np.ones(len(y)).reshape(y.shape) - y)\n",
    "    p = ((gXt**y) * (o_gXt**o_y))\n",
    "#     return p\n",
    "    return np.prod(p)\n",
    "\n",
    "def log_likelihood(y,X,theta):\n",
    "    gXt = g(X,theta)  # (n,1)\n",
    "    o_gXt = (np.ones(len(gXt)).reshape(gXt.shape) - gXt)  # (n,1)\n",
    "    o_y = (np.ones(len(y)).reshape(y.shape) - y)\n",
    "    p = ((y * np.log(gXt)) + (o_y * np.log(o_gXt)))\n",
    "#     return p\n",
    "    return np.sum(p)\n",
    "\n",
    "def loss(y,X,theta):\n",
    "    return -1 * log_likelihood(y,X,theta)\n",
    "\n",
    "def compute_new_theta(theta, eta, X, y):\n",
    "    return theta + (eta * (X.T @ (y - g(X, theta))))"
   ]
  },
  {
   "cell_type": "code",
   "execution_count": 569,
   "metadata": {},
   "outputs": [
    {
     "data": {
      "text/plain": [
       "-84.2228405782823"
      ]
     },
     "execution_count": 569,
     "metadata": {},
     "output_type": "execute_result"
    }
   ],
   "source": [
    "theta = np.array(fixed_theta.copy())\n",
    "# gXt = g(X,theta)\n",
    "# o_gXt = (np.ones(len(gXt)).reshape(gXt.shape) - gXt)\n",
    "# o_y = (np.ones(len(y)).reshape(y.shape) - y)\n",
    "# y\n",
    "log_likelihood(y,X,theta)\n",
    "# g(X,theta).shape\n",
    "# loss(y,X,theta)\n",
    "# likelihood(y,X,fixed_theta)\n",
    "# log_likelihood(y,X,fixed_theta)\n",
    "# g(X,fixed_theta).shape\n",
    "# compute_new_theta(fixed_theta, 0.1, X,y)"
   ]
  },
  {
   "cell_type": "code",
   "execution_count": 570,
   "metadata": {
    "scrolled": true
   },
   "outputs": [
    {
     "name": "stdout",
     "output_type": "stream",
     "text": [
      "maxE 1.1920928955078125e-07\n",
      "Initial theta:  [[0.56424126]\n",
      " [0.4222752 ]\n",
      " [0.76521087]]\n"
     ]
    },
    {
     "name": "stderr",
     "output_type": "stream",
     "text": [
      "s:\\python\\3.7.7\\lib\\site-packages\\ipykernel_launcher.py:17: RuntimeWarning: invalid value encountered in multiply\n"
     ]
    },
    {
     "name": "stdout",
     "output_type": "stream",
     "text": [
      "new theta [[10.19172108]\n",
      " [15.71577856]\n",
      " [-7.70512298]]\n"
     ]
    }
   ],
   "source": [
    "#3\n",
    "\n",
    "theta = []\n",
    "for i in range(3):\n",
    "    theta.append(random.uniform(-1,1))\n",
    "theta = np.array(theta).reshape(3,1)\n",
    "\n",
    "# theta = fixed_theta.copy()\n",
    "# theta = np.array(theta)\n",
    "# theta = theta.reshape(1,3)\n",
    "\n",
    "maxE = 2**(-23)\n",
    "print('maxE',maxE)\n",
    "# new_theta = theta.copy()\n",
    "# theta = np.array(new_theta)\n",
    "# thetas = []\n",
    "\n",
    "# print(g(X_tr, theta))\n",
    "\n",
    "print('Initial theta: ',theta)\n",
    "\n",
    "iteration = 0\n",
    "log_errors = []\n",
    "previous_l = 1\n",
    "np.seterr(divide = 'ignore') \n",
    "\n",
    "while True:\n",
    "    new_theta = compute_new_theta(theta, 0.01, X, y)\n",
    "#     print('new theta', new_theta)\n",
    "#     print(new_theta.shape)\n",
    "#     if abs(theta[0] - new_theta[0]) < maxE and abs(theta[1] - new_theta[1]) < maxE and abs(theta[2] - new_theta[2]) < maxE:\n",
    "#         break\n",
    "    if iteration == 10000:\n",
    "        break\n",
    "    \n",
    "    likelihood_product = log_likelihood(y,X,new_theta)\n",
    "    l = loss(y,X,new_theta)\n",
    "#     print('likelihood_product',likelihood_product)\n",
    "    if abs(previous_l - l) < maxE:\n",
    "        print('loss', likelihood_product)\n",
    "        break\n",
    "    previous_l = l\n",
    "    \n",
    "#     for x,y in zip(X, yz):\n",
    "# #         X1 = x[1]\n",
    "# #         X2 = x[2]\n",
    "#         y_a = y\n",
    "#         y_p = y_compute(x, new_theta)\n",
    "#         if y_p <= 0:\n",
    "#             print(y_p)\n",
    "#         try:\n",
    "#             if y_p == 0 or 1 - y_p == 0:\n",
    "#                 print(x,y_a, y_p ,theta)\n",
    "#             error = (y_a * np.log(y_p)) + ((1-y_a) * np.log(1-y_p))\n",
    "#             error_sum += error\n",
    "#         except:\n",
    "#             print('y_a',y_a)\n",
    "#             print('y_p',y_p)\n",
    "    \n",
    "#     log_error = (-1) * error_sum / X_tr.shape[0]\n",
    "#     if log_error - 0.00751309 < 0.00000001:\n",
    "#         print('oye',new_theta)\n",
    "#         print(log_error)\n",
    "#     log_errors.append(log_error)\n",
    "#     thetas.append(new_theta)\n",
    "    \n",
    "#     if abs(log_error) < maxE:\n",
    "#         break\n",
    "    \n",
    "    \n",
    "    theta = new_theta\n",
    "    iteration = iteration + 1\n",
    "\n",
    "print('new theta',new_theta)\n",
    "# print('errors', log_errors)\n",
    "# print(iteration)\n",
    "\n",
    "\n",
    "# plt.axes(xlabel='iterations', ylabel='RMSEs for Test set')\n",
    "# plt.plot(iterations, RMSEs_test)\n",
    "# plt.show()\n",
    "\n",
    "# plt.axes(xlabel='iterations', ylabel='RMSEs for Training set')\n",
    "# plt.plot(iterations, RMSEs_train)\n",
    "# plt.show()"
   ]
  },
  {
   "cell_type": "code",
   "execution_count": 571,
   "metadata": {},
   "outputs": [
    {
     "name": "stdout",
     "output_type": "stream",
     "text": [
      "[[ 19.97028527  60.36395919 -28.8049862 ]]\n"
     ]
    }
   ],
   "source": [
    "lgr = LogisticRegression(penalty='none',solver='lbfgs',max_iter=1000)\n",
    "lgr.fit(X,y_o)\n",
    "target_theta = np.array(lgr.coef_)\n",
    "print(target_theta)"
   ]
  },
  {
   "cell_type": "code",
   "execution_count": 599,
   "metadata": {},
   "outputs": [
    {
     "data": {
      "image/png": "[encoded data removed]",
      "text/plain": [
       "<Figure size 432x288 with 1 Axes>"
      ]
     },
     "metadata": {
      "needs_background": "light"
     },
     "output_type": "display_data"
    }
   ],
   "source": [
    "fig = plt.figure().gca(projection='3d')\n",
    "fig.scatter(X[:,1:2], X[:,2:3], y, 'bo')\n",
    "# fig.set_title('Training Data')\n",
    "# fig.set_xlabel('Age')\n",
    "# fig.set_ylabel('Temp of Water')\n",
    "# fig.set_zlabel('Length of Fish')\n",
    "y_computed = g(X,theta)\n",
    "fig.plot_trisurf((X[:,1:2]).reshape(150,), X[:,2:3].reshape(150,), y_computed.reshape(150,), color='red')\n",
    "plt.show()"
   ]
  },
  {
   "cell_type": "code",
   "execution_count": null,
   "metadata": {},
   "outputs": [],
   "source": [
    "fig = plt.figure().gca(projection='3d')\n",
    "fig.scatter(X_test['Age'], X_test['Temp of Water'], Y_test, 'bo')\n",
    "fig.set_title('Training Data')\n",
    "fig.set_xlabel('Age')\n",
    "fig.set_ylabel('Temp of Water')\n",
    "fig.set_zlabel('Length of Fish')\n",
    "plt.show()"
   ]
  },
  {
   "cell_type": "markdown",
   "metadata": {},
   "source": [
    "# 3 Logistic Regression Spam Classification"
   ]
  },
  {
   "cell_type": "code",
   "execution_count": 450,
   "metadata": {},
   "outputs": [],
   "source": [
    "from sklearn import datasets\n",
    "from sklearn import preprocessing\n",
    "from sklearn.model_selection import train_test_split\n",
    "from sklearn.linear_model import LogisticRegression\n",
    "import random\n",
    "import numpy as np\n",
    "from numpy import genfromtxt\n",
    "import matplotlib.pyplot as plt\n",
    "from mpl_toolkits.mplot3d import Axes3D\n",
    "import seaborn as sb # I'm not using this for the assignment, this is just to get a feel for the data\n",
    "import pandas as pd\n",
    "import math\n",
    "from math import exp"
   ]
  },
  {
   "cell_type": "code",
   "execution_count": 467,
   "metadata": {},
   "outputs": [],
   "source": [
    "#1\n",
    "spam = genfromtxt('spambase.data', delimiter=',')\n",
    "X = spam[:,:-1]\n",
    "y = (spam[:,-1:]).reshape(len(spam),1)"
   ]
  },
  {
   "cell_type": "code",
   "execution_count": 468,
   "metadata": {},
   "outputs": [],
   "source": [
    "X_train, X_test, y_train, y_test = train_test_split(X, y, test_size=0.33, random_state=0)\n",
    "X_tr = preprocessing.scale(X_train)\n",
    "X_tr_mean = X_tr.mean(axis=0)\n",
    "X_tr_stddev = X_tr.std(axis=0)\n",
    "X_ts = X_test - X_tr_mean / X_tr_stddev"
   ]
  },
  {
   "cell_type": "code",
   "execution_count": 469,
   "metadata": {},
   "outputs": [
    {
     "data": {
      "text/plain": [
       "(3082, 58)"
      ]
     },
     "execution_count": 469,
     "metadata": {},
     "output_type": "execute_result"
    }
   ],
   "source": [
    "X_tr = np.c_[np.ones(len(X_tr)),X_tr]\n",
    "X_tr = np.array(X_tr)\n",
    "X_ts = np.c_[np.ones(len(X_ts)),X_ts]\n",
    "X_ts = np.array(X_ts)\n",
    "X_tr.shape"
   ]
  },
  {
   "cell_type": "code",
   "execution_count": 470,
   "metadata": {
    "scrolled": true
   },
   "outputs": [
    {
     "data": {
      "text/plain": [
       "(58, 1)"
      ]
     },
     "execution_count": 470,
     "metadata": {},
     "output_type": "execute_result"
    }
   ],
   "source": [
    "fixed_theta = []\n",
    "for i in range(58):\n",
    "    fixed_theta.append(random.uniform(-1,1))\n",
    "fixed_theta = np.array(fixed_theta).reshape(58,1)\n",
    "fixed_theta.shape"
   ]
  },
  {
   "cell_type": "code",
   "execution_count": 471,
   "metadata": {},
   "outputs": [],
   "source": [
    "def g(X,theta): # returns (n,1)  # assuming X(n,3) and theta(3,1)\n",
    "    m = -1 * (X @ theta)  # (150,1)\n",
    "    e = np.zeros(len(m)) + exp(1)\n",
    "    e = e.reshape(m.shape)\n",
    "    em = e ** m\n",
    "    ones1 = np.ones(len(m)).reshape(m.shape)\n",
    "    ones2 = np.ones(len(m)).reshape(m.shape)\n",
    "    return ones1/(ones2 + e**m)"
   ]
  },
  {
   "cell_type": "code",
   "execution_count": 472,
   "metadata": {},
   "outputs": [],
   "source": [
    "def likelihood(y,X,theta):\n",
    "    gXt = g(X,theta)  # (n,1)\n",
    "    o_gXt = (np.ones(len(gXt)).reshape(gXt.shape) - gXt)  # (n,1)\n",
    "    o_y = (np.ones(len(y)).reshape(y.shape) - y)\n",
    "    p = ((gXt**y) * (o_gXt**o_y))\n",
    "#     return p\n",
    "    return np.prod(p)\n",
    "\n",
    "def log_likelihood(y,X,theta):\n",
    "    gXt = g(X,theta)  # (n,1)\n",
    "    o_gXt = (np.ones(len(gXt)).reshape(gXt.shape) - gXt)  # (n,1)\n",
    "    o_y = (np.ones(len(y)).reshape(y.shape) - y)\n",
    "    p = ((y * np.log(gXt)) + (o_y * np.log(o_gXt)))\n",
    "#     return p\n",
    "    return np.sum(p)\n",
    "\n",
    "def loss(y,X,theta):\n",
    "    return -1 * log_likelihood(y,X,theta)\n",
    "\n",
    "def compute_new_theta(theta, eta, X, y):\n",
    "    return theta + (eta * (X.T @ (y - g(X, theta))))"
   ]
  },
  {
   "cell_type": "code",
   "execution_count": 474,
   "metadata": {},
   "outputs": [
    {
     "data": {
      "text/plain": [
       "array([[0.97607827],\n",
       "       [0.19930682],\n",
       "       [0.91222134],\n",
       "       ...,\n",
       "       [0.59974211],\n",
       "       [0.64977495],\n",
       "       [0.31599545]])"
      ]
     },
     "execution_count": 474,
     "metadata": {},
     "output_type": "execute_result"
    }
   ],
   "source": [
    "# g(X_tr, fixed_theta)"
   ]
  },
  {
   "cell_type": "code",
   "execution_count": 476,
   "metadata": {},
   "outputs": [
    {
     "name": "stdout",
     "output_type": "stream",
     "text": [
      "maxE 1.1920928955078125e-07\n",
      "Initial theta:  [[ 5.47604425e-02]\n",
      " [ 2.52311211e-01]\n",
      " [-3.56866198e-01]\n",
      " [ 5.54150267e-01]\n",
      " [ 8.11530451e-01]\n",
      " [-1.53071251e-01]\n",
      " [-9.73110844e-01]\n",
      " [ 6.26905824e-01]\n",
      " [ 5.89135423e-01]\n",
      " [-9.71117022e-01]\n",
      " [ 5.56994735e-01]\n",
      " [-9.80304248e-01]\n",
      " [ 4.05034355e-01]\n",
      " [ 8.85443962e-03]\n",
      " [-6.16206615e-01]\n",
      " [-8.54411118e-01]\n",
      " [ 9.72644697e-02]\n",
      " [-7.64148079e-01]\n",
      " [ 9.78527323e-01]\n",
      " [-2.10889868e-02]\n",
      " [ 7.95950466e-02]\n",
      " [-2.68193057e-01]\n",
      " [-8.70025331e-01]\n",
      " [ 5.88333512e-01]\n",
      " [ 4.49086826e-01]\n",
      " [-5.87984315e-01]\n",
      " [ 7.21234827e-01]\n",
      " [-9.05696001e-01]\n",
      " [-6.51457030e-01]\n",
      " [ 4.56598986e-01]\n",
      " [ 7.02809001e-02]\n",
      " [ 7.72300481e-01]\n",
      " [ 5.92517645e-01]\n",
      " [-6.79797342e-02]\n",
      " [-9.98946210e-02]\n",
      " [ 9.54409700e-04]\n",
      " [-8.46901138e-01]\n",
      " [ 4.61327759e-01]\n",
      " [ 8.21832417e-01]\n",
      " [ 3.20188454e-01]\n",
      " [-2.35972847e-01]\n",
      " [ 9.02634306e-01]\n",
      " [ 1.59296219e-01]\n",
      " [ 1.01146516e-01]\n",
      " [-9.69929080e-01]\n",
      " [-2.32834820e-01]\n",
      " [-5.39951202e-01]\n",
      " [-6.15992476e-01]\n",
      " [ 8.03613386e-01]\n",
      " [ 5.07479894e-01]\n",
      " [-1.98768274e-01]\n",
      " [ 2.26379867e-01]\n",
      " [-4.77174559e-01]\n",
      " [ 6.43037510e-01]\n",
      " [-3.91292712e-01]\n",
      " [-6.74093728e-01]\n",
      " [-7.20314809e-02]\n",
      " [ 8.02241157e-01]]\n"
     ]
    },
    {
     "name": "stderr",
     "output_type": "stream",
     "text": [
      "s:\\python\\3.7.7\\lib\\site-packages\\ipykernel_launcher.py:13: RuntimeWarning: invalid value encountered in multiply\n",
      "  del sys.path[0]\n"
     ]
    },
    {
     "name": "stdout",
     "output_type": "stream",
     "text": [
      "new theta [[-1.22926481e+01]\n",
      " [ 2.10062334e-03]\n",
      " [-8.67416906e-02]\n",
      " [-3.85063696e-02]\n",
      " [ 6.41705314e+00]\n",
      " [ 1.11132234e+00]\n",
      " [ 2.97124545e-01]\n",
      " [ 1.94858945e+00]\n",
      " [ 4.30557516e-01]\n",
      " [ 4.34028678e-01]\n",
      " [-4.32455141e-03]\n",
      " [ 8.23688071e-02]\n",
      " [-6.19222025e-02]\n",
      " [ 2.80321689e-02]\n",
      " [ 2.52743166e-01]\n",
      " [ 6.49902351e-01]\n",
      " [ 2.02064583e+00]\n",
      " [ 6.50649363e-01]\n",
      " [-3.39493980e-01]\n",
      " [-3.05142476e-01]\n",
      " [ 7.94283496e-01]\n",
      " [ 6.34380485e-01]\n",
      " [ 6.26830518e-01]\n",
      " [ 1.54305909e+00]\n",
      " [ 2.43322108e-01]\n",
      " [-3.63869804e+00]\n",
      " [-1.70857887e+00]\n",
      " [-2.60020573e+01]\n",
      " [ 9.09252517e-01]\n",
      " [-1.35746355e+00]\n",
      " [-7.04643112e-02]\n",
      " [-3.09948562e+00]\n",
      " [ 1.80709036e+00]\n",
      " [-8.64145055e-01]\n",
      " [-7.00007060e+00]\n",
      " [-3.75276403e+00]\n",
      " [ 1.06594611e+00]\n",
      " [ 6.15506887e-01]\n",
      " [ 2.96229398e-01]\n",
      " [-4.56875789e-01]\n",
      " [ 4.39283357e-02]\n",
      " [-9.36350543e+00]\n",
      " [-2.55945052e+00]\n",
      " [-5.17530302e-01]\n",
      " [-1.38792493e+00]\n",
      " [-1.56987292e+00]\n",
      " [-3.45683030e+00]\n",
      " [-2.59806560e-01]\n",
      " [-2.17156506e+00]\n",
      " [-3.81028392e-01]\n",
      " [ 2.59887380e-01]\n",
      " [-4.91674092e-02]\n",
      " [ 5.28169321e-01]\n",
      " [ 2.82495914e+00]\n",
      " [ 2.10235060e+00]\n",
      " [-4.95204601e-01]\n",
      " [ 2.85891794e+00]\n",
      " [ 1.52728330e+00]]\n"
     ]
    }
   ],
   "source": [
    "maxE = 2**(-23)\n",
    "print('maxE',maxE)\n",
    "theta = fixed_theta.copy()\n",
    "new_theta = theta.copy()\n",
    "\n",
    "print('Initial theta: ',theta)\n",
    "\n",
    "eta = 0.01\n",
    "iteration = 0\n",
    "log_errors = []\n",
    "previous_l = 1\n",
    "np.seterr(divide = 'ignore') \n",
    "\n",
    "while True:\n",
    "    new_theta = compute_new_theta(theta, eta, X_tr, y_train)\n",
    "    if iteration == 1500:\n",
    "        break\n",
    "    \n",
    "    likelihood_product = log_likelihood(y_train,X_tr,new_theta)\n",
    "    l = loss(y_train,X_tr,new_theta)\n",
    "    if abs(previous_l - l) < maxE:\n",
    "        print('loss', likelihood_product)\n",
    "        break\n",
    "    previous_l = l\n",
    "    \n",
    "    theta = new_theta\n",
    "    iteration = iteration + 1\n",
    "\n",
    "print('new theta',new_theta)"
   ]
  },
  {
   "cell_type": "code",
   "execution_count": 487,
   "metadata": {},
   "outputs": [
    {
     "name": "stderr",
     "output_type": "stream",
     "text": [
      "s:\\python\\3.7.7\\lib\\site-packages\\sklearn\\utils\\validation.py:760: DataConversionWarning: A column-vector y was passed when a 1d array was expected. Please change the shape of y to (n_samples, ), for example using ravel().\n",
      "  y = column_or_1d(y, warn=True)\n"
     ]
    },
    {
     "name": "stdout",
     "output_type": "stream",
     "text": [
      "[[-1.37683977e+01 -1.15823113e-01 -1.54829578e-01  5.88964677e-02\n",
      "   3.31466052e+00  4.78242117e-01  1.43955024e-01  9.08362560e-01\n",
      "   1.98165209e-01  1.11001146e-01  7.49723465e-04  1.18208076e-02\n",
      "  -1.36552959e-01  2.08772984e-02  2.51845359e-02  2.18030948e-01\n",
      "   9.18906990e-01  3.57096918e-01 -8.94321353e-02  2.22612634e-01\n",
      "   4.11468123e-01  3.45461467e-01  2.07068520e-01  9.85107234e-01\n",
      "   1.19911935e-01 -2.89298692e+00 -1.48271980e+00 -7.75687969e+01\n",
      "   3.40151670e-01 -9.98170005e-01 -2.85790702e-01 -1.36610255e+00\n",
      "   8.35403744e-01 -6.33885495e-01 -4.62946715e+00 -2.53536138e+00\n",
      "   5.05018120e-01  1.00414807e-01  1.24264944e-01 -4.10387846e-01\n",
      "  -1.43067931e-01 -5.76364863e+01 -2.18187305e+00 -5.79442919e-01\n",
      "  -8.66400836e-01 -9.65175263e-01 -2.34124778e+00 -1.46286971e-01\n",
      "  -1.66587061e+00 -3.72079637e-01  1.48997850e-02 -1.23613383e-01\n",
      "   2.31757015e-01  1.52385869e+00  1.37802225e+00  1.35055228e+00\n",
      "   2.47136200e+00  7.26397266e-01]]\n"
     ]
    },
    {
     "name": "stderr",
     "output_type": "stream",
     "text": [
      "s:\\python\\3.7.7\\lib\\site-packages\\sklearn\\linear_model\\_logistic.py:940: ConvergenceWarning: lbfgs failed to converge (status=1):\n",
      "STOP: TOTAL NO. of ITERATIONS REACHED LIMIT.\n",
      "\n",
      "Increase the number of iterations (max_iter) or scale the data as shown in:\n",
      "    https://scikit-learn.org/stable/modules/preprocessing.html\n",
      "Please also refer to the documentation for alternative solver options:\n",
      "    https://scikit-learn.org/stable/modules/linear_model.html#logistic-regression\n",
      "  extra_warning_msg=_LOGISTIC_SOLVER_CONVERGENCE_MSG)\n"
     ]
    }
   ],
   "source": [
    "lgr = LogisticRegression(penalty='none',solver='lbfgs',max_iter=1000)\n",
    "lgr.fit(X_tr,y_train)\n",
    "target_theta = np.array(lgr.coef_)\n",
    "print(target_theta)"
   ]
  },
  {
   "cell_type": "code",
   "execution_count": 484,
   "metadata": {},
   "outputs": [
    {
     "name": "stdout",
     "output_type": "stream",
     "text": [
      "612\n",
      "151\n",
      "753\n",
      "3\n",
      "\n",
      "Precision 0.44835164835164837\n",
      "Recall 0.9951219512195122\n",
      "F-measure 0.6181818181818183\n",
      "Accuracy 0.5023041474654378\n"
     ]
    },
    {
     "name": "stderr",
     "output_type": "stream",
     "text": [
      "s:\\python\\3.7.7\\lib\\site-packages\\ipykernel_launcher.py:5: RuntimeWarning: overflow encountered in power\n",
      "  \"\"\"\n",
      "s:\\python\\3.7.7\\lib\\site-packages\\ipykernel_launcher.py:8: RuntimeWarning: overflow encountered in power\n",
      "  \n"
     ]
    }
   ],
   "source": [
    "spam_p = 0\n",
    "nospam_p = 0\n",
    "tp = 0\n",
    "tn = 0\n",
    "fp = 0\n",
    "fn = 0\n",
    "for x_a, y_a in zip(X_ts, y_test):\n",
    "    y_p = 1 if g(x_a, new_theta)[0] > 0.5 else 0\n",
    "    if y_a[0] == 1:\n",
    "        if y_p == 1:\n",
    "            tp += 1\n",
    "        else:  # y_p == 0\n",
    "            fn += 1\n",
    "    else: # y_a[0] == 0\n",
    "        if y_p == 1:\n",
    "            fp += 1\n",
    "        else:\n",
    "            tn += 1\n",
    "print(tp)\n",
    "print(tn)\n",
    "print(fp)\n",
    "print(fn)\n",
    "p = tp / (tp+fp)\n",
    "r = tp / (tp + fn)\n",
    "f = 2 * (p*r) / (p + r)\n",
    "a = (tp + tn) / (tp + tn + fp + fn)\n",
    "print()\n",
    "print('Precision', p)\n",
    "print('Recall', r)\n",
    "print('F-measure', f)\n",
    "print('Accuracy', a)"
   ]
  },
  {
   "cell_type": "code",
   "execution_count": 489,
   "metadata": {},
   "outputs": [
    {
     "name": "stdout",
     "output_type": "stream",
     "text": [
      "609\n",
      "258\n",
      "646\n",
      "6\n",
      "\n",
      "Precision 0.4852589641434263\n",
      "Recall 0.9902439024390244\n",
      "F-measure 0.6513368983957218\n",
      "Accuracy 0.5707702435813035\n"
     ]
    },
    {
     "name": "stderr",
     "output_type": "stream",
     "text": [
      "s:\\python\\3.7.7\\lib\\site-packages\\ipykernel_launcher.py:5: RuntimeWarning: overflow encountered in power\n",
      "  \"\"\"\n",
      "s:\\python\\3.7.7\\lib\\site-packages\\ipykernel_launcher.py:8: RuntimeWarning: overflow encountered in power\n",
      "  \n"
     ]
    }
   ],
   "source": [
    "spam_p = 0\n",
    "nospam_p = 0\n",
    "tp = 0\n",
    "tn = 0\n",
    "fp = 0\n",
    "fn = 0\n",
    "for x_a, y_a in zip(X_ts, y_test):\n",
    "    y_p = 1 if g(x_a, target_theta.reshape(58,1))[0] > 0.5 else 0\n",
    "    if y_a[0] == 1:\n",
    "        if y_p == 1:\n",
    "            tp += 1\n",
    "        else:  # y_p == 0\n",
    "            fn += 1\n",
    "    else: # y_a[0] == 0\n",
    "        if y_p == 1:\n",
    "            fp += 1\n",
    "        else:\n",
    "            tn += 1\n",
    "print(tp)\n",
    "print(tn)\n",
    "print(fp)\n",
    "print(fn)\n",
    "p = tp / (tp+fp)\n",
    "r = tp / (tp + fn)\n",
    "f = 2 * (p*r) / (p + r)\n",
    "a = (tp + tn) / (tp + tn + fp + fn)\n",
    "print()\n",
    "print('Precision', p)\n",
    "print('Recall', r)\n",
    "print('F-measure', f)\n",
    "print('Accuracy', a)"
   ]
  },
  {
   "cell_type": "code",
   "execution_count": null,
   "metadata": {},
   "outputs": [],
   "source": []
  },
  {
   "cell_type": "markdown",
   "metadata": {},
   "source": [
    "# 4 Naive Bayes Classifier"
   ]
  },
  {
   "cell_type": "code",
   "execution_count": 491,
   "metadata": {},
   "outputs": [],
   "source": [
    "from sklearn import datasets\n",
    "from sklearn import preprocessing\n",
    "from sklearn.model_selection import train_test_split\n",
    "from sklearn.linear_model import LogisticRegression\n",
    "import random\n",
    "import numpy as np\n",
    "from numpy import genfromtxt\n",
    "import matplotlib.pyplot as plt\n",
    "from mpl_toolkits.mplot3d import Axes3D\n",
    "import seaborn as sb # I'm not using this for the assignment, this is just to get a feel for the data\n",
    "import pandas as pd\n",
    "import math\n",
    "from math import exp"
   ]
  },
  {
   "cell_type": "code",
   "execution_count": 496,
   "metadata": {},
   "outputs": [],
   "source": [
    "\n",
    "#1\n",
    "spam = genfromtxt('spambase.data', delimiter=',')\n",
    "X = spam[:,:-1]\n",
    "y = (spam[:,-1:]).reshape(len(spam),1)\n",
    "\n",
    "#2 and 3\n",
    "X_train, X_test, y_train, y_test = train_test_split(X, y, test_size=0.33, random_state=0)\n",
    "\n",
    "#4\n",
    "X_tr = preprocessing.scale(X_train)\n",
    "X_tr_mean = X_tr.mean(axis=0)\n",
    "X_tr_stddev = X_tr.std(axis=0)\n",
    "X_ts = X_test - X_tr_mean / X_tr_stddev\n",
    "\n",
    "# X_tr = np.c_[np.ones(len(X_tr)),X_tr]\n",
    "X_tr = np.array(X_tr)\n",
    "# X_ts = np.c_[np.ones(len(X_ts)),X_ts]\n",
    "X_ts = np.array(X_ts)"
   ]
  },
  {
   "cell_type": "code",
   "execution_count": 497,
   "metadata": {},
   "outputs": [],
   "source": [
    "#5\n",
    "spam_X = []\n",
    "spam_y = []\n",
    "nonspam_X = []\n",
    "nonspam_y = []\n",
    "for x1, y1 in zip(X_tr, y_train):\n",
    "    if y1 == 1:\n",
    "        spam_X.append(x1)\n",
    "        spam_y.append(y1)\n",
    "    else:\n",
    "        nonspam_X.append(x1)\n",
    "        nonspam_y.append(y1)\n",
    "spam_X = np.array(spam_X)\n",
    "spam_y = np.array(spam_y)\n",
    "nonspam_X = np.array(nonspam_X)\n",
    "nonspam_y = np.array(nonspam_y)"
   ]
  },
  {
   "cell_type": "code",
   "execution_count": 547,
   "metadata": {},
   "outputs": [],
   "source": [
    "class NaiveBayes:  # https://github.com/python-engineer/MLfromscratch/blob/master/LICENSE\n",
    "\n",
    "    def fit(self, X, y):\n",
    "        n_samples, n_features = X.shape\n",
    "        self._classes = np.unique(y)\n",
    "        n_classes = len(self._classes)\n",
    "\n",
    "        # calculate mean, var, and prior for each class\n",
    "        self._mean = np.zeros((n_classes, n_features), dtype=np.float64)\n",
    "        self._var = np.zeros((n_classes, n_features), dtype=np.float64)\n",
    "        self._priors =  np.zeros(n_classes, dtype=np.float64)\n",
    "\n",
    "        for idx, c in enumerate(self._classes):\n",
    "            X_c = X[y==c]\n",
    "            self._mean[idx, :] = X_c.mean(axis=0)\n",
    "            self._var[idx, :] = X_c.var(axis=0)\n",
    "            self._priors[idx] = X_c.shape[0] / float(n_samples)\n",
    "\n",
    "    def predict(self, X):\n",
    "        y_pred = [self._predict(x) for x in X]\n",
    "        return np.array(y_pred)\n",
    "\n",
    "    def _predict(self, x):\n",
    "        posteriors = []\n",
    "\n",
    "        # calculate posterior probability for each class\n",
    "        for idx, c in enumerate(self._classes):\n",
    "            prior = np.log(self._priors[idx])\n",
    "            posterior = np.sum(np.log(self._pdf(idx, x)))\n",
    "            posterior = prior + posterior\n",
    "            posteriors.append(posterior)\n",
    "            \n",
    "        # return class with highest posterior probability\n",
    "        return self._classes[np.argmax(posteriors)]\n",
    "            \n",
    "\n",
    "    def _pdf(self, class_idx, x):\n",
    "        mean = self._mean[class_idx]\n",
    "        var = self._var[class_idx]\n",
    "        numerator = np.exp(- (x-mean)**2 / (2 * var))\n",
    "        denominator = np.sqrt(2 * np.pi * var)\n",
    "        return numerator / denominator"
   ]
  },
  {
   "cell_type": "code",
   "execution_count": 555,
   "metadata": {
    "scrolled": true
   },
   "outputs": [
    {
     "ename": "IndexError",
     "evalue": "boolean index did not match indexed array along dimension 1; dimension is 57 but corresponding boolean dimension is 1",
     "output_type": "error",
     "traceback": [
      "\u001b[1;31m---------------------------------------------------------------------------\u001b[0m",
      "\u001b[1;31mIndexError\u001b[0m                                Traceback (most recent call last)",
      "\u001b[1;32m<ipython-input-555-1408ddae19f8>\u001b[0m in \u001b[0;36m<module>\u001b[1;34m\u001b[0m\n\u001b[0;32m      1\u001b[0m \u001b[0mnb\u001b[0m \u001b[1;33m=\u001b[0m \u001b[0mNaiveBayes\u001b[0m\u001b[1;33m(\u001b[0m\u001b[1;33m)\u001b[0m\u001b[1;33m\u001b[0m\u001b[1;33m\u001b[0m\u001b[0m\n\u001b[1;32m----> 2\u001b[1;33m \u001b[0mnb\u001b[0m\u001b[1;33m.\u001b[0m\u001b[0mfit\u001b[0m\u001b[1;33m(\u001b[0m\u001b[0mX_tr\u001b[0m\u001b[1;33m,\u001b[0m \u001b[0my_train\u001b[0m\u001b[1;33m)\u001b[0m\u001b[1;33m\u001b[0m\u001b[1;33m\u001b[0m\u001b[0m\n\u001b[0m\u001b[0;32m      3\u001b[0m \u001b[0mpredictions\u001b[0m \u001b[1;33m=\u001b[0m \u001b[0mnb\u001b[0m\u001b[1;33m.\u001b[0m\u001b[0mpredict\u001b[0m\u001b[1;33m(\u001b[0m\u001b[0mX_ts\u001b[0m\u001b[1;33m)\u001b[0m\u001b[1;33m\u001b[0m\u001b[1;33m\u001b[0m\u001b[0m\n\u001b[0;32m      4\u001b[0m \u001b[1;31m# X_train.shape\u001b[0m\u001b[1;33m\u001b[0m\u001b[1;33m\u001b[0m\u001b[1;33m\u001b[0m\u001b[0m\n",
      "\u001b[1;32m<ipython-input-547-c952acd67b0c>\u001b[0m in \u001b[0;36mfit\u001b[1;34m(self, X, y)\u001b[0m\n\u001b[0;32m     12\u001b[0m \u001b[1;33m\u001b[0m\u001b[0m\n\u001b[0;32m     13\u001b[0m         \u001b[1;32mfor\u001b[0m \u001b[0midx\u001b[0m\u001b[1;33m,\u001b[0m \u001b[0mc\u001b[0m \u001b[1;32min\u001b[0m \u001b[0menumerate\u001b[0m\u001b[1;33m(\u001b[0m\u001b[0mself\u001b[0m\u001b[1;33m.\u001b[0m\u001b[0m_classes\u001b[0m\u001b[1;33m)\u001b[0m\u001b[1;33m:\u001b[0m\u001b[1;33m\u001b[0m\u001b[1;33m\u001b[0m\u001b[0m\n\u001b[1;32m---> 14\u001b[1;33m             \u001b[0mX_c\u001b[0m \u001b[1;33m=\u001b[0m \u001b[0mX\u001b[0m\u001b[1;33m[\u001b[0m\u001b[0my\u001b[0m\u001b[1;33m==\u001b[0m\u001b[0mc\u001b[0m\u001b[1;33m]\u001b[0m\u001b[1;33m\u001b[0m\u001b[1;33m\u001b[0m\u001b[0m\n\u001b[0m\u001b[0;32m     15\u001b[0m             \u001b[0mself\u001b[0m\u001b[1;33m.\u001b[0m\u001b[0m_mean\u001b[0m\u001b[1;33m[\u001b[0m\u001b[0midx\u001b[0m\u001b[1;33m,\u001b[0m \u001b[1;33m:\u001b[0m\u001b[1;33m]\u001b[0m \u001b[1;33m=\u001b[0m \u001b[0mX_c\u001b[0m\u001b[1;33m.\u001b[0m\u001b[0mmean\u001b[0m\u001b[1;33m(\u001b[0m\u001b[0maxis\u001b[0m\u001b[1;33m=\u001b[0m\u001b[1;36m0\u001b[0m\u001b[1;33m)\u001b[0m\u001b[1;33m\u001b[0m\u001b[1;33m\u001b[0m\u001b[0m\n\u001b[0;32m     16\u001b[0m             \u001b[0mself\u001b[0m\u001b[1;33m.\u001b[0m\u001b[0m_var\u001b[0m\u001b[1;33m[\u001b[0m\u001b[0midx\u001b[0m\u001b[1;33m,\u001b[0m \u001b[1;33m:\u001b[0m\u001b[1;33m]\u001b[0m \u001b[1;33m=\u001b[0m \u001b[0mX_c\u001b[0m\u001b[1;33m.\u001b[0m\u001b[0mvar\u001b[0m\u001b[1;33m(\u001b[0m\u001b[0maxis\u001b[0m\u001b[1;33m=\u001b[0m\u001b[1;36m0\u001b[0m\u001b[1;33m)\u001b[0m\u001b[1;33m\u001b[0m\u001b[1;33m\u001b[0m\u001b[0m\n",
      "\u001b[1;31mIndexError\u001b[0m: boolean index did not match indexed array along dimension 1; dimension is 57 but corresponding boolean dimension is 1"
     ]
    }
   ],
   "source": [
    "nb = NaiveBayes()\n",
    "nb.fit(X_tr, y_train)\n",
    "predictions = nb.predict(X_ts)\n",
    "# X_train.shape"
   ]
  }
 ],
 "metadata": {
  "kernelspec": {
   "display_name": "Python 3",
   "language": "python",
   "name": "python3"
  },
  "language_info": {
   "codemirror_mode": {
    "name": "ipython",
    "version": 3
   },
   "file_extension": ".py",
   "mimetype": "text/x-python",
   "name": "python",
   "nbconvert_exporter": "python",
   "pygments_lexer": "ipython3",
   "version": "3.7.7"
  }
 },
 "nbformat": 4,
 "nbformat_minor": 4
}
