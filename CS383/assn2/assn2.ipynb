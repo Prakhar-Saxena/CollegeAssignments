{
 "cells": [
  {
   "cell_type": "code",
   "execution_count": null,
   "metadata": {},
   "outputs": [],
   "source": []
  },
  {
   "cell_type": "code",
   "execution_count": 18,
   "metadata": {},
   "outputs": [],
   "source": [
    "from sklearn import datasets\n",
    "from sklearn import preprocessing\n",
    "from sklearn.model_selection import train_test_split\n",
    "import random\n",
    "import numpy as np\n",
    "import matplotlib.pyplot as plt\n",
    "from mpl_toolkits.mplot3d import Axes3D"
   ]
  },
  {
   "cell_type": "code",
   "execution_count": 2,
   "metadata": {
    "scrolled": true
   },
   "outputs": [],
   "source": [
    "#1\n",
    "iris = datasets.load_iris()\n",
    "X = iris.data[:, :2]\n",
    "y = (iris.target != 0) * 1"
   ]
  },
  {
   "cell_type": "code",
   "execution_count": 10,
   "metadata": {},
   "outputs": [],
   "source": [
    "#2\n",
    "X_std = preprocessing.scale(X)"
   ]
  },
  {
   "cell_type": "code",
   "execution_count": 6,
   "metadata": {},
   "outputs": [
    {
     "data": {
      "text/plain": [
       "array([ 0.7996799 , -0.89213732,  0.80957318])"
      ]
     },
     "execution_count": 6,
     "metadata": {},
     "output_type": "execute_result"
    }
   ],
   "source": [
    "#3\n",
    "theta = []\n",
    "for i in range(3):\n",
    "    theta.append(random.uniform(-1,1))\n",
    "theta = np.array(theta)\n",
    "theta"
   ]
  },
  {
   "cell_type": "code",
   "execution_count": 7,
   "metadata": {},
   "outputs": [],
   "source": [
    "X_train, X_test, y_train, y_test = train_test_split(X, y, test_size=0.33, random_state=42)"
   ]
  },
  {
   "cell_type": "code",
   "execution_count": 8,
   "metadata": {},
   "outputs": [
    {
     "name": "stdout",
     "output_type": "stream",
     "text": [
      "Initial theta:  [ 0.7996799  -0.89213732  0.80957318]\n"
     ]
    }
   ],
   "source": [
    "def compute_new_theta(theta, eta, X, Y):\n",
    "    return theta - (eta * (2 * X.T @ ((X @ theta) - Y)))\n",
    "\n",
    "print('Initial theta: ',theta)\n",
    "\n",
    "def y_compute(X1, X2, thetas):\n",
    "    return (thetas[0] + (thetas[1] * X1) + (thetas[2] * X2))"
   ]
  },
  {
   "cell_type": "code",
   "execution_count": 16,
   "metadata": {},
   "outputs": [
    {
     "data": {
      "text/plain": [
       "array([1, 0, 1, 1, 1, 0, 1, 1, 1, 1, 1, 0, 0, 0, 0, 1, 1, 1, 1, 1, 0, 1,\n",
       "       0, 1, 1, 1, 1, 1, 0, 0, 0, 0, 1, 0, 0, 1, 1, 0, 0, 0, 1, 1, 1, 0,\n",
       "       0, 1, 1, 1, 1, 1])"
      ]
     },
     "execution_count": 16,
     "metadata": {},
     "output_type": "execute_result"
    }
   ],
   "source": [
    "y_test"
   ]
  },
  {
   "cell_type": "code",
   "execution_count": null,
   "metadata": {},
   "outputs": [],
   "source": [
    "iteration = 0\n",
    "iterations = []\n",
    "RMSEs_test = []\n",
    "RMSEs_train = []\n",
    "\n",
    "while True:\n",
    "    N = 2\n",
    "    new_theta = np.array(compute_new_theta(theta, 0.01/N, X_train, Y_train))\n",
    "    if (new_theta == theta).all():\n",
    "        break\n",
    "    \n",
    "    error_squared_sum = 0\n",
    "\n",
    "    for index, row in train_df.iterrows():\n",
    "        X1 = X_train['Age'][index]\n",
    "        X2 = X_train['Temp of Water'][index]\n",
    "        Y_actual = row['Length of Fish']\n",
    "        Y_predicted = y_compute(X1, X2, new_theta)\n",
    "        error_squared = (Y_actual - Y_predicted)**2\n",
    "        error_squared_sum += error_squared\n",
    "    \n",
    "    mean_error_squared_sum = error_squared_sum / test_df.shape[0]\n",
    "    root_mean_error_squared_sum = mean_error_squared_sum**(0.5)\n",
    "    RMSEs_train.append(root_mean_error_squared_sum)\n",
    "    \n",
    "    for index, row in test_df.iterrows():\n",
    "        X1 = X_test['Age'][index]\n",
    "        X2 = X_test['Temp of Water'][index]\n",
    "        Y_actual = row['Length of Fish']\n",
    "        Y_predicted = y_compute(X1, X2, new_theta)\n",
    "        error_squared = (Y_actual - Y_predicted)**2\n",
    "        error_squared_sum += error_squared\n",
    "    \n",
    "    mean_error_squared_sum = error_squared_sum / test_df.shape[0]\n",
    "    root_mean_error_squared_sum = mean_error_squared_sum**(0.5)\n",
    "    RMSEs_test.append(root_mean_error_squared_sum)\n",
    "    \n",
    "    theta = new_theta\n",
    "    iteration = iteration + 1\n",
    "    iterations.append(iteration)\n",
    "\n",
    "print('new theta',new_theta)\n",
    "print(iteration)\n",
    "\n",
    "\n",
    "plt.axes(xlabel='iterations', ylabel='RMSEs for Test set')\n",
    "plt.plot(iterations, RMSEs_test)\n",
    "plt.show()\n",
    "\n",
    "plt.axes(xlabel='iterations', ylabel='RMSEs for Training set')\n",
    "plt.plot(iterations, RMSEs_train)\n",
    "plt.show()"
   ]
  }
 ],
 "metadata": {
  "kernelspec": {
   "display_name": "Python 3",
   "language": "python",
   "name": "python3"
  },
  "language_info": {
   "codemirror_mode": {
    "name": "ipython",
    "version": 3
   },
   "file_extension": ".py",
   "mimetype": "text/x-python",
   "name": "python",
   "nbconvert_exporter": "python",
   "pygments_lexer": "ipython3",
   "version": "3.7.7"
  }
 },
 "nbformat": 4,
 "nbformat_minor": 4
}
