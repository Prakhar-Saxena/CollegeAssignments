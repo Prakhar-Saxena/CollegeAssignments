{
 "cells": [
  {
   "cell_type": "code",
   "execution_count": null,
   "metadata": {},
   "outputs": [],
   "source": []
  },
  {
   "cell_type": "code",
   "execution_count": 18,
   "metadata": {},
   "outputs": [],
   "source": [
    "from sklearn import datasets\n",
    "from sklearn import preprocessing\n",
    "from sklearn.model_selection import train_test_split\n",
    "import random\n",
    "import numpy as np\n",
    "import matplotlib.pyplot as plt\n",
    "from mpl_toolkits.mplot3d import Axes3D"
   ]
  },
  {
   "cell_type": "code",
   "execution_count": 2,
   "metadata": {
    "scrolled": true
   },
   "outputs": [],
   "source": [
    "#1\n",
    "iris = datasets.load_iris()\n",
    "X = iris.data[:, :2]\n",
    "y = (iris.target != 0) * 1"
   ]
  },
  {
   "cell_type": "code",
   "execution_count": 10,
   "metadata": {},
   "outputs": [],
   "source": [
    "#2\n",
    "X_std = preprocessing.scale(X)"
   ]
  },
  {
   "cell_type": "code",
   "execution_count": 57,
   "metadata": {
    "scrolled": false
   },
   "outputs": [
    {
     "name": "stdout",
     "output_type": "stream",
     "text": [
      "Initial theta:  [0.95712398 0.86594624 0.26733388]\n",
      "maxE 1.1920928955078125e-07\n",
      "[0.95712398 0.86594624 0.26733388]\n",
      "new theta [nan nan nan]\n",
      "10000\n"
     ]
    },
    {
     "name": "stderr",
     "output_type": "stream",
     "text": [
      "s:\\python\\3.7.7\\lib\\site-packages\\ipykernel_launcher.py:10: RuntimeWarning: overflow encountered in matmul\n",
      "  # Remove the CWD from sys.path while we load stuff.\n",
      "s:\\python\\3.7.7\\lib\\site-packages\\ipykernel_launcher.py:10: RuntimeWarning: invalid value encountered in subtract\n",
      "  # Remove the CWD from sys.path while we load stuff.\n"
     ]
    }
   ],
   "source": [
    "#3\n",
    "theta = []\n",
    "for i in range(3):\n",
    "    theta.append(random.uniform(-1,1))\n",
    "theta = np.array(theta)\n",
    "\n",
    "X_train, X_test, y_train, y_test = train_test_split(X, y, test_size=0.33, random_state=42)\n",
    "\n",
    "def compute_new_theta(theta, eta, X, Y):\n",
    "    return theta - (eta * (2 * X.T @ ((X @ theta) - Y)))\n",
    "\n",
    "print('Initial theta: ',theta)\n",
    "\n",
    "def y_compute(X1, X2, thetas):\n",
    "    return (thetas[0] + (thetas[1] * X1) + (thetas[2] * X2))\n",
    "\n",
    "X_tr = np.c_[np.ones(len(X_train)),X_train]\n",
    "X_tr = np.array(X_tr)\n",
    "X_ts = np.c_[np.ones(len(X_test)),X_test]\n",
    "X_ts = np.array(X_ts)\n",
    "y_tr = np.array(y_train)\n",
    "y_ts = np.array(y_test)\n",
    "\n",
    "iteration = 0\n",
    "iterations = []\n",
    "RMSEs_test = []\n",
    "RMSEs_train = []\n",
    "\n",
    "maxE = 2**(-23)\n",
    "print('maxE',maxE)\n",
    "new_theta = np.array(theta)\n",
    "print(new_theta)\n",
    "\n",
    "while True:\n",
    "    N = 2\n",
    "    new_theta = np.array(compute_new_theta(theta, 0.01, X_tr, y_tr))\n",
    "#     if ((theta[0] - new_theta[0] < maxE) and (theta[1] - new_theta[1] < maxE) and (theta[2] - new_theta[2] < maxE)): #(new_theta == theta).all():\n",
    "#         break\n",
    "    if iteration == 10000:\n",
    "        break\n",
    "    theta = new_theta\n",
    "    iteration = iteration + 1\n",
    "    iterations.append(iteration)\n",
    "\n",
    "print('new theta',new_theta)\n",
    "print(iteration)\n",
    "\n",
    "\n",
    "# plt.axes(xlabel='iterations', ylabel='RMSEs for Test set')\n",
    "# plt.plot(iterations, RMSEs_test)\n",
    "# plt.show()\n",
    "\n",
    "# plt.axes(xlabel='iterations', ylabel='RMSEs for Training set')\n",
    "# plt.plot(iterations, RMSEs_train)\n",
    "# plt.show()"
   ]
  },
  {
   "cell_type": "code",
   "execution_count": 8,
   "metadata": {},
   "outputs": [
    {
     "name": "stdout",
     "output_type": "stream",
     "text": [
      "Initial theta:  [ 0.7996799  -0.89213732  0.80957318]\n"
     ]
    }
   ],
   "source": []
  },
  {
   "cell_type": "code",
   "execution_count": 29,
   "metadata": {},
   "outputs": [],
   "source": []
  },
  {
   "cell_type": "code",
   "execution_count": 42,
   "metadata": {},
   "outputs": [
    {
     "name": "stdout",
     "output_type": "stream",
     "text": [
      "[nan nan nan]\n",
      "new theta [nan nan nan]\n",
      "10000\n"
     ]
    }
   ],
   "source": []
  }
 ],
 "metadata": {
  "kernelspec": {
   "display_name": "Python 3",
   "language": "python",
   "name": "python3"
  },
  "language_info": {
   "codemirror_mode": {
    "name": "ipython",
    "version": 3
   },
   "file_extension": ".py",
   "mimetype": "text/x-python",
   "name": "python",
   "nbconvert_exporter": "python",
   "pygments_lexer": "ipython3",
   "version": "3.7.7"
  }
 },
 "nbformat": 4,
 "nbformat_minor": 4
}
