{
 "cells": [
  {
   "cell_type": "code",
   "execution_count": 1,
   "metadata": {
    "colab": {},
    "colab_type": "code",
    "id": "BOoHsUDv9pEM"
   },
   "outputs": [],
   "source": [
    "import pandas as pd \n",
    "import numpy as np \n",
    "import matplotlib.pyplot as plt \n",
    "from sklearn import datasets \n",
    "from sklearn.model_selection import train_test_split "
   ]
  },
  {
   "cell_type": "code",
   "execution_count": 2,
   "metadata": {
    "colab": {
     "base_uri": "https://localhost:8080/",
     "height": 206
    },
    "colab_type": "code",
    "id": "lMw3OAhu-MiF",
    "outputId": "12f15254-08b8-48a6-ff20-6bf61f7d6327"
   },
   "outputs": [
    {
     "data": {
      "text/html": [
       "<div>\n",
       "<style scoped>\n",
       "    .dataframe tbody tr th:only-of-type {\n",
       "        vertical-align: middle;\n",
       "    }\n",
       "\n",
       "    .dataframe tbody tr th {\n",
       "        vertical-align: top;\n",
       "    }\n",
       "\n",
       "    .dataframe thead th {\n",
       "        text-align: right;\n",
       "    }\n",
       "</style>\n",
       "<table border=\"1\" class=\"dataframe\">\n",
       "  <thead>\n",
       "    <tr style=\"text-align: right;\">\n",
       "      <th></th>\n",
       "      <th>Age</th>\n",
       "      <th>Temp of Water</th>\n",
       "      <th>Length of Fish</th>\n",
       "    </tr>\n",
       "  </thead>\n",
       "  <tbody>\n",
       "    <tr>\n",
       "      <th>0</th>\n",
       "      <td>14</td>\n",
       "      <td>25</td>\n",
       "      <td>620</td>\n",
       "    </tr>\n",
       "    <tr>\n",
       "      <th>1</th>\n",
       "      <td>28</td>\n",
       "      <td>25</td>\n",
       "      <td>1315</td>\n",
       "    </tr>\n",
       "    <tr>\n",
       "      <th>2</th>\n",
       "      <td>41</td>\n",
       "      <td>25</td>\n",
       "      <td>2120</td>\n",
       "    </tr>\n",
       "    <tr>\n",
       "      <th>3</th>\n",
       "      <td>55</td>\n",
       "      <td>25</td>\n",
       "      <td>2600</td>\n",
       "    </tr>\n",
       "    <tr>\n",
       "      <th>4</th>\n",
       "      <td>69</td>\n",
       "      <td>25</td>\n",
       "      <td>3110</td>\n",
       "    </tr>\n",
       "  </tbody>\n",
       "</table>\n",
       "</div>"
      ],
      "text/plain": [
       "   Age  Temp of Water  Length of Fish\n",
       "0   14             25             620\n",
       "1   28             25            1315\n",
       "2   41             25            2120\n",
       "3   55             25            2600\n",
       "4   69             25            3110"
      ]
     },
     "execution_count": 2,
     "metadata": {},
     "output_type": "execute_result"
    }
   ],
   "source": [
    "\n",
    "# Loading   Dataset \n",
    "dataset = pd.read_csv('x06Simple.csv') \n",
    "dataset.drop(['Index'],axis = 1,inplace=True)\n",
    "dataset.head()\n"
   ]
  },
  {
   "cell_type": "code",
   "execution_count": 3,
   "metadata": {
    "colab": {
     "base_uri": "https://localhost:8080/",
     "height": 585
    },
    "colab_type": "code",
    "id": "S1TJYJTX8KbP",
    "outputId": "0e293003-c3e4-4acd-f8f6-6c500a730c64"
   },
   "outputs": [
    {
     "data": {
      "text/plain": [
       "<seaborn.axisgrid.PairGrid at 0x12fb67b0>"
      ]
     },
     "execution_count": 3,
     "metadata": {},
     "output_type": "execute_result"
    },
    {
     "data": {
      "image/png": "[encoded data removed]",
      "text/plain": [
       "<Figure size 540x540 with 12 Axes>"
      ]
     },
     "metadata": {
      "needs_background": "light"
     },
     "output_type": "display_data"
    }
   ],
   "source": [
    "import seaborn \n",
    "seaborn.pairplot(dataset, hue=None, hue_order=None, palette=None, vars=None, x_vars=None, y_vars=None, kind='scatter', diag_kind='auto', markers=None, height=2.5, aspect=1, corner=False, dropna=True, plot_kws=None, diag_kws=None, grid_kws=None, size=None)"
   ]
  },
  {
   "cell_type": "code",
   "execution_count": 4,
   "metadata": {
    "colab": {},
    "colab_type": "code",
    "id": "hEXLVdAE5RqH"
   },
   "outputs": [],
   "source": [
    "df_x = dataset.drop(['Length of Fish'],axis=1)\n",
    "df_y = dataset['Length of Fish']"
   ]
  },
  {
   "cell_type": "code",
   "execution_count": 5,
   "metadata": {
    "colab": {
     "base_uri": "https://localhost:8080/",
     "height": 54
    },
    "colab_type": "code",
    "id": "MsCZ21qG-kvr",
    "outputId": "7416789b-eb96-479c-8318-383c997b8ccd"
   },
   "outputs": [
    {
     "name": "stdout",
     "output_type": "stream",
     "text": [
      "Train data shape of X = (33, 2) and Y = (33,) : \n",
      "Test data shape of X = (11, 2) and Y = (11,) : \n"
     ]
    }
   ],
   "source": [
    "x_train, x_test, y_train, y_test = train_test_split(df_x,df_y,test_size = 0.25) \n",
    "\n",
    "print(\"Train data shape of X = % s and Y = % s : \"%( \n",
    "\tx_train.shape, y_train.shape)) \n",
    "\n",
    "print(\"Test data shape of X = % s and Y = % s : \"%( \n",
    "\tx_test.shape, y_test.shape)) \n"
   ]
  },
  {
   "cell_type": "code",
   "execution_count": 6,
   "metadata": {
    "colab": {
     "base_uri": "https://localhost:8080/",
     "height": 109
    },
    "colab_type": "code",
    "id": "QRjD3xVo_QE4",
    "outputId": "30d61119-b118-42b2-c1cb-95e58865a54b"
   },
   "outputs": [
    {
     "name": "stdout",
     "output_type": "stream",
     "text": [
      "Mean squared error on test set 343257.9214563442\n",
      "         Columns  Coefficient Estimate\n",
      "0            Age             27.442696\n",
      "1  Temp of Water            -58.857364\n"
     ]
    }
   ],
   "source": [
    "# import Lasso regression from sklearn library \n",
    "from sklearn.linear_model import Lasso \n",
    "\n",
    "# Train the model \n",
    "#alpha is hyperparameter change according to data\n",
    "lasso = Lasso(alpha = 3) \n",
    "lasso.fit(x_train, y_train) \n",
    "y_pred1 = lasso.predict(x_test) \n",
    "\n",
    "# Calculate Mean Squared Error \n",
    "mean_squared_error = np.mean((y_pred1 - y_test)**2) \n",
    "print(\"Mean squared error on test set\", mean_squared_error) \n",
    "lasso_coeff = pd.DataFrame() \n",
    "lasso_coeff[\"Columns\"] = x_train.columns \n",
    "lasso_coeff['Coefficient Estimate'] = pd.Series(lasso.coef_) \n",
    "\n",
    "print(lasso_coeff) #features with coefficients shrank to zero are features which are not important to model\n",
    "\n"
   ]
  },
  {
   "cell_type": "code",
   "execution_count": 7,
   "metadata": {
    "colab": {
     "base_uri": "https://localhost:8080/",
     "height": 471
    },
    "colab_type": "code",
    "id": "P3sIZKZR_jmi",
    "outputId": "9675b673-c686-4edf-e6b4-19796cc7327b"
   },
   "outputs": [
    {
     "data": {
      "image/png": "[encoded data removed]",
      "text/plain": [
       "<Figure size 1440x720 with 1 Axes>"
      ]
     },
     "metadata": {
      "needs_background": "light"
     },
     "output_type": "display_data"
    }
   ],
   "source": [
    "# plotting the coefficient score \n",
    "fig1, ax1 = plt.subplots(figsize =(20, 10)) \n",
    "\n",
    "color =['tab:gray', 'tab:blue', 'tab:orange', \n",
    "'tab:green', 'tab:red', 'tab:purple', 'tab:brown', \n",
    "'tab:pink', 'tab:gray', 'tab:olive', 'tab:cyan', \n",
    "'tab:orange', 'tab:green', 'tab:blue', 'tab:olive'] \n",
    "\n",
    "ax1.bar(lasso_coeff[\"Columns\"], \n",
    "lasso_coeff['Coefficient Estimate'], \n",
    "color = color) \n",
    "\n",
    "ax1.spines['bottom'].set_position('zero') \n",
    "\n",
    "plt.style.use('ggplot') \n",
    "plt.show() \n"
   ]
  },
  {
   "cell_type": "code",
   "execution_count": 8,
   "metadata": {
    "colab": {
     "base_uri": "https://localhost:8080/",
     "height": 54
    },
    "colab_type": "code",
    "id": "Qmfrd9F8Baz5",
    "outputId": "97160418-8f44-460e-d79d-4d631d38a348"
   },
   "outputs": [
    {
     "name": "stdout",
     "output_type": "stream",
     "text": [
      "total features: 2\n",
      "features with coefficients shrank to zero: 0\n"
     ]
    }
   ],
   "source": [
    "selected_feat = x_train.columns\n",
    "print('total features: {}'.format((x_train.shape[1])))   #total no. of features \n",
    "print('features with coefficients shrank to zero: {}'.format(\n",
    "      np.sum(lasso.coef_ == 0)))     # no. of  features which are not important to model"
   ]
  },
  {
   "cell_type": "code",
   "execution_count": 9,
   "metadata": {
    "colab": {
     "base_uri": "https://localhost:8080/",
     "height": 35
    },
    "colab_type": "code",
    "id": "ELAE_7tF7Any",
    "outputId": "e326b364-2d31-4884-bb52-2ff66d7bc818"
   },
   "outputs": [
    {
     "data": {
      "text/plain": [
       "Index([], dtype='object')"
      ]
     },
     "execution_count": 9,
     "metadata": {},
     "output_type": "execute_result"
    }
   ],
   "source": [
    "removed_feats = x_train.columns[(lasso.coef_ == 0).ravel().tolist()]\n",
    "removed_feats    #not important features "
   ]
  }
 ],
 "metadata": {
  "colab": {
   "collapsed_sections": [],
   "name": "L1_Norm_features_selection.ipynb",
   "provenance": []
  },
  "kernelspec": {
   "display_name": "Python 3",
   "language": "python",
   "name": "python3"
  },
  "language_info": {
   "codemirror_mode": {
    "name": "ipython",
    "version": 3
   },
   "file_extension": ".py",
   "mimetype": "text/x-python",
   "name": "python",
   "nbconvert_exporter": "python",
   "pygments_lexer": "ipython3",
   "version": "3.7.7"
  }
 },
 "nbformat": 4,
 "nbformat_minor": 1
}
