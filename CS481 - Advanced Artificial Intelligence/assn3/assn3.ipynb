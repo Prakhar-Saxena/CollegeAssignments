{
 "cells": [
  {
   "cell_type": "code",
   "execution_count": 1,
   "metadata": {},
   "outputs": [],
   "source": [
    "import numpy as np"
   ]
  },
  {
   "cell_type": "markdown",
   "metadata": {},
   "source": [
    "# 1"
   ]
  },
  {
   "cell_type": "markdown",
   "metadata": {},
   "source": [
    "## B. Whitejack"
   ]
  },
  {
   "cell_type": "markdown",
   "metadata": {},
   "source": [
    "### a."
   ]
  },
  {
   "cell_type": "code",
   "execution_count": 39,
   "metadata": {},
   "outputs": [
    {
     "data": {
      "text/plain": [
       "array([[0.  , 0.25, 0.25, 0.25, 0.25, 0.  ],\n",
       "       [0.  , 0.  , 0.25, 0.25, 0.25, 0.25],\n",
       "       [0.  , 0.  , 0.  , 0.25, 0.25, 0.5 ],\n",
       "       [0.  , 0.  , 0.  , 0.  , 0.25, 0.75],\n",
       "       [0.  , 0.  , 0.  , 0.  , 1.  , 0.  ],\n",
       "       [0.  , 0.  , 0.  , 0.  , 0.  , 1.  ]])"
      ]
     },
     "execution_count": 39,
     "metadata": {},
     "output_type": "execute_result"
    }
   ],
   "source": [
    "a = np.array([[0.00000, 0.25000, 0.25000, 0.25000, 0.25000, 0.00000],\n",
    "[0.00000, 0.00000, 0.25000, 0.25000, 0.25000, 0.25000],\n",
    "[0.00000, 0.00000, 0.00000, 0.25000, 0.25000, 0.50000],\n",
    "[0.00000, 0.00000, 0.00000, 0.00000, 0.25000, 0.75000],\n",
    "[0.00000, 0.00000, 0.00000, 0.00000, 1.00000, 0.00000],\n",
    "[0.00000, 0.00000, 0.00000, 0.00000, 0.00000, 1.00000]])\n",
    "a"
   ]
  },
  {
   "cell_type": "code",
   "execution_count": 43,
   "metadata": {
    "scrolled": true
   },
   "outputs": [
    {
     "name": "stdout",
     "output_type": "stream",
     "text": [
      "[[0.         0.         0.         0.         0.48828125 0.51171875]\n",
      " [0.         0.         0.         0.         0.390625   0.609375  ]\n",
      " [0.         0.         0.         0.         0.3125     0.6875    ]\n",
      " [0.         0.         0.         0.         0.25       0.75      ]\n",
      " [0.         0.         0.         0.         1.         0.        ]\n",
      " [0.         0.         0.         0.         0.         1.        ]]\n"
     ]
    }
   ],
   "source": [
    "A = np.array(a)\n",
    "Pinf = 0\n",
    "for i in range(100):\n",
    "    A = A @ a\n",
    "    Pinf = A\n",
    "print(Pinf)"
   ]
  },
  {
   "cell_type": "markdown",
   "metadata": {},
   "source": [
    "### c."
   ]
  },
  {
   "cell_type": "code",
   "execution_count": 45,
   "metadata": {},
   "outputs": [
    {
     "data": {
      "text/plain": [
       "array([[0.  , 0.25, 0.25, 0.25, 0.25, 0.  ],\n",
       "       [0.  , 0.  , 0.25, 0.25, 0.25, 0.25],\n",
       "       [0.  , 0.  , 0.  , 0.25, 0.25, 0.5 ],\n",
       "       [0.  , 0.  , 0.  , 1.  , 0.  , 0.  ],\n",
       "       [0.  , 0.  , 0.  , 0.  , 1.  , 0.  ],\n",
       "       [0.  , 0.  , 0.  , 0.  , 0.  , 1.  ]])"
      ]
     },
     "execution_count": 45,
     "metadata": {},
     "output_type": "execute_result"
    }
   ],
   "source": [
    "c = np.array([[0.00000, 0.25000, 0.25000, 0.25000, 0.25000, 0.00000],\n",
    "[0.00000, 0.00000, 0.25000, 0.25000, 0.25000, 0.25000],\n",
    "[0.00000, 0.00000, 0.00000, 0.25000, 0.25000, 0.50000],\n",
    "[0.00000, 0.00000, 0.00000, 1.00000, 0.00000, 0.00000],\n",
    "[0.00000, 0.00000, 0.00000, 0.00000, 1.00000, 0.00000],\n",
    "[0.00000, 0.00000, 0.00000, 0.00000, 0.00000, 1.00000]])\n",
    "c"
   ]
  },
  {
   "cell_type": "code",
   "execution_count": 46,
   "metadata": {
    "scrolled": true
   },
   "outputs": [
    {
     "name": "stdout",
     "output_type": "stream",
     "text": [
      "[[0.       0.       0.       0.390625 0.390625 0.21875 ]\n",
      " [0.       0.       0.       0.3125   0.3125   0.375   ]\n",
      " [0.       0.       0.       0.25     0.25     0.5     ]\n",
      " [0.       0.       0.       1.       0.       0.      ]\n",
      " [0.       0.       0.       0.       1.       0.      ]\n",
      " [0.       0.       0.       0.       0.       1.      ]]\n"
     ]
    }
   ],
   "source": [
    "C = np.array(c)\n",
    "Pinf = 0\n",
    "for i in range(100):\n",
    "    C = C @ c\n",
    "    Pinf = C\n",
    "print(Pinf)"
   ]
  },
  {
   "cell_type": "markdown",
   "metadata": {},
   "source": [
    "## C. Grayjack"
   ]
  },
  {
   "cell_type": "code",
   "execution_count": null,
   "metadata": {},
   "outputs": [],
   "source": []
  },
  {
   "cell_type": "markdown",
   "metadata": {},
   "source": [
    "## D. Programming Assignment"
   ]
  },
  {
   "cell_type": "markdown",
   "metadata": {},
   "source": [
    "### A."
   ]
  },
  {
   "cell_type": "code",
   "execution_count": 26,
   "metadata": {},
   "outputs": [],
   "source": [
    "from random import randrange"
   ]
  },
  {
   "cell_type": "code",
   "execution_count": 20,
   "metadata": {},
   "outputs": [],
   "source": [
    "def getState(hand):\n",
    "    return sum(hand)\n",
    "\n",
    "def resetHand(hand):\n",
    "    hand = []\n",
    "\n",
    "def drawCardForHand(hand):\n",
    "    hand.(int(randrange(4)))"
   ]
  },
  {
   "cell_type": "code",
   "execution_count": 24,
   "metadata": {},
   "outputs": [
    {
     "data": {
      "text/plain": [
       "[]"
      ]
     },
     "execution_count": 24,
     "metadata": {},
     "output_type": "execute_result"
    }
   ],
   "source": []
  },
  {
   "cell_type": "code",
   "execution_count": 58,
   "metadata": {},
   "outputs": [
    {
     "data": {
      "text/plain": [
       "[[0.0, 0.28, 0.25, 0.24, 0.23, 0.0],\n",
       " [0.0, 0.0, 0.2, 0.3, 0.24, 0.26],\n",
       " [0.0, 0.0, 0.0, 0.26, 0.23, 0.51],\n",
       " [0.0, 0.0, 0.0, 0.0, 0.2, 0.8],\n",
       " [0.0, 0.0, 0.0, 0.0, 0.0, 1.0],\n",
       " [0.0, 0.0, 0.0, 0.0, 0.0, 1.0]]"
      ]
     },
     "execution_count": 58,
     "metadata": {},
     "output_type": "execute_result"
    }
   ],
   "source": [
    "hand = 0\n",
    "\n",
    "matrix = []\n",
    "\n",
    "for i in range(0,6):  # 0 is start and 5 is bust\n",
    "    st, s1, s2, s3, s4, bs, nt = 0, 0, 0, 0, 0, 0, 100\n",
    "    for r in range(nt):\n",
    "        hand = 0\n",
    "        hand += i\n",
    "        hand = hand + int(randrange(1,5)) # draw card\n",
    "        if hand == 0:\n",
    "            st += 1\n",
    "        elif hand == 1:\n",
    "            s1 += 1\n",
    "        elif hand == 2:\n",
    "            s2 += 1\n",
    "        elif hand == 3:\n",
    "            s3 += 1\n",
    "        elif hand == 4:\n",
    "            s4 += 1\n",
    "        elif hand >= 5:\n",
    "            bs += 1\n",
    "        else:\n",
    "            print('You\\'re not supposed to reach here.')\n",
    "    matrix.append([st/nt, s1/nt, s2/nt, s3/nt, s4/nt, bs/nt])\n",
    "#     matrix.append([st, s1, s2, s3, s4, bs])\n",
    "\n",
    "matrix        "
   ]
  },
  {
   "cell_type": "code",
   "execution_count": null,
   "metadata": {},
   "outputs": [],
   "source": []
  }
 ],
 "metadata": {
  "kernelspec": {
   "display_name": "Python 3",
   "language": "python",
   "name": "python3"
  },
  "language_info": {
   "codemirror_mode": {
    "name": "ipython",
    "version": 3
   },
   "file_extension": ".py",
   "mimetype": "text/x-python",
   "name": "python",
   "nbconvert_exporter": "python",
   "pygments_lexer": "ipython3",
   "version": "3.7.7"
  }
 },
 "nbformat": 4,
 "nbformat_minor": 4
}
