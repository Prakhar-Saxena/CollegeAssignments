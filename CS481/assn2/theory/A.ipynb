{
 "cells": [
  {
   "cell_type": "code",
   "execution_count": 3,
   "metadata": {},
   "outputs": [],
   "source": [
    "from sympy.solvers import solve\n",
    "from sympy import Symbol"
   ]
  },
  {
   "cell_type": "code",
   "execution_count": 4,
   "metadata": {},
   "outputs": [],
   "source": [
    "# x = Symbol('x')\n",
    "# >>> solve(x**2 - 1, x)\n",
    "# [-1, 1]\n",
    "\n",
    "p1 = Symbol('p1')\n",
    "p2 = Symbol('p2')\n",
    "p3 = Symbol('p3')\n",
    "p4 = Symbol('p4')"
   ]
  },
  {
   "cell_type": "code",
   "execution_count": null,
   "metadata": {},
   "outputs": [],
   "source": [
    "solve()"
   ]
  },
  {
   "cell_type": "code",
   "execution_count": 17,
   "metadata": {},
   "outputs": [
    {
     "name": "stdout",
     "output_type": "stream",
     "text": [
      "[0.05 0.45 0.45 0.05]\n"
     ]
    }
   ],
   "source": [
    "import numpy as np\n",
    "\n",
    "A = [[-9,1,0,0],\n",
    "     [9,-5,4,0],\n",
    "     [0,4,-5,9],\n",
    "     [1,1,1,1]]\n",
    "#      [0,0,1,-9]]\n",
    "A = np.array(A)\n",
    "B = [0,0,0,1]\n",
    "B = np.array(B)\n",
    "Psi = np.linalg.solve(A,B)\n",
    "print(Psi)"
   ]
  }
 ],
 "metadata": {
  "kernelspec": {
   "display_name": "Python 3",
   "language": "python",
   "name": "python3"
  },
  "language_info": {
   "codemirror_mode": {
    "name": "ipython",
    "version": 3
   },
   "file_extension": ".py",
   "mimetype": "text/x-python",
   "name": "python",
   "nbconvert_exporter": "python",
   "pygments_lexer": "ipython3",
   "version": "3.7.7"
  }
 },
 "nbformat": 4,
 "nbformat_minor": 4
}
