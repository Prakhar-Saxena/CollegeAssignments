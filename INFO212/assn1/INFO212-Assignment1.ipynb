{
 "cells": [
  {
   "cell_type": "markdown",
   "metadata": {},
   "source": [
    "<h1 style=\"text-align:center\"> Drexel University </h1>\n",
    "<h2 style = \"text-align:center\"> College of Computing and Informatics</h2>\n",
    "<h2 style = \"text-align:center\">INFO 212: Data Science Programming I</h2>\n",
    "<h3 style = \"text-align:center\">Assignment 1</h3>\n",
    "<div style=\"text-align:center; border-style:solid; padding: 10px\">\n",
    "<div style=\"font-weight:bold\">Due Date: Sunday, April 12, 2020</div>\n",
    "This assignment counts for 10% of the final grade\n",
    "</div>\n",
    "\n",
    "<h3 style=\"color:red; font-weight:bold; text-decoration: underline\">DON'T FORGET TO PUT YOUR NAME BELOW</h3>\n",
    "\n",
    "### NAME: Prakhar Saxena\n",
    "\n",
    "\n",
    "### A. Assignment Overview\n",
    "This assignment provides the opportunity for you to practice with Python basics. \n",
    "\n",
    "### B. What to Hand In\n",
    "\t\n",
    "Sumbit a completed this Jupyter notebook. \n",
    "\n",
    "### C. How to Hand In\n",
    "\n",
    "Submit your Jupyter notebook file through the course website in the Blackboard Learn system.\n",
    "\n",
    "### D. When to Hand In\n",
    "\n",
    "1. Submit your assignment no later than 11:59pm in the due date.\n",
    "2. There will be a 10% (absolute value) deduction for each day of lateness, to a maximum of 3 days; assignments will not be accepted beyond that point. Missing work will earn a zero grade.\n",
    "\n",
    "### E. Written Presentation Requirements (if applicable)\n",
    "Images must be clear and legible. Assignments will be judged on the basis of visual appearance, grammatical correctness, and quality of writing, as well as their contents. Please make sure that the text of your assignments is well-structured, using paragraphs, full sentences, and other features of well-written presentation.\n",
    "\n",
    "### F. Marking Schemes:\n",
    "\n",
    "Marking assignments will be based on several aspects: presentation, correctness and coding styles. \n",
    "\n",
    "For programming questions, 10% of the mark will be judged on the coding style. \n",
    "\n",
    "The following is a set of guidelines for the coding style in this course:\n",
    "1. Write a good comment for each variable, each method, each control branch, and each loop.\n",
    "2. Use appropriate indentations to indicate control flows and blocks of code. \n",
    "3. Your method comments must mention the purpose of each parameter, and must be grammatically correct. \n",
    "4. Each line must be less than 80 characters long including tabs and spaces. \n",
    "5. Put a blank space before and after every operator. \n",
    "6. When breaking up a long line, break it before an operator, not after. \n",
    "\n",
    "### G. Answer the following questions"
   ]
  },
  {
   "cell_type": "markdown",
   "metadata": {},
   "source": [
    "#### Question 1:\n",
    "Write a Python function `convert_to_unique_chars(s)` that converts a string to a list of unique characters. The order of the unique characters should be the original order of their first appearances in the given string. \n",
    "\n",
    "For example, for the string `s=\"hello world\"`, the function should create the list `['h', 'e', 'l', 'o', ' ', 'w', 'r', 'd']`\n",
    "\n",
    "Test your function on some strings. Think about all kinds of strings, including empty string, all blanks, etc."
   ]
  },
  {
   "cell_type": "code",
   "execution_count": 1,
   "metadata": {},
   "outputs": [],
   "source": [
    "# Write your code below\n",
    "def convert_to_unique_chars(s):\n",
    "    allChars = list(s)\n",
    "    uniqueChars = []\n",
    "    for c in allChars:\n",
    "        if c not in uniqueChars:\n",
    "            uniqueChars.append(c)\n",
    "    return uniqueChars"
   ]
  },
  {
   "cell_type": "code",
   "execution_count": 2,
   "metadata": {},
   "outputs": [
    {
     "name": "stdout",
     "output_type": "stream",
     "text": [
      "['h', 'e', 'l', 'o', ' ', 'w', 'r', 'd']\n"
     ]
    }
   ],
   "source": [
    "print(convert_to_unique_chars(\"hello world\"))"
   ]
  },
  {
   "cell_type": "markdown",
   "metadata": {},
   "source": [
    "#### Question 2:\n",
    "Write a Python function `test_ten_percent(a, b)` that prints `True` if the variable $a$ is within $10\\%$ of the variable $b$ and `False` otherwise. Test your program on some pairs of numbers. Explain your implementation of \"ten percent of variable $b$\" in comments. "
   ]
  },
  {
   "cell_type": "code",
   "execution_count": 3,
   "metadata": {
    "jupyter": {
     "outputs_hidden": true
    }
   },
   "outputs": [],
   "source": [
    "# Write your code below\n",
    "def test_ten_percent(a, b):\n",
    "    t = b * 0.1\n",
    "    if a >= (b - t) and a <= (b + t):\n",
    "        print(True)\n",
    "    else:\n",
    "        print(False)"
   ]
  },
  {
   "cell_type": "code",
   "execution_count": 4,
   "metadata": {},
   "outputs": [
    {
     "name": "stdout",
     "output_type": "stream",
     "text": [
      "False\n",
      "True\n",
      "True\n",
      "False\n"
     ]
    }
   ],
   "source": [
    "test_ten_percent(44, 50)\n",
    "test_ten_percent(46, 50)\n",
    "test_ten_percent(54, 50)\n",
    "test_ten_percent(56, 50)"
   ]
  },
  {
   "cell_type": "markdown",
   "metadata": {},
   "source": [
    "#### Qestion 3:\n",
    "Write a Python function `build_map(list1, list2)` which takes two lists as input and creates a map which uses the first list as the keys and second list as the values. Think about all kinds of input.\n",
    "\n",
    "For example, given two lists:\n",
    "\n",
    "`ls1 = [2,5,8]`\n",
    "\n",
    "`ls2 = ['we', 'me', 'he']`\n",
    "\n",
    "The function returns a map:\n",
    "\n",
    "`m = {2:'we', 5:'me', 8:'he']`"
   ]
  },
  {
   "cell_type": "code",
   "execution_count": 5,
   "metadata": {
    "jupyter": {
     "outputs_hidden": true
    }
   },
   "outputs": [],
   "source": [
    "def build_map(l1, l2):\n",
    "    map = dict()\n",
    "    for i in range(0, len(l1)):\n",
    "        if i >= len(l2):\n",
    "            map.update({l1[i]:None})\n",
    "        else:\n",
    "            map.update({l1[i]:l2[i]})\n",
    "    return map"
   ]
  },
  {
   "cell_type": "code",
   "execution_count": 7,
   "metadata": {},
   "outputs": [
    {
     "name": "stdout",
     "output_type": "stream",
     "text": [
      "{2: 'we', 5: 'me', 8: 'he', 9: None}\n"
     ]
    }
   ],
   "source": [
    "ls1 = [2, 5, 8, 9]\n",
    "ls2 = ['we', 'me', 'he']\n",
    "print(build_map(ls1,ls2))"
   ]
  },
  {
   "cell_type": "markdown",
   "metadata": {},
   "source": [
    "#### Question 4: \n",
    "Write a Python function `count_lines(fname)` which counts the number of lines in a text file. Download the given `train.csv` file and test the function on the file `train.csv`. A line in a text file is identified by ending with a newline symbol. Empty lines are lines too."
   ]
  },
  {
   "cell_type": "code",
   "execution_count": 8,
   "metadata": {
    "jupyter": {
     "outputs_hidden": true
    }
   },
   "outputs": [],
   "source": [
    "def count_lines(fname):\n",
    "    try:\n",
    "        print(len(open(fname,'r').read().split('\\n')))\n",
    "    except FileNotFoundError:\n",
    "            print('File not found.')"
   ]
  },
  {
   "cell_type": "code",
   "execution_count": 9,
   "metadata": {},
   "outputs": [
    {
     "name": "stdout",
     "output_type": "stream",
     "text": [
      "893\n",
      "File not found.\n"
     ]
    }
   ],
   "source": [
    "count_lines('train.csv')\n",
    "count_lines('train123.csv')"
   ]
  },
  {
   "cell_type": "markdown",
   "metadata": {},
   "source": [
    "#### Question 5:\n",
    "Given a list $c=[c_0, c_1, ..c_n]$ containing the coefficients of the polynomial $y=c_0+c_1x+c_2x^2+...+c_nx^n$. Write a Python function `poly_value(x, c)` to calculate the value of the polynomial for a given value $x$.\n",
    "\n",
    "For example, the list `c=[0.2, 0.4,0.3]` contains the coefficients of the following polynomial: $y = c_0 + c_1 + c_2x^2$. Given $x=5$, the functin `poly_value(x, c)` returns 9.7.\n",
    "\n",
    "Hint: The built-in function `enumerate` takes a sequence (e.g. a list) and generates a new sequence of the same length. Each element of the new sequence is a pair composed of the index (0, 1, 2,…) and the value from the original sequence.\n",
    "\n",
    "You can write a loop to use `enumerate(c)` to compuate `y`."
   ]
  },
  {
   "cell_type": "code",
   "execution_count": 14,
   "metadata": {
    "jupyter": {
     "outputs_hidden": true
    }
   },
   "outputs": [],
   "source": [
    "def poly_value(x, c):\n",
    "    output = 0\n",
    "    for power, cValue in enumerate(c):\n",
    "        output += (x ** power) * cValue\n",
    "    return output"
   ]
  },
  {
   "cell_type": "code",
   "execution_count": 15,
   "metadata": {},
   "outputs": [
    {
     "name": "stdout",
     "output_type": "stream",
     "text": [
      "9.7\n"
     ]
    }
   ],
   "source": [
    "c = [0.2, 0.4, 0.3]\n",
    "x = 5\n",
    "value = poly_value(x,c)\n",
    "print(value)"
   ]
  },
  {
   "cell_type": "markdown",
   "metadata": {},
   "source": [
    "#### Question 6: [BONUS]\n",
    "The given file `ages.txt` contains the ages of some passengers in a cruise ship. Write Python code to open the file and create a list of ages. Continue to write code to answer the following questions:\n",
    "1. What is the age of the youngest passenger?\n",
    "2. What is the age of the oldest passenger?\n",
    "3. What is the average age of all passengers?\n",
    "4. What is the median age such that there are equal numbers of passengers younger and older than the median age?\n",
    "5. Order the ages in ascending order. break the ages in ranges of 20. In which range were the largest number of passengers found?"
   ]
  },
  {
   "cell_type": "code",
   "execution_count": 18,
   "metadata": {},
   "outputs": [
    {
     "name": "stdout",
     "output_type": "stream",
     "text": [
      "1. Age of youngest passenger: 0.42\n",
      "2. Age of oldest passenger: 80.0\n",
      "3. Agerage age of all passengers: 29.69911764705882\n",
      "even\n",
      "4. Median age of all passengers: 28.0\n"
     ]
    },
    {
     "data": {
      "image/png": "[encoded data removed]",
      "text/plain": [
       "<Figure size 432x288 with 1 Axes>"
      ]
     },
     "metadata": {
      "needs_background": "light"
     },
     "output_type": "display_data"
    },
    {
     "name": "stdout",
     "output_type": "stream",
     "text": [
      "5. The largest number of passengers were found in the range 20-40.\n"
     ]
    }
   ],
   "source": [
    "# Write your code and answers here\n",
    "\n",
    "file = open('ages.txt', 'r').read().split()\n",
    "ages = list(map(float, file))\n",
    "\n",
    "minAge = min(ages)\n",
    "print('1. Age of youngest passenger:', minAge)\n",
    "\n",
    "maxAge = max(ages)\n",
    "print('2. Age of oldest passenger:', maxAge)\n",
    "\n",
    "meanAge = sum(ages) / len(ages) #average is sum / number of elements\n",
    "print('3. Agerage age of all passengers:', meanAge)\n",
    "\n",
    "sortedAges = sorted(ages) # because you can't get the median without a sorted list\n",
    "medianAge = 0\n",
    "i = int(len(ages) / 2)\n",
    "if len(ages) % 2 == 0:\n",
    "    medianAge = (sortedAges[i] + sortedAges[i-1]) / 2\n",
    "else:\n",
    "    medianAge = sortedAges[i] #median is the one in the middle of the sorted list\n",
    "print('4. Median age of all passengers:', medianAge)\n",
    "\n",
    "# sum = 0\n",
    "# init = 1000000\n",
    "# for x in range(51):\n",
    "#     sum += (init + (x*100000))\n",
    "# print(sum)\n",
    "# print(sum/70)\n",
    "\n",
    "import numpy as np\n",
    "# print('5.', np.histogram(ages, [0,20,40,60,80,100]))\n",
    "\n",
    "import matplotlib.pyplot as plt\n",
    "\n",
    "_ = plt.hist(ages, bins = int(maxAge / 20)) # bins is maxAge / 20 because we need the ranges to be in 20\n",
    "plt.title('Ages')\n",
    "plt.show()\n",
    "print('5. ', 'The largest number of passengers were found in the range 20-40.')"
   ]
  },
  {
   "cell_type": "code",
   "execution_count": null,
   "metadata": {},
   "outputs": [],
   "source": []
  }
 ],
 "metadata": {
  "kernelspec": {
   "display_name": "Python 3",
   "language": "python",
   "name": "python3"
  },
  "language_info": {
   "codemirror_mode": {
    "name": "ipython",
    "version": 3
   },
   "file_extension": ".py",
   "mimetype": "text/x-python",
   "name": "python",
   "nbconvert_exporter": "python",
   "pygments_lexer": "ipython3",
   "version": "3.7.7"
  }
 },
 "nbformat": 4,
 "nbformat_minor": 4
}
