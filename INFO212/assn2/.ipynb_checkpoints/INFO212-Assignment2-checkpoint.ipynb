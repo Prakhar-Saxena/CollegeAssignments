{
 "cells": [
  {
   "cell_type": "markdown",
   "metadata": {},
   "source": [
    "<h1 style=\"text-align:center\"> Drexel University </h1>\n",
    "<h2 style = \"text-align:center\"> College of Computing and Informatics</h2>\n",
    "<h2 style = \"text-align:center\">INFO 212: Data Science Programming I</h2>\n",
    "<h3 style = \"text-align:center\">Assignment 2</h3>\n",
    "<div style=\"text-align:center; border-style:solid; padding: 10px\">\n",
    "<div style=\"font-weight:bold\">Due Date: Sunday, May 3, 2020</div>\n",
    "This assignment counts for 15% of the final grade\n",
    "</div>\n",
    "\n",
    "<h3 style=\"color:red; font-weight:bold; text-decoration: underline\">DON'T FORGET TO PUT YOUR NAME BELOW</h3>\n",
    "\n",
    "### NAME: Prakhar Saxena\n",
    "\n",
    "\n",
    "### A. Assignment Overview\n",
    "This assignment provides the opportunity for you to practice with the capabilities in Python Numpy and Pandas. \n",
    "\n",
    "### B. What to Hand In\n",
    "\t\n",
    "Sumbit a completed this Jupyter notebook. \n",
    "\n",
    "### C. How to Hand In\n",
    "\n",
    "Submit your Jupyter notebook file through the course website in the Blackboard Learn system.\n",
    "\n",
    "### D. When to Hand In\n",
    "\n",
    "1. Submit your assignment no later than 11:59pm in the due date.\n",
    "2. There will be a 10% (absolute value) deduction for each day of lateness, to a maximum of 3 days; assignments will not be accepted beyond that point. Missing work will earn a zero grade.\n",
    "\n",
    "### E. Written Presentation Requirements (if applicable)\n",
    "Images must be clear and legible. Assignments will be judged on the basis of visual appearance, grammatical correctness, and quality of writing, as well as their contents. Please make sure that the text of your assignments is well-structured, using paragraphs, full sentences, and other features of well-written presentation.\n",
    "\n",
    "### F. Marking Schemes:\n",
    "\n",
    "Marking assignments will be based on several aspects: presentation, correctness and coding styles. \n",
    "\n",
    "For programming questions, 10% of the mark will be judged on the coding style. \n",
    "\n",
    "The following is a set of guidelines for the coding style in this course:\n",
    "1. Write good comments. \n",
    "2. Be consistent on naming conventions.  \n",
    "3. Put a blank space before and after every operator. \n",
    "4. When breaking up a long line, break it before an operator, not after. \n",
    "\n",
    "### G. Data Sets\n",
    "\n",
    "This assignment needs the data sets posted in the Week 3 module. Follow the instructions inside Week 3 module to download and unpack the \"Inflammation-data\" and \"Wine Reviews\" data sets.\n",
    "\n",
    "### H. Answer the following questions"
   ]
  },
  {
   "cell_type": "markdown",
   "metadata": {},
   "source": [
    "#### Question 1:\n",
    "Go to the Week 3 module on the course shell, download the zipped file \"inflammation-data.zip\" and unzip it in the \"datasets\" folder under \"info212.\" You should see a directory \"inflammation-data\" containing data files. Write a program to list all the inflammation csv files in the 'inflammation-data' directory and count the number of such files. An inflammation csv file has a name containing 'inflammation' and with extension '.csv'."
   ]
  },
  {
   "cell_type": "code",
   "execution_count": 1,
   "metadata": {},
   "outputs": [
    {
     "data": {
      "text/plain": [
       "['inflammation-01.csv',\n",
       " 'inflammation-02.csv',\n",
       " 'inflammation-03.csv',\n",
       " 'inflammation-04.csv',\n",
       " 'inflammation-05.csv',\n",
       " 'inflammation-06.csv',\n",
       " 'inflammation-07.csv',\n",
       " 'inflammation-08.csv',\n",
       " 'inflammation-09.csv',\n",
       " 'inflammation-10.csv',\n",
       " 'inflammation-11.csv',\n",
       " 'inflammation-12.csv',\n",
       " 'small-01.csv',\n",
       " 'small-02.csv',\n",
       " 'small-03.csv']"
      ]
     },
     "execution_count": 1,
     "metadata": {},
     "output_type": "execute_result"
    }
   ],
   "source": [
    "# Write your code below\n",
    "from os import listdir\n",
    "from os.path import isfile, join\n",
    "\n",
    "path = 'datasets/inflammation-data'\n",
    "files = [f for f in listdir(path) if isfile(join(path, f))]\n",
    "\n",
    "for file in files:\n",
    "    if not file.endswith('.csv'):\n",
    "        files.remove(file)\n",
    "files"
   ]
  },
  {
   "cell_type": "markdown",
   "metadata": {},
   "source": [
    "#### Question 2:\n",
    "Load the data in the file 'inflammation-05.csv' to an Numpy array. Answer the following questions:\n",
    "* Suppose the rows represent patients, and columns represent days. How many patients and how many days does the file contain?\n",
    "* Extract the values for the last 10 patients' inflammation in last 10 days.\n",
    "* For each patient, compute the average inflammation over all days. You should compute all patients' average inflammation values in single line. The result is an array. Plot all patients' averages and label the plot with \"Average Inflammation of Patients\". \n",
    "* For each day, compute the average inflammation over all patients. You should compute all the daily average inflammation values in a single line. The result is an array. Plot all daily averages and label the plot with \"Average Inflammation of Days\" "
   ]
  },
  {
   "cell_type": "code",
   "execution_count": 2,
   "metadata": {},
   "outputs": [],
   "source": [
    "import numpy as np\n",
    "from numpy import genfromtxt\n",
    "inflam5 = genfromtxt(path + '/inflammation-05.csv', delimiter=',')"
   ]
  },
  {
   "cell_type": "code",
   "execution_count": 3,
   "metadata": {},
   "outputs": [
    {
     "name": "stdout",
     "output_type": "stream",
     "text": [
      "patients: 60\n",
      "days: 40\n"
     ]
    }
   ],
   "source": [
    "# Suppose the rows represent patients, and columns represent days. How many patients and how many days does the file contain?\n",
    "print('patients:', len(inflam5))\n",
    "print('days:', len(inflam5[0]))"
   ]
  },
  {
   "cell_type": "code",
   "execution_count": 4,
   "metadata": {},
   "outputs": [
    {
     "name": "stdout",
     "output_type": "stream",
     "text": [
      "Last 10 patients' data:\n",
      " [[ 0.  1.  1.  0.  3.  4.  1.  7.  7.  4.  2.  8.  7. 12. 14.  8.  6.  8.\n",
      "  12. 15. 18.  8. 12. 17. 14.  4. 12.  7. 10.  8.  5.  2.  8.  4.  2.  4.\n",
      "   2.  0.  1.  0.]\n",
      " [ 0.  1.  1.  2.  2.  4.  5.  2.  7.  9.  7.  6. 10.  9.  9.  4. 16.  4.\n",
      "  11. 12.  6. 10. 16. 12.  7. 11. 14.  8. 12.  7.  6.  7.  8.  1.  4.  4.\n",
      "   1.  0.  2.  0.]\n",
      " [ 0.  0.  1.  3.  3.  1.  3.  3.  3.  2.  6.  9.  6.  3. 13. 15.  7. 16.\n",
      "  17. 15. 10. 16.  4. 17.  8. 13.  4. 10. 12.  3.  5.  7.  6.  6.  4.  3.\n",
      "   4.  0.  1.  0.]\n",
      " [ 0.  0.  0.  3.  2.  3.  2.  5.  8.  8.  7.  4.  8.  6.  8.  4.  8.  4.\n",
      "   4.  4.  9. 19.  8.  9.  7.  8. 10. 12.  4. 11.  8.  9.  6.  6.  6.  3.\n",
      "   3.  1.  1.  0.]\n",
      " [ 0.  0.  1.  2.  3.  5.  6.  4.  8.  4. 10.  7.  3.  6. 12.  6.  6. 15.\n",
      "   9. 19.  7. 15. 16. 11.  9.  9.  9.  6.  8.  2.  7.  7.  4.  5.  6.  4.\n",
      "   4.  0.  1.  1.]\n",
      " [ 0.  0.  1.  0.  1.  3.  5.  5.  5.  3.  4.  9. 10.  5.  6.  5. 13.  9.\n",
      "   4.  6.  5. 16.  5. 11.  5. 12. 10.  5.  7. 10.  6.  9.  6.  3.  4.  5.\n",
      "   3.  2.  0.  0.]\n",
      " [ 0.  1.  1.  1.  2.  2.  4.  1.  2.  8.  9.  8.  5. 11.  3. 12.  4.  7.\n",
      "   6.  7.  5.  5. 11. 12.  7. 12.  5.  8.  6. 10.  6.  7.  4.  2.  1.  4.\n",
      "   2.  1.  0.  1.]\n",
      " [ 0.  0.  2.  1.  3.  5.  6.  2.  3.  8.  6.  6.  3.  3. 11.  5.  4. 14.\n",
      "  10. 11.  5. 15. 10. 15. 13. 12. 13. 10.  3.  2.  2.  5.  7.  6.  1.  5.\n",
      "   4.  0.  1.  1.]\n",
      " [ 0.  1.  2.  3.  4.  5.  1.  2.  2.  6.  7.  2.  4.  8.  8. 14. 14.  9.\n",
      "  13. 13.  9.  8. 10. 17. 14. 15. 13. 13.  9.  4.  2.  6.  6.  3.  2.  5.\n",
      "   4.  1.  2.  1.]\n",
      " [ 0.  0.  1.  0.  3.  4.  4.  3.  3.  9.  3.  2.  8. 11.  8.  7.  9. 15.\n",
      "   7. 19. 16. 15.  6. 16.  5. 13.  9. 11.  5.  3.  6.  9.  5.  3.  3.  2.\n",
      "   4.  1.  0.  1.]]\n"
     ]
    }
   ],
   "source": [
    "# Extract the values for the last 10 patients' inflammation in last 10 days.\n",
    "print('Last 10 patients\\' data:\\n', inflam5[-10:][-10:])"
   ]
  },
  {
   "cell_type": "code",
   "execution_count": 5,
   "metadata": {},
   "outputs": [
    {
     "data": {
      "image/png": "[encoded data removed]",
      "text/plain": [
       "<Figure size 432x288 with 1 Axes>"
      ]
     },
     "metadata": {
      "needs_background": "light"
     },
     "output_type": "display_data"
    }
   ],
   "source": [
    "# For each patient, compute the average inflammation over all days.\n",
    "# You should compute all patients' average inflammation values in single line.\n",
    "# The result is an array.\n",
    "# Plot all patients' averages and label the plot with \"Average Inflammation of Patients\". \n",
    "import matplotlib.pyplot as plt\n",
    "\n",
    "# average = [np.mean(patientData) for patientData in inflam5]\n",
    "average = inflam5.mean(axis=1)\n",
    "\n",
    "y_pos = np.arange(len(average))\n",
    "plt.bar(y_pos, average, align='center', alpha=0.5)\n",
    "plt.ylabel('Inflamation Average')\n",
    "plt.xlabel('Patients')\n",
    "plt.title('Average Inflammation of Patients')\n",
    "plt.show()"
   ]
  },
  {
   "cell_type": "code",
   "execution_count": 6,
   "metadata": {},
   "outputs": [
    {
     "data": {
      "image/png": "[encoded data removed]",
      "text/plain": [
       "<Figure size 432x288 with 1 Axes>"
      ]
     },
     "metadata": {
      "needs_background": "light"
     },
     "output_type": "display_data"
    }
   ],
   "source": [
    "# For each day, compute the average inflammation over all patients.\n",
    "# You should compute all the daily average inflammation values in a single line.\n",
    "# The result is an array.\n",
    "# Plot all daily averages and label the plot with \"Average Inflammation of Days\"\n",
    "\n",
    "average = inflam5.mean(axis=0)\n",
    "y_pos = np.arange(len(average))\n",
    "plt.bar(y_pos, average, align='center', alpha=0.5)\n",
    "plt.ylabel('Inflamation Average')\n",
    "plt.xlabel('Days')\n",
    "plt.title('Average Inflammation of Days')\n",
    "plt.show()"
   ]
  },
  {
   "cell_type": "markdown",
   "metadata": {},
   "source": [
    "#### Qestion 3:\n",
    "Given the following list of file names: \n",
    "```\n",
    "filenames = ['inflammation-02.csv', 'inflammation-04.csv', 'inflammation-06.csv']\n",
    "```\n",
    "Write a program to plot the daily averages, maximums, and minimums of inflammation for each of the file. Your plot should have three rows each of which shows side-by-side plots of average, max, and min. The following figure illustrates the expected outcome:\n",
    "![](assignment2-question3.png)"
   ]
  },
  {
   "cell_type": "markdown",
   "metadata": {},
   "source": [
    "## I can't see the expected outcome, so I created a graph that made most sense to me."
   ]
  },
  {
   "cell_type": "code",
   "execution_count": 7,
   "metadata": {},
   "outputs": [
    {
     "data": {
      "image/png": "[encoded data removed]",
      "text/plain": [
       "<Figure size 432x288 with 1 Axes>"
      ]
     },
     "metadata": {
      "needs_background": "light"
     },
     "output_type": "display_data"
    }
   ],
   "source": [
    "inflam2 = genfromtxt(path + '/inflammation-02.csv', delimiter=',')\n",
    "inflam4 = genfromtxt(path + '/inflammation-04.csv', delimiter=',')\n",
    "inflam6 = genfromtxt(path + '/inflammation-06.csv', delimiter=',')\n",
    "inflam246 = np.vstack((inflam2, inflam4, inflam6))\n",
    "average = inflam246.mean(axis=0)\n",
    "maximum = inflam246.max(axis=0)\n",
    "minimum = inflam246.min(axis=0)\n",
    "\n",
    "x = np.arange(len(inflam246[0]))  # the label locations\n",
    "width = 0.3  # the width of the bars\n",
    "\n",
    "fig, ax = plt.subplots()\n",
    "rects1 = ax.bar(x - width/3, average, width, label='Average')\n",
    "rects2 = ax.bar(x + 2*width/3, maximum, width, label='Maximum')\n",
    "rects3 = ax.bar(x + 4*width/3, minimum, width, label='Minimum')\n",
    "\n",
    "# Add some text for labels, title and custom x-axis tick labels, etc.\n",
    "ax.set_ylabel('Inflammation')\n",
    "ax.set_xlabel('Days')\n",
    "ax.set_title('Inflammation Averages, Maximums and Minimums')\n",
    "ax.legend()\n",
    "\n",
    "plt.rcParams['figure.figsize'] = (10,6)\n",
    "\n",
    "plt.show()"
   ]
  },
  {
   "cell_type": "markdown",
   "metadata": {},
   "source": [
    "#### Question 4: \n",
    "Download the data file \"winemag-data-130k-v2.csv\" and load it into a Pandas DataFrame using the column 0 as index. This data set contains 130k reviews for different wine verieties. Answer the following questions:\n",
    "* What features do the reviews use? i.e. list all the column names.\n",
    "* What is the value of the 'description' column for the third view?\n",
    "* Select the country, province, region_1, and region_2 columns of the records at the 0, 1, 10, and 100 index positions.\n",
    "* Select all the reviews for wines made in 'Italy'. How many reviews are there for wines made in 'Italy'?\n",
    "* Suppose the 'points' column represents the rating of a wine. An above-averagely good wine has a value in 'points' equal or greater than 90. Between France and Italy, which country has more reviews for its above-averagely good wines?"
   ]
  },
  {
   "cell_type": "code",
   "execution_count": 8,
   "metadata": {},
   "outputs": [
    {
     "data": {
      "text/html": [
       "<div>\n",
       "<style scoped>\n",
       "    .dataframe tbody tr th:only-of-type {\n",
       "        vertical-align: middle;\n",
       "    }\n",
       "\n",
       "    .dataframe tbody tr th {\n",
       "        vertical-align: top;\n",
       "    }\n",
       "\n",
       "    .dataframe thead th {\n",
       "        text-align: right;\n",
       "    }\n",
       "</style>\n",
       "<table border=\"1\" class=\"dataframe\">\n",
       "  <thead>\n",
       "    <tr style=\"text-align: right;\">\n",
       "      <th></th>\n",
       "      <th>Unnamed: 0</th>\n",
       "      <th>country</th>\n",
       "      <th>description</th>\n",
       "      <th>designation</th>\n",
       "      <th>points</th>\n",
       "      <th>price</th>\n",
       "      <th>province</th>\n",
       "      <th>region_1</th>\n",
       "      <th>region_2</th>\n",
       "      <th>taster_name</th>\n",
       "      <th>taster_twitter_handle</th>\n",
       "      <th>title</th>\n",
       "      <th>variety</th>\n",
       "      <th>winery</th>\n",
       "    </tr>\n",
       "  </thead>\n",
       "  <tbody>\n",
       "    <tr>\n",
       "      <th>0</th>\n",
       "      <td>0</td>\n",
       "      <td>Italy</td>\n",
       "      <td>Aromas include tropical fruit, broom, brimston...</td>\n",
       "      <td>Vulkà Bianco</td>\n",
       "      <td>87</td>\n",
       "      <td>NaN</td>\n",
       "      <td>Sicily &amp; Sardinia</td>\n",
       "      <td>Etna</td>\n",
       "      <td>NaN</td>\n",
       "      <td>Kerin O’Keefe</td>\n",
       "      <td>@kerinokeefe</td>\n",
       "      <td>Nicosia 2013 Vulkà Bianco  (Etna)</td>\n",
       "      <td>White Blend</td>\n",
       "      <td>Nicosia</td>\n",
       "    </tr>\n",
       "    <tr>\n",
       "      <th>1</th>\n",
       "      <td>1</td>\n",
       "      <td>Portugal</td>\n",
       "      <td>This is ripe and fruity, a wine that is smooth...</td>\n",
       "      <td>Avidagos</td>\n",
       "      <td>87</td>\n",
       "      <td>15.0</td>\n",
       "      <td>Douro</td>\n",
       "      <td>NaN</td>\n",
       "      <td>NaN</td>\n",
       "      <td>Roger Voss</td>\n",
       "      <td>@vossroger</td>\n",
       "      <td>Quinta dos Avidagos 2011 Avidagos Red (Douro)</td>\n",
       "      <td>Portuguese Red</td>\n",
       "      <td>Quinta dos Avidagos</td>\n",
       "    </tr>\n",
       "    <tr>\n",
       "      <th>2</th>\n",
       "      <td>2</td>\n",
       "      <td>US</td>\n",
       "      <td>Tart and snappy, the flavors of lime flesh and...</td>\n",
       "      <td>NaN</td>\n",
       "      <td>87</td>\n",
       "      <td>14.0</td>\n",
       "      <td>Oregon</td>\n",
       "      <td>Willamette Valley</td>\n",
       "      <td>Willamette Valley</td>\n",
       "      <td>Paul Gregutt</td>\n",
       "      <td>@paulgwine</td>\n",
       "      <td>Rainstorm 2013 Pinot Gris (Willamette Valley)</td>\n",
       "      <td>Pinot Gris</td>\n",
       "      <td>Rainstorm</td>\n",
       "    </tr>\n",
       "    <tr>\n",
       "      <th>3</th>\n",
       "      <td>3</td>\n",
       "      <td>US</td>\n",
       "      <td>Pineapple rind, lemon pith and orange blossom ...</td>\n",
       "      <td>Reserve Late Harvest</td>\n",
       "      <td>87</td>\n",
       "      <td>13.0</td>\n",
       "      <td>Michigan</td>\n",
       "      <td>Lake Michigan Shore</td>\n",
       "      <td>NaN</td>\n",
       "      <td>Alexander Peartree</td>\n",
       "      <td>NaN</td>\n",
       "      <td>St. Julian 2013 Reserve Late Harvest Riesling ...</td>\n",
       "      <td>Riesling</td>\n",
       "      <td>St. Julian</td>\n",
       "    </tr>\n",
       "    <tr>\n",
       "      <th>4</th>\n",
       "      <td>4</td>\n",
       "      <td>US</td>\n",
       "      <td>Much like the regular bottling from 2012, this...</td>\n",
       "      <td>Vintner's Reserve Wild Child Block</td>\n",
       "      <td>87</td>\n",
       "      <td>65.0</td>\n",
       "      <td>Oregon</td>\n",
       "      <td>Willamette Valley</td>\n",
       "      <td>Willamette Valley</td>\n",
       "      <td>Paul Gregutt</td>\n",
       "      <td>@paulgwine</td>\n",
       "      <td>Sweet Cheeks 2012 Vintner's Reserve Wild Child...</td>\n",
       "      <td>Pinot Noir</td>\n",
       "      <td>Sweet Cheeks</td>\n",
       "    </tr>\n",
       "  </tbody>\n",
       "</table>\n",
       "</div>"
      ],
      "text/plain": [
       "   Unnamed: 0   country                                        description  \\\n",
       "0           0     Italy  Aromas include tropical fruit, broom, brimston...   \n",
       "1           1  Portugal  This is ripe and fruity, a wine that is smooth...   \n",
       "2           2        US  Tart and snappy, the flavors of lime flesh and...   \n",
       "3           3        US  Pineapple rind, lemon pith and orange blossom ...   \n",
       "4           4        US  Much like the regular bottling from 2012, this...   \n",
       "\n",
       "                          designation  points  price           province  \\\n",
       "0                        Vulkà Bianco      87    NaN  Sicily & Sardinia   \n",
       "1                            Avidagos      87   15.0              Douro   \n",
       "2                                 NaN      87   14.0             Oregon   \n",
       "3                Reserve Late Harvest      87   13.0           Michigan   \n",
       "4  Vintner's Reserve Wild Child Block      87   65.0             Oregon   \n",
       "\n",
       "              region_1           region_2         taster_name  \\\n",
       "0                 Etna                NaN       Kerin O’Keefe   \n",
       "1                  NaN                NaN          Roger Voss   \n",
       "2    Willamette Valley  Willamette Valley        Paul Gregutt   \n",
       "3  Lake Michigan Shore                NaN  Alexander Peartree   \n",
       "4    Willamette Valley  Willamette Valley        Paul Gregutt   \n",
       "\n",
       "  taster_twitter_handle                                              title  \\\n",
       "0          @kerinokeefe                  Nicosia 2013 Vulkà Bianco  (Etna)   \n",
       "1            @vossroger      Quinta dos Avidagos 2011 Avidagos Red (Douro)   \n",
       "2           @paulgwine       Rainstorm 2013 Pinot Gris (Willamette Valley)   \n",
       "3                   NaN  St. Julian 2013 Reserve Late Harvest Riesling ...   \n",
       "4           @paulgwine   Sweet Cheeks 2012 Vintner's Reserve Wild Child...   \n",
       "\n",
       "          variety               winery  \n",
       "0     White Blend              Nicosia  \n",
       "1  Portuguese Red  Quinta dos Avidagos  \n",
       "2      Pinot Gris            Rainstorm  \n",
       "3        Riesling           St. Julian  \n",
       "4      Pinot Noir         Sweet Cheeks  "
      ]
     },
     "execution_count": 8,
     "metadata": {},
     "output_type": "execute_result"
    }
   ],
   "source": [
    "# Write your code here.\n",
    "import pandas as pd\n",
    "df = pd.read_csv('winemag-data-130k-v2.csv')\n",
    "df.head()"
   ]
  },
  {
   "cell_type": "code",
   "execution_count": 9,
   "metadata": {},
   "outputs": [
    {
     "data": {
      "text/plain": [
       "['Unnamed: 0',\n",
       " 'country',\n",
       " 'description',\n",
       " 'designation',\n",
       " 'points',\n",
       " 'price',\n",
       " 'province',\n",
       " 'region_1',\n",
       " 'region_2',\n",
       " 'taster_name',\n",
       " 'taster_twitter_handle',\n",
       " 'title',\n",
       " 'variety',\n",
       " 'winery']"
      ]
     },
     "execution_count": 9,
     "metadata": {},
     "output_type": "execute_result"
    }
   ],
   "source": [
    "# What features do the reviews use? i.e. list all the column names.\n",
    "list(df.columns.values)"
   ]
  },
  {
   "cell_type": "code",
   "execution_count": 10,
   "metadata": {},
   "outputs": [
    {
     "data": {
      "text/plain": [
       "'Tart and snappy, the flavors of lime flesh and rind dominate. Some green pineapple pokes through, with crisp acidity underscoring the flavors. The wine was all stainless-steel fermented.'"
      ]
     },
     "execution_count": 10,
     "metadata": {},
     "output_type": "execute_result"
    }
   ],
   "source": [
    "# What is the value of the 'description' column for the third view?\n",
    "df['description'][2]"
   ]
  },
  {
   "cell_type": "code",
   "execution_count": 11,
   "metadata": {},
   "outputs": [
    {
     "data": {
      "text/html": [
       "<div>\n",
       "<style scoped>\n",
       "    .dataframe tbody tr th:only-of-type {\n",
       "        vertical-align: middle;\n",
       "    }\n",
       "\n",
       "    .dataframe tbody tr th {\n",
       "        vertical-align: top;\n",
       "    }\n",
       "\n",
       "    .dataframe thead th {\n",
       "        text-align: right;\n",
       "    }\n",
       "</style>\n",
       "<table border=\"1\" class=\"dataframe\">\n",
       "  <thead>\n",
       "    <tr style=\"text-align: right;\">\n",
       "      <th></th>\n",
       "      <th>country</th>\n",
       "      <th>province</th>\n",
       "      <th>region_1</th>\n",
       "      <th>region_2</th>\n",
       "    </tr>\n",
       "  </thead>\n",
       "  <tbody>\n",
       "    <tr>\n",
       "      <th>0</th>\n",
       "      <td>Italy</td>\n",
       "      <td>Sicily &amp; Sardinia</td>\n",
       "      <td>Etna</td>\n",
       "      <td>NaN</td>\n",
       "    </tr>\n",
       "    <tr>\n",
       "      <th>1</th>\n",
       "      <td>Portugal</td>\n",
       "      <td>Douro</td>\n",
       "      <td>NaN</td>\n",
       "      <td>NaN</td>\n",
       "    </tr>\n",
       "    <tr>\n",
       "      <th>10</th>\n",
       "      <td>US</td>\n",
       "      <td>California</td>\n",
       "      <td>Napa Valley</td>\n",
       "      <td>Napa</td>\n",
       "    </tr>\n",
       "    <tr>\n",
       "      <th>100</th>\n",
       "      <td>US</td>\n",
       "      <td>New York</td>\n",
       "      <td>Finger Lakes</td>\n",
       "      <td>Finger Lakes</td>\n",
       "    </tr>\n",
       "  </tbody>\n",
       "</table>\n",
       "</div>"
      ],
      "text/plain": [
       "      country           province      region_1      region_2\n",
       "0       Italy  Sicily & Sardinia          Etna           NaN\n",
       "1    Portugal              Douro           NaN           NaN\n",
       "10         US         California   Napa Valley          Napa\n",
       "100        US           New York  Finger Lakes  Finger Lakes"
      ]
     },
     "execution_count": 11,
     "metadata": {},
     "output_type": "execute_result"
    }
   ],
   "source": [
    "# Select the country, province, region_1, and region_2 columns of the records at the 0, 1, 10, and 100 index positions.\n",
    "df[['country', 'province', 'region_1', 'region_2']].query('index in [0,1,10,100]')"
   ]
  },
  {
   "cell_type": "code",
   "execution_count": 12,
   "metadata": {},
   "outputs": [
    {
     "data": {
      "text/html": [
       "<div>\n",
       "<style scoped>\n",
       "    .dataframe tbody tr th:only-of-type {\n",
       "        vertical-align: middle;\n",
       "    }\n",
       "\n",
       "    .dataframe tbody tr th {\n",
       "        vertical-align: top;\n",
       "    }\n",
       "\n",
       "    .dataframe thead th {\n",
       "        text-align: right;\n",
       "    }\n",
       "</style>\n",
       "<table border=\"1\" class=\"dataframe\">\n",
       "  <thead>\n",
       "    <tr style=\"text-align: right;\">\n",
       "      <th></th>\n",
       "      <th>Unnamed: 0</th>\n",
       "      <th>country</th>\n",
       "      <th>description</th>\n",
       "      <th>designation</th>\n",
       "      <th>points</th>\n",
       "      <th>price</th>\n",
       "      <th>province</th>\n",
       "      <th>region_1</th>\n",
       "      <th>region_2</th>\n",
       "      <th>taster_name</th>\n",
       "      <th>taster_twitter_handle</th>\n",
       "      <th>title</th>\n",
       "      <th>variety</th>\n",
       "      <th>winery</th>\n",
       "    </tr>\n",
       "  </thead>\n",
       "  <tbody>\n",
       "    <tr>\n",
       "      <th>0</th>\n",
       "      <td>0</td>\n",
       "      <td>Italy</td>\n",
       "      <td>Aromas include tropical fruit, broom, brimston...</td>\n",
       "      <td>Vulkà Bianco</td>\n",
       "      <td>87</td>\n",
       "      <td>NaN</td>\n",
       "      <td>Sicily &amp; Sardinia</td>\n",
       "      <td>Etna</td>\n",
       "      <td>NaN</td>\n",
       "      <td>Kerin O’Keefe</td>\n",
       "      <td>@kerinokeefe</td>\n",
       "      <td>Nicosia 2013 Vulkà Bianco  (Etna)</td>\n",
       "      <td>White Blend</td>\n",
       "      <td>Nicosia</td>\n",
       "    </tr>\n",
       "    <tr>\n",
       "      <th>6</th>\n",
       "      <td>6</td>\n",
       "      <td>Italy</td>\n",
       "      <td>Here's a bright, informal red that opens with ...</td>\n",
       "      <td>Belsito</td>\n",
       "      <td>87</td>\n",
       "      <td>16.0</td>\n",
       "      <td>Sicily &amp; Sardinia</td>\n",
       "      <td>Vittoria</td>\n",
       "      <td>NaN</td>\n",
       "      <td>Kerin O’Keefe</td>\n",
       "      <td>@kerinokeefe</td>\n",
       "      <td>Terre di Giurfo 2013 Belsito Frappato (Vittoria)</td>\n",
       "      <td>Frappato</td>\n",
       "      <td>Terre di Giurfo</td>\n",
       "    </tr>\n",
       "    <tr>\n",
       "      <th>13</th>\n",
       "      <td>13</td>\n",
       "      <td>Italy</td>\n",
       "      <td>This is dominated by oak and oak-driven aromas...</td>\n",
       "      <td>Rosso</td>\n",
       "      <td>87</td>\n",
       "      <td>NaN</td>\n",
       "      <td>Sicily &amp; Sardinia</td>\n",
       "      <td>Etna</td>\n",
       "      <td>NaN</td>\n",
       "      <td>Kerin O’Keefe</td>\n",
       "      <td>@kerinokeefe</td>\n",
       "      <td>Masseria Setteporte 2012 Rosso  (Etna)</td>\n",
       "      <td>Nerello Mascalese</td>\n",
       "      <td>Masseria Setteporte</td>\n",
       "    </tr>\n",
       "    <tr>\n",
       "      <th>22</th>\n",
       "      <td>22</td>\n",
       "      <td>Italy</td>\n",
       "      <td>Delicate aromas recall white flower and citrus...</td>\n",
       "      <td>Ficiligno</td>\n",
       "      <td>87</td>\n",
       "      <td>19.0</td>\n",
       "      <td>Sicily &amp; Sardinia</td>\n",
       "      <td>Sicilia</td>\n",
       "      <td>NaN</td>\n",
       "      <td>Kerin O’Keefe</td>\n",
       "      <td>@kerinokeefe</td>\n",
       "      <td>Baglio di Pianetto 2007 Ficiligno White (Sicilia)</td>\n",
       "      <td>White Blend</td>\n",
       "      <td>Baglio di Pianetto</td>\n",
       "    </tr>\n",
       "    <tr>\n",
       "      <th>24</th>\n",
       "      <td>24</td>\n",
       "      <td>Italy</td>\n",
       "      <td>Aromas of prune, blackcurrant, toast and oak c...</td>\n",
       "      <td>Aynat</td>\n",
       "      <td>87</td>\n",
       "      <td>35.0</td>\n",
       "      <td>Sicily &amp; Sardinia</td>\n",
       "      <td>Sicilia</td>\n",
       "      <td>NaN</td>\n",
       "      <td>Kerin O’Keefe</td>\n",
       "      <td>@kerinokeefe</td>\n",
       "      <td>Canicattì 2009 Aynat Nero d'Avola (Sicilia)</td>\n",
       "      <td>Nero d'Avola</td>\n",
       "      <td>Canicattì</td>\n",
       "    </tr>\n",
       "    <tr>\n",
       "      <th>...</th>\n",
       "      <td>...</td>\n",
       "      <td>...</td>\n",
       "      <td>...</td>\n",
       "      <td>...</td>\n",
       "      <td>...</td>\n",
       "      <td>...</td>\n",
       "      <td>...</td>\n",
       "      <td>...</td>\n",
       "      <td>...</td>\n",
       "      <td>...</td>\n",
       "      <td>...</td>\n",
       "      <td>...</td>\n",
       "      <td>...</td>\n",
       "      <td>...</td>\n",
       "    </tr>\n",
       "    <tr>\n",
       "      <th>129929</th>\n",
       "      <td>129929</td>\n",
       "      <td>Italy</td>\n",
       "      <td>This luminous sparkler has a sweet, fruit-forw...</td>\n",
       "      <td>NaN</td>\n",
       "      <td>91</td>\n",
       "      <td>38.0</td>\n",
       "      <td>Veneto</td>\n",
       "      <td>Prosecco Superiore di Cartizze</td>\n",
       "      <td>NaN</td>\n",
       "      <td>NaN</td>\n",
       "      <td>NaN</td>\n",
       "      <td>Col Vetoraz Spumanti NV  Prosecco Superiore di...</td>\n",
       "      <td>Prosecco</td>\n",
       "      <td>Col Vetoraz Spumanti</td>\n",
       "    </tr>\n",
       "    <tr>\n",
       "      <th>129943</th>\n",
       "      <td>129943</td>\n",
       "      <td>Italy</td>\n",
       "      <td>A blend of Nero d'Avola and Syrah, this convey...</td>\n",
       "      <td>Adènzia</td>\n",
       "      <td>90</td>\n",
       "      <td>29.0</td>\n",
       "      <td>Sicily &amp; Sardinia</td>\n",
       "      <td>Sicilia</td>\n",
       "      <td>NaN</td>\n",
       "      <td>Kerin O’Keefe</td>\n",
       "      <td>@kerinokeefe</td>\n",
       "      <td>Baglio del Cristo di Campobello 2012 Adènzia R...</td>\n",
       "      <td>Red Blend</td>\n",
       "      <td>Baglio del Cristo di Campobello</td>\n",
       "    </tr>\n",
       "    <tr>\n",
       "      <th>129947</th>\n",
       "      <td>129947</td>\n",
       "      <td>Italy</td>\n",
       "      <td>A blend of 65% Cabernet Sauvignon, 30% Merlot ...</td>\n",
       "      <td>Symposio</td>\n",
       "      <td>90</td>\n",
       "      <td>20.0</td>\n",
       "      <td>Sicily &amp; Sardinia</td>\n",
       "      <td>Terre Siciliane</td>\n",
       "      <td>NaN</td>\n",
       "      <td>Kerin O’Keefe</td>\n",
       "      <td>@kerinokeefe</td>\n",
       "      <td>Feudo Principi di Butera 2012 Symposio Red (Te...</td>\n",
       "      <td>Red Blend</td>\n",
       "      <td>Feudo Principi di Butera</td>\n",
       "    </tr>\n",
       "    <tr>\n",
       "      <th>129961</th>\n",
       "      <td>129961</td>\n",
       "      <td>Italy</td>\n",
       "      <td>Intense aromas of wild cherry, baking spice, t...</td>\n",
       "      <td>NaN</td>\n",
       "      <td>90</td>\n",
       "      <td>30.0</td>\n",
       "      <td>Sicily &amp; Sardinia</td>\n",
       "      <td>Sicilia</td>\n",
       "      <td>NaN</td>\n",
       "      <td>Kerin O’Keefe</td>\n",
       "      <td>@kerinokeefe</td>\n",
       "      <td>COS 2013 Frappato (Sicilia)</td>\n",
       "      <td>Frappato</td>\n",
       "      <td>COS</td>\n",
       "    </tr>\n",
       "    <tr>\n",
       "      <th>129962</th>\n",
       "      <td>129962</td>\n",
       "      <td>Italy</td>\n",
       "      <td>Blackberry, cassis, grilled herb and toasted a...</td>\n",
       "      <td>Sàgana Tenuta San Giacomo</td>\n",
       "      <td>90</td>\n",
       "      <td>40.0</td>\n",
       "      <td>Sicily &amp; Sardinia</td>\n",
       "      <td>Sicilia</td>\n",
       "      <td>NaN</td>\n",
       "      <td>Kerin O’Keefe</td>\n",
       "      <td>@kerinokeefe</td>\n",
       "      <td>Cusumano 2012 Sàgana Tenuta San Giacomo Nero d...</td>\n",
       "      <td>Nero d'Avola</td>\n",
       "      <td>Cusumano</td>\n",
       "    </tr>\n",
       "  </tbody>\n",
       "</table>\n",
       "<p>19540 rows × 14 columns</p>\n",
       "</div>"
      ],
      "text/plain": [
       "        Unnamed: 0 country                                        description  \\\n",
       "0                0   Italy  Aromas include tropical fruit, broom, brimston...   \n",
       "6                6   Italy  Here's a bright, informal red that opens with ...   \n",
       "13              13   Italy  This is dominated by oak and oak-driven aromas...   \n",
       "22              22   Italy  Delicate aromas recall white flower and citrus...   \n",
       "24              24   Italy  Aromas of prune, blackcurrant, toast and oak c...   \n",
       "...            ...     ...                                                ...   \n",
       "129929      129929   Italy  This luminous sparkler has a sweet, fruit-forw...   \n",
       "129943      129943   Italy  A blend of Nero d'Avola and Syrah, this convey...   \n",
       "129947      129947   Italy  A blend of 65% Cabernet Sauvignon, 30% Merlot ...   \n",
       "129961      129961   Italy  Intense aromas of wild cherry, baking spice, t...   \n",
       "129962      129962   Italy  Blackberry, cassis, grilled herb and toasted a...   \n",
       "\n",
       "                      designation  points  price           province  \\\n",
       "0                    Vulkà Bianco      87    NaN  Sicily & Sardinia   \n",
       "6                         Belsito      87   16.0  Sicily & Sardinia   \n",
       "13                          Rosso      87    NaN  Sicily & Sardinia   \n",
       "22                      Ficiligno      87   19.0  Sicily & Sardinia   \n",
       "24                          Aynat      87   35.0  Sicily & Sardinia   \n",
       "...                           ...     ...    ...                ...   \n",
       "129929                        NaN      91   38.0             Veneto   \n",
       "129943                    Adènzia      90   29.0  Sicily & Sardinia   \n",
       "129947                   Symposio      90   20.0  Sicily & Sardinia   \n",
       "129961                        NaN      90   30.0  Sicily & Sardinia   \n",
       "129962  Sàgana Tenuta San Giacomo      90   40.0  Sicily & Sardinia   \n",
       "\n",
       "                              region_1 region_2    taster_name  \\\n",
       "0                                 Etna      NaN  Kerin O’Keefe   \n",
       "6                             Vittoria      NaN  Kerin O’Keefe   \n",
       "13                                Etna      NaN  Kerin O’Keefe   \n",
       "22                             Sicilia      NaN  Kerin O’Keefe   \n",
       "24                             Sicilia      NaN  Kerin O’Keefe   \n",
       "...                                ...      ...            ...   \n",
       "129929  Prosecco Superiore di Cartizze      NaN            NaN   \n",
       "129943                         Sicilia      NaN  Kerin O’Keefe   \n",
       "129947                 Terre Siciliane      NaN  Kerin O’Keefe   \n",
       "129961                         Sicilia      NaN  Kerin O’Keefe   \n",
       "129962                         Sicilia      NaN  Kerin O’Keefe   \n",
       "\n",
       "       taster_twitter_handle  \\\n",
       "0               @kerinokeefe   \n",
       "6               @kerinokeefe   \n",
       "13              @kerinokeefe   \n",
       "22              @kerinokeefe   \n",
       "24              @kerinokeefe   \n",
       "...                      ...   \n",
       "129929                   NaN   \n",
       "129943          @kerinokeefe   \n",
       "129947          @kerinokeefe   \n",
       "129961          @kerinokeefe   \n",
       "129962          @kerinokeefe   \n",
       "\n",
       "                                                    title            variety  \\\n",
       "0                       Nicosia 2013 Vulkà Bianco  (Etna)        White Blend   \n",
       "6        Terre di Giurfo 2013 Belsito Frappato (Vittoria)           Frappato   \n",
       "13                 Masseria Setteporte 2012 Rosso  (Etna)  Nerello Mascalese   \n",
       "22      Baglio di Pianetto 2007 Ficiligno White (Sicilia)        White Blend   \n",
       "24            Canicattì 2009 Aynat Nero d'Avola (Sicilia)       Nero d'Avola   \n",
       "...                                                   ...                ...   \n",
       "129929  Col Vetoraz Spumanti NV  Prosecco Superiore di...           Prosecco   \n",
       "129943  Baglio del Cristo di Campobello 2012 Adènzia R...          Red Blend   \n",
       "129947  Feudo Principi di Butera 2012 Symposio Red (Te...          Red Blend   \n",
       "129961                        COS 2013 Frappato (Sicilia)           Frappato   \n",
       "129962  Cusumano 2012 Sàgana Tenuta San Giacomo Nero d...       Nero d'Avola   \n",
       "\n",
       "                                 winery  \n",
       "0                               Nicosia  \n",
       "6                       Terre di Giurfo  \n",
       "13                  Masseria Setteporte  \n",
       "22                   Baglio di Pianetto  \n",
       "24                            Canicattì  \n",
       "...                                 ...  \n",
       "129929             Col Vetoraz Spumanti  \n",
       "129943  Baglio del Cristo di Campobello  \n",
       "129947         Feudo Principi di Butera  \n",
       "129961                              COS  \n",
       "129962                         Cusumano  \n",
       "\n",
       "[19540 rows x 14 columns]"
      ]
     },
     "execution_count": 12,
     "metadata": {},
     "output_type": "execute_result"
    }
   ],
   "source": [
    "# Select all the reviews for wines made in 'Italy'. How many reviews are there for wines made in 'Italy'?\n",
    "df.query('country == \"Italy\"')"
   ]
  },
  {
   "cell_type": "code",
   "execution_count": 13,
   "metadata": {},
   "outputs": [
    {
     "name": "stdout",
     "output_type": "stream",
     "text": [
      "France! 6654\n"
     ]
    }
   ],
   "source": [
    "# Suppose the 'points' column represents the rating of a wine.\n",
    "# An above-averagely good wine has a value in 'points' equal or greater than 90.\n",
    "# Between France and Italy, which country has more reviews for its above-averagely good wines?\n",
    "france = df.query('points > 90 & country == \"France\"')\n",
    "italy = df.query('points > 90 & country == \"Italy\"')\n",
    "if france.shape[0] > italy.shape[0]:\n",
    "    print(\"France!\", france.shape[0])\n",
    "elif france.shape[0] < italy.shape[0]:\n",
    "    print(\"Italy!\", italy.shape[0])\n",
    "else:\n",
    "    print(\"Draw.\")"
   ]
  },
  {
   "cell_type": "markdown",
   "metadata": {},
   "source": [
    "#### Question 5:\n",
    "Continue to work on the DataFrame of wine review loaded in Question 4. Answer the following questions:\n",
    "* What countries are represented in the data set? i.e., list all the unique country names.\n",
    "* What are the top-10 countries with the most wine reviews?\n",
    "* What is the median of the price?\n",
    "* Create a new column 'price_norm' by subtracting the median price from the price column. Use the DataFrame.apply method.\n",
    "* Create a new column 'bargain' which contains the points-to-price ratio. Which wine(s) is/are the \"best bargain\", e.g., which wine(s) has/have the highest points-to-price ratio in the dataset?"
   ]
  },
  {
   "cell_type": "code",
   "execution_count": 14,
   "metadata": {},
   "outputs": [
    {
     "data": {
      "text/plain": [
       "array(['Italy', 'Portugal', 'US', 'Spain', 'France', 'Germany',\n",
       "       'Argentina', 'Chile', 'Australia', 'Austria', 'South Africa',\n",
       "       'New Zealand', 'Israel', 'Hungary', 'Greece', 'Romania', 'Mexico',\n",
       "       'Canada', nan, 'Turkey', 'Czech Republic', 'Slovenia',\n",
       "       'Luxembourg', 'Croatia', 'Georgia', 'Uruguay', 'England',\n",
       "       'Lebanon', 'Serbia', 'Brazil', 'Moldova', 'Morocco', 'Peru',\n",
       "       'India', 'Bulgaria', 'Cyprus', 'Armenia', 'Switzerland',\n",
       "       'Bosnia and Herzegovina', 'Ukraine', 'Slovakia', 'Macedonia',\n",
       "       'China', 'Egypt'], dtype=object)"
      ]
     },
     "execution_count": 14,
     "metadata": {},
     "output_type": "execute_result"
    }
   ],
   "source": [
    "# What countries are represented in the data set? i.e., list all the unique country names.\n",
    "df['country'].unique()"
   ]
  },
  {
   "cell_type": "code",
   "execution_count": 15,
   "metadata": {},
   "outputs": [
    {
     "data": {
      "text/plain": [
       "['US',\n",
       " 'France',\n",
       " 'Italy',\n",
       " 'Spain',\n",
       " 'Portugal',\n",
       " 'Chile',\n",
       " 'Argentina',\n",
       " 'Austria',\n",
       " 'Australia',\n",
       " 'Germany']"
      ]
     },
     "execution_count": 15,
     "metadata": {},
     "output_type": "execute_result"
    }
   ],
   "source": [
    "# What are the top-10 countries with the most wine reviews?\n",
    "df['country'].value_counts()[:10].index.tolist()"
   ]
  },
  {
   "cell_type": "code",
   "execution_count": 16,
   "metadata": {},
   "outputs": [
    {
     "data": {
      "text/plain": [
       "25.0"
      ]
     },
     "execution_count": 16,
     "metadata": {},
     "output_type": "execute_result"
    }
   ],
   "source": [
    "# What is the median of the price?\n",
    "df['price'].median()"
   ]
  },
  {
   "cell_type": "code",
   "execution_count": 17,
   "metadata": {
    "scrolled": true
   },
   "outputs": [],
   "source": [
    "# Create a new column 'price_norm' by subtracting the median price from the price column.\n",
    "# Use the DataFrame.apply method."
   ]
  },
  {
   "cell_type": "markdown",
   "metadata": {},
   "source": [
    "## Datafram.apply method is for applying a function on each row or column.."
   ]
  },
  {
   "cell_type": "code",
   "execution_count": 18,
   "metadata": {},
   "outputs": [
    {
     "data": {
      "text/plain": [
       "0          NaN\n",
       "1        -10.0\n",
       "2        -11.0\n",
       "3        -12.0\n",
       "4         40.0\n",
       "          ... \n",
       "129966     3.0\n",
       "129967    50.0\n",
       "129968     5.0\n",
       "129969     7.0\n",
       "129970    -4.0\n",
       "Name: price_norm, Length: 129971, dtype: float64"
      ]
     },
     "execution_count": 18,
     "metadata": {},
     "output_type": "execute_result"
    }
   ],
   "source": [
    "df['price_norm'] = df['price'] - df['price'].median()\n",
    "df['price_norm']"
   ]
  },
  {
   "cell_type": "code",
   "execution_count": 19,
   "metadata": {},
   "outputs": [
    {
     "data": {
      "text/html": [
       "<div>\n",
       "<style scoped>\n",
       "    .dataframe tbody tr th:only-of-type {\n",
       "        vertical-align: middle;\n",
       "    }\n",
       "\n",
       "    .dataframe tbody tr th {\n",
       "        vertical-align: top;\n",
       "    }\n",
       "\n",
       "    .dataframe thead th {\n",
       "        text-align: right;\n",
       "    }\n",
       "</style>\n",
       "<table border=\"1\" class=\"dataframe\">\n",
       "  <thead>\n",
       "    <tr style=\"text-align: right;\">\n",
       "      <th></th>\n",
       "      <th>Unnamed: 0</th>\n",
       "      <th>country</th>\n",
       "      <th>description</th>\n",
       "      <th>designation</th>\n",
       "      <th>points</th>\n",
       "      <th>price</th>\n",
       "      <th>province</th>\n",
       "      <th>region_1</th>\n",
       "      <th>region_2</th>\n",
       "      <th>taster_name</th>\n",
       "      <th>taster_twitter_handle</th>\n",
       "      <th>title</th>\n",
       "      <th>variety</th>\n",
       "      <th>winery</th>\n",
       "      <th>price_norm</th>\n",
       "      <th>bargain</th>\n",
       "    </tr>\n",
       "  </thead>\n",
       "  <tbody>\n",
       "    <tr>\n",
       "      <th>64590</th>\n",
       "      <td>64590</td>\n",
       "      <td>US</td>\n",
       "      <td>There's a lot going on in this Merlot, which i...</td>\n",
       "      <td>NaN</td>\n",
       "      <td>86</td>\n",
       "      <td>4.0</td>\n",
       "      <td>California</td>\n",
       "      <td>California</td>\n",
       "      <td>California Other</td>\n",
       "      <td>NaN</td>\n",
       "      <td>NaN</td>\n",
       "      <td>Bandit NV Merlot (California)</td>\n",
       "      <td>Merlot</td>\n",
       "      <td>Bandit</td>\n",
       "      <td>-21.0</td>\n",
       "      <td>21.5</td>\n",
       "    </tr>\n",
       "    <tr>\n",
       "      <th>126096</th>\n",
       "      <td>126096</td>\n",
       "      <td>Romania</td>\n",
       "      <td>Notes of sun-dried hay and green flower highli...</td>\n",
       "      <td>UnWineD</td>\n",
       "      <td>86</td>\n",
       "      <td>4.0</td>\n",
       "      <td>Viile Timisului</td>\n",
       "      <td>NaN</td>\n",
       "      <td>NaN</td>\n",
       "      <td>Anna Lee C. Iijima</td>\n",
       "      <td>NaN</td>\n",
       "      <td>Cramele Recas 2011 UnWineD Pinot Grigio (Viile...</td>\n",
       "      <td>Pinot Grigio</td>\n",
       "      <td>Cramele Recas</td>\n",
       "      <td>-21.0</td>\n",
       "      <td>21.5</td>\n",
       "    </tr>\n",
       "  </tbody>\n",
       "</table>\n",
       "</div>"
      ],
      "text/plain": [
       "        Unnamed: 0  country  \\\n",
       "64590        64590       US   \n",
       "126096      126096  Romania   \n",
       "\n",
       "                                              description designation  points  \\\n",
       "64590   There's a lot going on in this Merlot, which i...         NaN      86   \n",
       "126096  Notes of sun-dried hay and green flower highli...     UnWineD      86   \n",
       "\n",
       "        price         province    region_1          region_2  \\\n",
       "64590     4.0       California  California  California Other   \n",
       "126096    4.0  Viile Timisului         NaN               NaN   \n",
       "\n",
       "               taster_name taster_twitter_handle  \\\n",
       "64590                  NaN                   NaN   \n",
       "126096  Anna Lee C. Iijima                   NaN   \n",
       "\n",
       "                                                    title       variety  \\\n",
       "64590                       Bandit NV Merlot (California)        Merlot   \n",
       "126096  Cramele Recas 2011 UnWineD Pinot Grigio (Viile...  Pinot Grigio   \n",
       "\n",
       "               winery  price_norm  bargain  \n",
       "64590          Bandit       -21.0     21.5  \n",
       "126096  Cramele Recas       -21.0     21.5  "
      ]
     },
     "execution_count": 19,
     "metadata": {},
     "output_type": "execute_result"
    }
   ],
   "source": [
    "# Create a new column 'bargain' which contains the points-to-price ratio.\n",
    "# Which wine(s) is/are the \"best bargain\",\n",
    "# e.g., which wine(s) has/have the highest points-to-price ratio in the dataset?\\\n",
    "df['bargain'] = df['points'] / df['price']\n",
    "df[df['bargain']==df['bargain'].max()]"
   ]
  }
 ],
 "metadata": {
  "kernelspec": {
   "display_name": "Python 3",
   "language": "python",
   "name": "python3"
  },
  "language_info": {
   "codemirror_mode": {
    "name": "ipython",
    "version": 3
   },
   "file_extension": ".py",
   "mimetype": "text/x-python",
   "name": "python",
   "nbconvert_exporter": "python",
   "pygments_lexer": "ipython3",
   "version": "3.7.7"
  }
 },
 "nbformat": 4,
 "nbformat_minor": 4
}
