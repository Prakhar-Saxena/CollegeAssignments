{
 "cells": [
  {
   "cell_type": "markdown",
   "metadata": {},
   "source": [
    "<h1 style=\"text-align:center\"> Drexel University </h1>\n",
    "<h2 style = \"text-align:center\"> College of Computing and Informatics</h2>\n",
    "<h2 style = \"text-align:center\">INFO 212: Data Science Programming I</h2>\n",
    "<h3 style = \"text-align:center\">Assignment 3</h3>\n",
    "<div style=\"text-align:center; border-style:solid; padding: 10px\">\n",
    "<div style=\"font-weight:bold\">Due Date: Sunday, May 17, 2020</div>\n",
    "This assignment counts for 15% of the final grade\n",
    "</div>\n",
    "\n",
    "<h3 style=\"color:red; font-weight:bold; text-decoration: underline\">DON'T FORGET TO PUT YOUR NAME BELOW</h3>\n",
    "\n",
    "### NAME:\n",
    "\n",
    "\n",
    "### A. Assignment Overview\n",
    "This assignment provides the opportunity for you to practice with the capabilities of handling with external data in Python. \n",
    "\n",
    "### B. What to Hand In\n",
    "\t\n",
    "Sumbit a completed this Jupyter notebook. \n",
    "\n",
    "### C. How to Hand In\n",
    "\n",
    "Submit your Jupyter notebook file through the course website in the Blackboard Learn system.\n",
    "\n",
    "### D. When to Hand In\n",
    "\n",
    "1. Submit your assignment no later than 11:59pm in the due date.\n",
    "2. There will be a 10% (absolute value) deduction for each day of lateness, to a maximum of 3 days; assignments will not be accepted beyond that point. Missing work will earn a zero grade.\n",
    "\n",
    "### E. Written Presentation Requirements (if applicable)\n",
    "Images must be clear and legible. Assignments will be judged on the basis of visual appearance, grammatical correctness, and quality of writing, as well as their contents. Please make sure that the text of your assignments is well-structured, using paragraphs, full sentences, and other features of well-written presentation. Text font size should be either 11 or 12 points.\n",
    "\n",
    "### F. Marking Schemes:\n",
    "\n",
    "Marking assignments will be based on several aspects: presentation, correctness and coding styles. \n",
    "\n",
    "For programming questions, 10% of the mark will be judged on the coding style. \n",
    "\n",
    "The following is a set of guidelines for the coding style in this course:\n",
    "1. Write good comments. \n",
    "2. Be consistent on naming conventions.  \n",
    "3. Put a blank space before and after every operator. \n",
    "4. When breaking up a long line, break it before an operator, not after. \n",
    "\n",
    "\n",
    "### G. Data Sets\n",
    "\n",
    "This assignment needs the data sets specified in the questions. \n",
    "\n",
    "### H. Answer the following questions"
   ]
  },
  {
   "cell_type": "markdown",
   "metadata": {},
   "source": [
    "#### Question 1:\n",
    "\n",
    "Wikipedia has a Webpage: [List of countries by past and future population](https://en.wikipedia.org/wiki/List_of_countries_by_past_and_future_population). On this page, there are three tables containing the estimated populations from 1950 to 2050 for all the countries. Read the description on the Webpage to understand the information in the tables. Complete the steps below.\n",
    "- Download the Webpage as an HTML file in your disk. \n",
    "- Read in the tables using Pandas' `read_html` method. Answer the following question:\n",
    " * How many tables have you read in?\n",
    "- Show the first 5 rows of the DataFrame correpsonding to the table \"Estimates between the years 1950 and 1980 (in thousands)\"\n",
    "- How many countries does the Wikipedia page list their populations?\n",
    "- Create a DataFrame containing all the data from the population tables. I.e., the DataFrame contains the popultation and average annual growth data from 1950-2050. You need to combine the three population tables. \n",
    "- For the top 10 most populous countries at 1950, plot their population data from 1950-2050 (in 5-year interval). The plot should use years 1950-2050 as x axis, and population numbers as y axis. The following figure shows the expected result.\n",
    "![](https://i.imgur.com/6W9RuZO.png)\n",
    "- For the same top 10 most populous contries at 1950, plot the average annual growth for each previous five-year period starting from 1955 to 2050 in 5-year interval. The following figure shows the expected result. \n",
    "![](https://i.imgur.com/ImXjIo0.png)"
   ]
  },
  {
   "cell_type": "code",
   "execution_count": null,
   "metadata": {},
   "outputs": [],
   "source": []
  },
  {
   "cell_type": "markdown",
   "metadata": {},
   "source": [
    "#### Question 2:\n",
    "The file `nobelprize-laureate.json` is a JSON file containing the information about Nobel Prize laureates. Create a Pandas DataFrame from the JSON file and complete the following steps:\n",
    "- Answer the question: How many unique countries are listed in this dataset as the Nobel Prize laureates's birth countries?\n",
    "- Plot the top-20 birth countries in a bar chart showing the country names and the number of laureats born in the countries.\n",
    "- Starting from 1901 to the latest year in the dataset, extract the birth countries of the laureates at each year. Plot a bar chart showing the number of unique birth countries of the laureates over the years.\n",
    "![](https://i.imgur.com/1i84fS5.png)"
   ]
  },
  {
   "cell_type": "code",
   "execution_count": 30,
   "metadata": {},
   "outputs": [],
   "source": [
    "\n"
   ]
  }
 ],
 "metadata": {
  "kernelspec": {
   "display_name": "Python 3",
   "language": "python",
   "name": "python3"
  },
  "language_info": {
   "codemirror_mode": {
    "name": "ipython",
    "version": 3
   },
   "file_extension": ".py",
   "mimetype": "text/x-python",
   "name": "python",
   "nbconvert_exporter": "python",
   "pygments_lexer": "ipython3",
   "version": "3.7.7"
  }
 },
 "nbformat": 4,
 "nbformat_minor": 4
}
